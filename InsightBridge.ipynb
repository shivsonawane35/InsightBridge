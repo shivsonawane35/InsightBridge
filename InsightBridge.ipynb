{
 "cells": [
  {
   "cell_type": "markdown",
   "id": "f9a9faf1-156e-46d0-8e08-f4de8fe796fd",
   "metadata": {},
   "source": [
    "# **Project: InsightBridge**\n",
    "\n",
    "## **Objective**\n",
    "The objective of InsightBridge is to try and develop an interactive tool that:\n",
    "- Performs **sentiment analysis** on financial news to determine if the news is positive, negative, or neutral.\n",
    "- Conducts **topic modeling** to identify key themes in financial news articles (e.g., earnings, mergers).\n",
    "- Analyzes **correlations** between news sentiment and stock market movements.\n",
    "- Presents these insights through an **interactive Streamlit dashboard** for visualization and analysis.\n",
    "\n",
    "## **Features and Goals**\n",
    "- **Data Collection**: Gather financial news articles and stock price data using free APIs and resources.\n",
    "- **Data Preprocessing**: Clean and prepare data for effective analysis.\n",
    "- **Sentiment Analysis**: Analyze the tone of news articles to gauge market sentiment.\n",
    "- **Topic Modeling**: Extract key topics from the news to understand market drivers.\n",
    "- **Correlation Analysis**: Investigate how sentiment and specific topics relate to stock movements.\n",
    "- **Interactive Dashboard**: Develop a user-friendly interface with Streamlit to visualize sentiment, topics, and their effect on stock prices.\n"
   ]
  },
  {
   "cell_type": "markdown",
   "id": "87112a61-bae2-405c-abba-6fb179b2aa83",
   "metadata": {
    "jp-MarkdownHeadingCollapsed": true
   },
   "source": [
    "## **Libraries and Resources Overview**\n",
    "\n",
    "### **Python Libraries**\n",
    "We will use a variety of Python libraries in our projects. Here is a preliminary list:\n",
    "\n",
    "- **Data Handling and Analysis**:\n",
    "  - `pandas`: For data manipulation, cleaning, and merging datasets.\n",
    "  - `numpy`: For numerical computations and handling arrays.\n",
    "\n",
    "- **Data Collection**:\n",
    "  - `requests`: To collect financial news articles via NewsAPI.\n",
    "  - `yfinance`: To fetch historical stock price data from Yahoo Finance.\n",
    "\n",
    "- **Natural Language Processing (NLP)**:\n",
    "  - `NLTK`: For text preprocessing tasks such as tokenization, stop word removal, and lemmatization.\n",
    "  - `Gensim`: For **topic modeling** using LDA to extract themes from financial news articles.\n",
    "  - `VADER` from `NLTK`: For sentiment analysis of news articles, categorizing them as positive, negative, or neutral.\n",
    "\n",
    "- **Visualization**:\n",
    "  - `matplotlib`: For basic visualizations such as line graphs and scatter plots.\n",
    "  - `seaborn`: To create detailed, visually appealing charts to explore correlations.\n",
    "  - `wordcloud`: To create visual representations of the topics in the form of word clouds.\n",
    "\n",
    "- **Dashboard Development**:\n",
    "  - `Streamlit`: To create an interactive and user-friendly dashboard for visualizing all insights derived from sentiment analysis, topic modeling, and stock movements.\n",
    "\n",
    "### **Data Sources**\n",
    "- **NewsAPI**: To gather news articles related to financial topics. We will collect data such as article titles, descriptions, and publication dates.\n",
    "- **Yahoo Finance (`yfinance`)**: To gather historical stock price data for selected companies (e.g., Tesla, Apple).\n",
    "\n",
    "### **Additional Resources**\n",
    "- **Jupyter Notebook**: For development, data exploration, and documentation.\n",
    "- **Google Docs**: For collaboration and drafting documentation.\n",
    "- **GitHub**: For version control and collaborative coding.\n",
    "- **Streamlit Cloud**: For deploying our final dashboard online at no cost.\n",
    "\n",
    "> **Note**: This list is subject to change as we progress through the project, and additional tools or resources may be added based on the requirements we encounter.\n"
   ]
  },
  {
   "cell_type": "markdown",
   "id": "5340213e-1dff-4837-9cfa-59c9df50b3ac",
   "metadata": {},
   "source": [
    "# **Step 1: Data Collection**"
   ]
  },
  {
   "cell_type": "markdown",
   "id": "8cf992ff-d95e-49be-8563-25652478be13",
   "metadata": {},
   "source": [
    "## **1.1 Collecting Financial News Articles**"
   ]
  },
  {
   "cell_type": "markdown",
   "id": "c0b2a9b2-4efa-42af-9c12-5e00b7d5b59f",
   "metadata": {},
   "source": [
    "### **Objective**\n",
    "Gather financial news articles for analysis.\n"
   ]
  },
  {
   "cell_type": "markdown",
   "id": "36353257-993a-4819-9291-5c06921c90e6",
   "metadata": {},
   "source": [
    "### **Steps**"
   ]
  },
  {
   "cell_type": "markdown",
   "id": "550be153-28e4-406b-bdfa-c9cd2db51b71",
   "metadata": {},
   "source": [
    "#### **1. Sign Up for NewsAPI and Get API Key**\n",
    "- Going to [NewsAPI](https://newsapi.org/), sign up, and get our API key.\n",
    "- We will need this to access the news data."
   ]
  },
  {
   "cell_type": "markdown",
   "id": "ba83b43d-3823-4926-80e6-0e7047f04e8d",
   "metadata": {},
   "source": [
    "#### **2. Install Requests Library**\n"
   ]
  },
  {
   "cell_type": "code",
   "execution_count": 19,
   "id": "baa7cb50-be8a-4bff-9fdb-e8faad0ffada",
   "metadata": {},
   "outputs": [
    {
     "name": "stdout",
     "output_type": "stream",
     "text": [
      "/Users/shivsonawane/.zshenv:1: missing delimiter for 'u' glob qualifier\n",
      "Requirement already satisfied: requests in /opt/anaconda3/lib/python3.12/site-packages (2.32.2)\n",
      "Requirement already satisfied: charset-normalizer<4,>=2 in /opt/anaconda3/lib/python3.12/site-packages (from requests) (2.0.4)\n",
      "Requirement already satisfied: idna<4,>=2.5 in /opt/anaconda3/lib/python3.12/site-packages (from requests) (3.7)\n",
      "Requirement already satisfied: urllib3<3,>=1.21.1 in /opt/anaconda3/lib/python3.12/site-packages (from requests) (2.2.2)\n",
      "Requirement already satisfied: certifi>=2017.4.17 in /opt/anaconda3/lib/python3.12/site-packages (from requests) (2024.8.30)\n"
     ]
    }
   ],
   "source": [
    "# Installing the requests library so we are abel to interact with the NewsAPI\n",
    "!pip install requests\n"
   ]
  },
  {
   "cell_type": "markdown",
   "id": "9c6aa4fd-9465-4fe0-8706-1c6a6f2692e5",
   "metadata": {},
   "source": [
    "#### **3. Collecting News Articles**\n"
   ]
  },
  {
   "cell_type": "code",
   "execution_count": 247,
   "id": "3260690c-7014-4655-9bb5-82cf2e352f28",
   "metadata": {
    "scrolled": true
   },
   "outputs": [
    {
     "name": "stdout",
     "output_type": "stream",
     "text": [
      "Title: No Mercy for Samsung, Amazon Slashes the Price of the 990 PRO SSD for Cyber Monday\n",
      "Description: Rated 4.8/5 on Amazon, it is one of the best internal SSDs available on the market.\n",
      "Source: Gizmodo.com\n",
      "Published At: 2024-12-01T22:05:09Z\n",
      "========================================\n",
      "Title: To Make You Forget About MacBooks, Microsoft Slashes Prices on the 2024 Surface Laptops\n",
      "Description: Launched in June, Microsoft's Surface Laptops are among the most powerful computers on the market.\n",
      "Source: Gizmodo.com\n",
      "Published At: 2024-11-27T13:10:14Z\n",
      "========================================\n",
      "Title: Don’t Buy an Old MacBook For Less, The New MacBook Pro M4 Is at a Record Low Price For Black Friday\n",
      "Description: Launched in early November, these MacBook Pro M4 models are the top choice on the market right now.\n",
      "Source: Gizmodo.com\n",
      "Published At: 2024-11-27T19:06:51Z\n",
      "========================================\n",
      "Title: There are 2 looming risks that could spark a serious correction for the stock market, Moody's chief economist says\n",
      "Description: High stock prices mean the risk of a market correction is rising, Moody's Mark Zandi said.\n",
      "Source: Business Insider\n",
      "Published At: 2024-12-04T17:51:07Z\n",
      "========================================\n",
      "Title: ICE Started Ramping Up Its Surveillance Arsenal Immediately After Donald Trump Won\n",
      "Description: US Immigration and Customs Enforcement put out a fresh call for contracts for surveillance technologies before an anticipated surge in the number of people it monitors ahead of deportation hearings.\n",
      "Source: Wired\n",
      "Published At: 2024-11-13T12:00:00Z\n",
      "========================================\n",
      "Title: Freshly Back in Stock After Selling Out, The Pixel 9 Is Now on Sale Again on Amazon\n",
      "Description: While new iPhone models are never discounted, the Pixel 9 could very well be the best-seller this Black Friday.\n",
      "Source: Gizmodo.com\n",
      "Published At: 2024-11-27T15:23:11Z\n",
      "========================================\n",
      "Title: Amazon Slashes Pixel 9 Price to Record Low, Clearing Stock Just Before Black Friday\n",
      "Description: Launched in late August, this flagship from Google stands as a competitor to the iPhone 16 and Galaxy S24.\n",
      "Source: Gizmodo.com\n",
      "Published At: 2024-11-21T12:28:14Z\n",
      "========================================\n",
      "Title: This LG Laptop Competes With iPads And Is 50% Off, Amazon Is Clearing Out Its Stock\n",
      "Description: It can smoothly shift between laptop and tablet modes, thanks to its 360-degree hinge.\n",
      "Source: Gizmodo.com\n",
      "Published At: 2024-11-26T14:22:37Z\n",
      "========================================\n",
      "Title: Stock market today: Indexes slip after hitting records as investors await fresh economic data\n",
      "Description: Investors are waiting for new economic data this week, with October's JOLTS report scheduled for Tuesday and the November payroll report due on Friday.\n",
      "Source: Business Insider\n",
      "Published At: 2024-12-03T14:54:50Z\n",
      "========================================\n",
      "Title: Stock market today: Dow closes above 44,000, tech shares stumble as traders eye inflation data\n",
      "Description: The Trump trade was largely extended on Monday, with shares of Tesla, bitcoin, the US dollar, and US bank stocks all surging.\n",
      "Source: Business Insider\n",
      "Published At: 2024-11-11T21:11:16Z\n",
      "========================================\n",
      "Title: Stock market today: S&P 500, Dow end at record as investors shake off tariff fears, digest Fed minutes\n",
      "Description: Stock markets recovered on Tuesday after Trump's latest tariff plans briefly derailed equities.\n",
      "Source: Business Insider\n",
      "Published At: 2024-11-26T21:21:11Z\n",
      "========================================\n",
      "Title: Samsung Clears Galaxy Z Fold 6 Stock, Price Drops to $499 from $1,899 Before Black Friday\n",
      "Description: Black Friday is now live at Samsung, and the deal on the Galaxy Z Fold 6 is absolutely mind-blowing.\n",
      "Source: Gizmodo.com\n",
      "Published At: 2024-11-16T13:42:18Z\n",
      "========================================\n",
      "Title: Samsung Clears Galaxy Z Fold 6 Stock, Price Drops to $499 from $1,899 Before Black Friday\n",
      "Description: Black Friday is now live at Samsung, and the deal on the Galaxy Z Fold 6 is absolutely mind-blowing.\n",
      "Source: Gizmodo.com\n",
      "Published At: 2024-11-19T14:14:18Z\n",
      "========================================\n",
      "Title: Elon Musk is close to breaking his $340 billion wealth record as Tesla stock keeps rising\n",
      "Description: Elon Musk has grown about $105 billion richer this year, boosting his net worth to a near-record $335 billion at Monday's market close.\n",
      "Source: Business Insider\n",
      "Published At: 2024-11-12T11:42:36Z\n",
      "========================================\n",
      "Title: The Galaxy Buds 3 Pro Are 56% Off, as Samsung Clears Its Stock on Day 1 of Black Friday\n",
      "Description: For just $114, you can buy the Galaxy Buds 3 Pro which have been awarded Gizmodo Editor's Choice.\n",
      "Source: Gizmodo.com\n",
      "Published At: 2024-11-22T13:42:36Z\n",
      "========================================\n",
      "Title: Amazon Is Clearing Out Its Stock: The Roborock Q7 Max Is Priced At $199, Down From $599 (70% Off)\n",
      "Description: With the $20 coupon on Amazon, the Roborock Q7 Max drops to its record low price.\n",
      "Source: Gizmodo.com\n",
      "Published At: 2024-11-12T14:11:22Z\n",
      "========================================\n",
      "Title: Stock market today: Indexes fall as Powell says the Fed is in no hurry to cut interest rates\n",
      "Description: Indexes slipped as traders zeroed in on remarks from Fed Chair Jerome Powell, who said the central bank is in no hurry to cut rates amid a strong economy.\n",
      "Source: Business Insider\n",
      "Published At: 2024-11-14T21:10:13Z\n",
      "========================================\n",
      "Title: T.J. Maxx is in prime position to benefit from Trump's trade policies\n",
      "Description: The president-elect's proposed tariffs might lead to retailers ordering inventory earlier, adding extra goods to the market for T.J. Maxx.\n",
      "Source: Business Insider\n",
      "Published At: 2024-11-22T13:22:48Z\n",
      "========================================\n",
      "Title: Stock Market Today: Nasdaq Outperforms After Jobs Data; Coinbase Snaps Back (Live Coverage)\n",
      "Description: Bond yields fell in the stock market today after the November jobs report raised the chances of another Fed rate cut next week.\n",
      "Source: Investor's Business Daily\n",
      "Published At: 2024-12-06T17:13:36Z\n",
      "========================================\n",
      "Title: The stock market may be facing more than just a ‘lost decade’\n",
      "Description: None\n",
      "Source: Yahoo Entertainment\n",
      "Published At: 2024-11-26T14:48:00Z\n",
      "========================================\n",
      "Title: This 20TB WD External Hard Drive Costs $0.01/ GB, All-Time Low Price For Black Friday\n",
      "Description: If you're in need of expansive storage space, this WD external hard drive is your safe place.\n",
      "Source: Gizmodo.com\n",
      "Published At: 2024-11-28T22:17:51Z\n",
      "========================================\n",
      "Title: Right After Cyber Monday, Samsung Just Launched a Much Better Deal on The Galaxy Z Fold6\n",
      "Description: You can save over $1400 on the Galaxy Z Fold 6.\n",
      "Source: Gizmodo.com\n",
      "Published At: 2024-12-04T12:10:06Z\n",
      "========================================\n",
      "Title: AMD downgraded after BI report on weak demand for its AI chips among AWS customers\n",
      "Description: Bank of America downgraded AMD on Monday, citing competitive risks in the AI market from Nvidia and low demand impacting growth potential.\n",
      "Source: Business Insider\n",
      "Published At: 2024-12-09T21:20:51Z\n",
      "========================================\n",
      "Title: Is AMD Stock Finally Better Than NVDA Stock After a 36% Decline?\n",
      "Description: Advanced Micro Devices (NASDAQ:AMD) stock has tumbled 36% from its 52-week high of $211 in March and trades around $135 as of writing. The decline has been...\n",
      "Source: Yahoo Entertainment\n",
      "Published At: 2024-11-16T14:22:53Z\n",
      "========================================\n",
      "Title: Nvidia Says Its Blackwell Chip Is Fine, Nothing to See Here\n",
      "Description: Chip production delays and a rumored overheating issue haven't slowed down Nvidia, which reported another quarter of blockbuster earnings and said Blackwells are now in the hands of Microsoft and OpenAI.\n",
      "Source: Wired\n",
      "Published At: 2024-11-21T00:15:14Z\n",
      "========================================\n",
      "Title: Will the Stock Market Rise in 2025? Investors Who Ignore This Historical Pattern Do So at Their Own Risk.\n",
      "Description: None\n",
      "Source: Yahoo Entertainment\n",
      "Published At: 2024-12-07T13:24:00Z\n",
      "========================================\n",
      "Title: 5 predictions for the US housing market in 2025, according to Realtor.com\n",
      "Description: The real-estate listings site's 2025 outlook for the housing market includes predictions about home prices and mortgage rates.\n",
      "Source: Business Insider\n",
      "Published At: 2024-12-04T17:53:10Z\n",
      "========================================\n",
      "Title: Thinking of gifting stocks this holiday season? 4 tips from a financial advisor.\n",
      "Description: Gifting stock can be an effective way of passing down wealth and paying less tax. Megan Miller shares four tips for gifting shares.\n",
      "Source: Business Insider\n",
      "Published At: 2024-12-05T16:03:22Z\n",
      "========================================\n",
      "Title: Official Samsung Site Slashes Galaxy Z Fold 6 And Z Flip 6 by 80%, All Must go by Tonight\n",
      "Description: We’re particularly fond of the Galaxy Z Fold 6, but the Z Flip 6 boasts a unique design that is sure to attract plenty of attention.\n",
      "Source: Gizmodo.com\n",
      "Published At: 2024-11-26T18:04:22Z\n",
      "========================================\n",
      "Title: Lucid opens Gravity orders in bid to reshape SUV market\n",
      "Description: The company will begin with production of the $94,900 Grand Touring trim, which has a range of over 440 miles.\n",
      "Source: Automotivedive.com\n",
      "Published At: 2024-11-20T09:50:00Z\n",
      "========================================\n",
      "Title: AI Giant Nvidia Braces for Potential $292 Billion Market Shock Post-Earnings\n",
      "Description: Nvidia earnings could trigger an 8.5% move, implying a $292 billion market cap swing amid AI sector scrutiny\n",
      "Source: Yahoo Entertainment\n",
      "Published At: 2024-11-19T16:25:45Z\n",
      "========================================\n",
      "Title: Sony Is Killing it, Our Favorite WH-1000XM5 Headphones at a Record Low Price on Amazon\n",
      "Description: The WH-1000XM5 is among the top-performing active noise-canceling headphones available today.\n",
      "Source: Gizmodo.com\n",
      "Published At: 2024-11-28T16:42:33Z\n",
      "========================================\n",
      "Title: Galaxy Watch Ultra: Here’s The Trick To Get It For $239 Instead Of $649 Before Black Friday\n",
      "Description: This is the lowest price ever for the new Galaxy Watch Ultra.\n",
      "Source: Gizmodo.com\n",
      "Published At: 2024-11-17T12:10:01Z\n",
      "========================================\n",
      "Title: This Great Dyson Vacuum for XL Homes Is at a Record Low, Now $200 Off Its Original Price\n",
      "Description: Dyson vacuums rarely go on sale, but Amazon is offering great discounts this Black Friday.\n",
      "Source: Gizmodo.com\n",
      "Published At: 2024-11-25T13:10:50Z\n",
      "========================================\n",
      "Title: The MSI RTX 4070 Ti Is at a Record Low Price, #1 Best-Selling Graphics Card on Amazon\n",
      "Description: This MSI RTX 4070 Ti with an Nvidia chip is the best-selling graphics card on Amazon this Black Friday.\n",
      "Source: Gizmodo.com\n",
      "Published At: 2024-11-25T14:30:21Z\n",
      "========================================\n",
      "Title: Apple Is Going All In, The AirPods Pro 2 Are Now 40% Off on Amazon for Cyber Monday\n",
      "Description: Surprisingly, the AirPods Pro 2 are Apple's best and cheapest earbuds with this deal!\n",
      "Source: Gizmodo.com\n",
      "Published At: 2024-12-02T15:55:26Z\n",
      "========================================\n",
      "Title: Forget Nespresso, Ninja Hot and Iced Coffee Maker Is at Its Lowest Price for Post-Black Friday\n",
      "Description: Make delicious hot or cold coffee at home for just $99.99 with this Ninja Coffee Maker.\n",
      "Source: Gizmodo.com\n",
      "Published At: 2024-12-04T21:00:42Z\n",
      "========================================\n",
      "Title: [Removed]\n",
      "Description: [Removed]\n",
      "Source: [Removed]\n",
      "Published At: 2024-12-03T17:34:20Z\n",
      "========================================\n",
      "Title: The US housing market won't change much in 2025 — with one major exception\n",
      "Description: Realtor.com predicts that US home prices and property sales will continue to rise next year as mortgage rates drift down.\n",
      "Source: Business Insider\n",
      "Published At: 2024-12-04T11:01:02Z\n",
      "========================================\n",
      "Title: The fight over Jerome Powell puts Elon Musk at odds with Wall Street\n",
      "Description: The markets are a strong counter to Musk's influence and Trump's inclination to undermine the Federal Reserve, Wall Streeters told BI.\n",
      "Source: Business Insider\n",
      "Published At: 2024-11-15T09:01:02Z\n",
      "========================================\n",
      "Title: 'I don't know how we'll survive': War-damaged Lebanese businesses face the unknown\n",
      "Description: Traders and shop-owners lost their livelihoods as a result of destruction from Israeli attacks.\n",
      "Source: BBC News\n",
      "Published At: 2024-12-07T02:23:47Z\n",
      "========================================\n",
      "Title: [Removed]\n",
      "Description: [Removed]\n",
      "Source: [Removed]\n",
      "Published At: 2024-12-01T15:02:50Z\n",
      "========================================\n",
      "Title: Weight loss drug makers still have huge upside, and the market overreacted to RFK Jr. named to top health role, BMO says\n",
      "Description: Investors are fearful RFK Jr.'s critical stance on weight loss drugs could impact pricing or Medicare coverage, but BMO says his role will have limited impact.\n",
      "Source: Business Insider\n",
      "Published At: 2024-11-20T14:41:12Z\n",
      "========================================\n",
      "Title: 'Forbidden' song haunts South Korea's uni entrance exam students\n",
      "Description: A yearly blanket of silence has once again enveloped South Korea, as half a million students sit for the most important test of their lives.\n",
      "Source: BBC News\n",
      "Published At: 2024-11-14T07:43:16Z\n",
      "========================================\n",
      "Title: Oracle stock is set for its best year since the dot-com boom after a 75% surge\n",
      "Description: Oracle shares have roughly tripled from their late-2022 low, making the cloud-computing specialist more valuable than Costco or Netflix.\n",
      "Source: Business Insider\n",
      "Published At: 2024-12-02T13:13:05Z\n",
      "========================================\n",
      "Title: Archer Aviation Rockets Ahead: $500M Deal and FAA Milestones Fuel 184% Stock Surge\n",
      "Description: Archer's strategic deals and regulatory milestones push its stock near 52-week highs, highlighting rapid eVTOL progress\n",
      "Source: Yahoo Entertainment\n",
      "Published At: 2024-12-02T14:43:26Z\n",
      "========================================\n",
      "Title: Pubs warn Guinness being limited could 'cripple' their business\n",
      "Description: Pubs say they're trying to find alternative stouts as wholesalers put limits on how much Guinness they can get.\n",
      "Source: BBC News\n",
      "Published At: 2024-12-08T16:57:16Z\n",
      "========================================\n",
      "Title: Google’s New AI Video Generator Is Made to Fill the Internet With Even More Ads\n",
      "Description: Google’s Veo is being marketed to advertisers for making cheaper, quicker ads, even though consumers may hate it.\n",
      "Source: Gizmodo.com\n",
      "Published At: 2024-12-04T15:04:41Z\n",
      "========================================\n",
      "Title: Black Friday: Amazon Is on Fire This Wednesday Morning, 10 Deals Worth Your Money ⚡️\n",
      "Description: This Wednesday morning, Amazon has further reduced prices across a broad selection of its catalog for Black Friday.\n",
      "Source: Gizmodo.com\n",
      "Published At: 2024-11-27T11:45:51Z\n",
      "========================================\n",
      "Title: This Analyst With 85% Accuracy Rate Sees Over 30% Upside In Nvidia - Here Are 5 Stock Picks For Last Week From Wall Street's Most Accurate Analysts\n",
      "Description: U.S. stocks settled higher on Friday, with the Dow Jones index closed at a fresh record level during the session. Major indices on the Wall Street recorded...\n",
      "Source: Yahoo Entertainment\n",
      "Published At: 2024-11-25T16:58:11Z\n",
      "========================================\n",
      "Title: Investing legend Rob Arnott says it's an 'extraordinary opportunity' to make these 3 trades set to deliver over 10% annual returns for a decade — crushing large-cap stocks\n",
      "Description: Arnott expects growth stocks to feel some pain in the next couple of years. But these cheap trades should rally, he said.\n",
      "Source: Business Insider\n",
      "Published At: 2024-11-20T16:35:36Z\n",
      "========================================\n",
      "Title: These are the 10 best-performing stocks that debuted in 2024\n",
      "Description: Reddit was one of the best-performing names to make a debut in public markets this year. 210 US firms went public in 2024, a jump of about 36% from 2023.\n",
      "Source: Business Insider\n",
      "Published At: 2024-12-09T20:37:31Z\n",
      "========================================\n",
      "Title: South Korea's martial law crisis is making the 'Korea discount' in stocks harder to shake off\n",
      "Description: Expect volatility and negative price action across South Korean assets and interlinked markets, wrote Rory Green, at GlobalData.TS Lombard..\n",
      "Source: Business Insider\n",
      "Published At: 2024-12-04T06:30:31Z\n",
      "========================================\n",
      "Title: WH Group (SEHK:288) Eyes Expansion with New Markets and Tech Investments Amid Rising Costs\n",
      "Description: WH Group(SEHK:288) continues to demonstrate strong revenue growth in its packaged meats segment, solidifying its market position in the U.S. and China...\n",
      "Source: Yahoo Entertainment\n",
      "Published At: 2024-11-18T01:09:56Z\n",
      "========================================\n",
      "Title: Meet 2 chip execs reportedly in the running for Intel CEO — one is an outsider\n",
      "Description: The chipmaker is considering at least two people outside the company to replace former CEO Pat Gelsinger, who abruptly retired on Sunday.\n",
      "Source: Business Insider\n",
      "Published At: 2024-12-04T07:16:56Z\n",
      "========================================\n",
      "Title: Microsoft Discontinues iMac Rival Surface Studio 2+\n",
      "Description: Microsoft has discontinued its Surface Studio 2+, marking the end of the company's only direct competitor to Apple's iMac, leaving a gap in the Windows ecosystem for high-end all-in-one PCs.\n",
      "\n",
      "\n",
      "\n",
      "\n",
      "\n",
      "Microsoft has confirmed to Windows Central that it has ended pr…\n",
      "Source: MacRumors\n",
      "Published At: 2024-12-06T14:30:08Z\n",
      "========================================\n",
      "Title: [Removed]\n",
      "Description: [Removed]\n",
      "Source: [Removed]\n",
      "Published At: 2024-11-29T13:55:40Z\n",
      "========================================\n",
      "Title: How did Nvidia expand nearly 20-fold in just over 20 years?\n",
      "Description: From 2003 to 2024, Nvidia's growth surged with top pay, AI-driven revenue, and strong workforce expansion, outpacing rivals.\n",
      "Source: Business Insider\n",
      "Published At: 2024-11-29T12:28:00Z\n",
      "========================================\n",
      "Title: Small AI Chip Maker Marvell is Now More Valuable Than Intel\n",
      "Description: This year Marvell's stock rose 95%, giving it a $100 billion market capitalization, according to the Wall Street Journal. \n",
      "\n",
      "\"The latest gains have even put Marvell's market cap ahead of much-beleaguered Intel, which still generates 10 times as much annual rev…\n",
      "Source: Slashdot.org\n",
      "Published At: 2024-12-08T17:55:00Z\n",
      "========================================\n",
      "Title: The world reacts to Donald Trump's latest trade plans\n",
      "Description: Donald Trump's new trade proposals target China, Mexico, and Canada.\n",
      "Source: Business Insider\n",
      "Published At: 2024-11-27T13:42:56Z\n",
      "========================================\n",
      "Title: The 'Doge' dog meme that Elon Musk loves, explained in 1 minute\n",
      "Description: Elon Musk frequently references \"Doge,\" an internet meme from the 2010s based on a photo of a Shiba Inu dog with Comic Sans text overlaid on top.\n",
      "Source: Business Insider\n",
      "Published At: 2024-11-13T20:33:02Z\n",
      "========================================\n",
      "Title: Walk off the turkey with this EPIC Black Friday smartwatch deal — score 40% off the Ticwatch Pro 5 (while you still can)\n",
      "Description: As part of its lineup of Black Friday deals, Amazon is carving a record-smashing 40% off the top-rated Ticwatch Pro 5 for a limited time.\n",
      "Source: Android Central\n",
      "Published At: 2024-11-27T21:23:44Z\n",
      "========================================\n",
      "Title: Super Micro Computer Inc. (SMCI)’s Strong Demand Outweighs Short Seller Bets\n",
      "Description: We recently compiled a list of the 15 AI News and Ratings Grabbing Investor Attention. In this article, we are going to take a look at where Super Micro...\n",
      "Source: Yahoo Entertainment\n",
      "Published At: 2024-11-14T21:39:35Z\n",
      "========================================\n",
      "Title: Why Is Palantir Technologies Inc. (PLTR) Among the Big Data Stocks to Buy According to Hedge Funds?\n",
      "Description: We recently compiled a list of the 12 Best Big Data Stocks To Buy According to Hedge Funds. In this article, we are going to take a look at where Palantir...\n",
      "Source: Yahoo Entertainment\n",
      "Published At: 2024-12-03T19:00:57Z\n",
      "========================================\n",
      "Title: Jim Cramer on Palantir Technologies Inc. (PLTR): ‘It’s A, What I Used To Call A Total Up Stock’\n",
      "Description: We recently published an article titled Jim Cramer Discussed 10 Stocks That Can Do Well in December.In this article, we are going to take a look at where...\n",
      "Source: Yahoo Entertainment\n",
      "Published At: 2024-12-05T20:30:28Z\n",
      "========================================\n",
      "Title: The Galaxy Watch Ultra Crashes Down By $460, Now Priced At Just $189 For Black Friday\n",
      "Description: Samsung is clearing out stock of the Galaxy Watch Ultra at a record low price.\n",
      "Source: Gizmodo.com\n",
      "Published At: 2024-11-28T23:35:27Z\n",
      "========================================\n",
      "Title: Marc Benioff says humans are already working alongside AI agents\n",
      "Description: Salesforce CEO Marc Benioff said the future is digital labor, where humans work alongside AI agents as well as robots.\n",
      "Source: Business Insider\n",
      "Published At: 2024-12-05T00:24:45Z\n",
      "========================================\n",
      "Title: 3 Dividend Stocks To Consider With Up To 4.9% Yield\n",
      "Description: As global markets continue to reach new heights, with indices like the Dow Jones Industrial Average and S&P 500 hitting record intraday highs, investors are ...\n",
      "Source: Yahoo Entertainment\n",
      "Published At: 2024-12-03T07:04:31Z\n",
      "========================================\n",
      "Title: Best Black Friday Apple Deals 2024: We Found Record-Low Discounts on iPhones, MacBooks, AirPods and More\n",
      "Description: Get your favorite Apple products -- MacBooks, iPads, AirPods, you name it -- at the best prices this Black Friday.\n",
      "Source: CNET\n",
      "Published At: 2024-11-26T12:28:00Z\n",
      "========================================\n",
      "Title: AI Was Everywhere in 2024’s Elections, but Deepfakes Were Only Part of the Picture\n",
      "Description: The apocalypse that wasn’t.\n",
      "Source: Gizmodo.com\n",
      "Published At: 2024-12-08T14:00:12Z\n",
      "========================================\n",
      "Title: Here's what analysts are saying about Nvidia earnings\n",
      "Description: Nvidia beat forecasts again in its third-quarter results, but one analyst says investors are concerned about a possible slowdown in future growth.\n",
      "Source: Business Insider\n",
      "Published At: 2024-11-21T13:13:56Z\n",
      "========================================\n",
      "Title: 'Big Short' investor Michael Burry boosts Alibaba, Baidu, and JD.com bets as he doubles down on China\n",
      "Description: Michael Burry's Scion Asset Management ramped up its bets on three Chinese tech giants but also hedged its positions.\n",
      "Source: Business Insider\n",
      "Published At: 2024-11-14T22:23:11Z\n",
      "========================================\n",
      "Title: 3 Dividend Stocks To Consider With Up To 6.2% Yield\n",
      "Description: In the wake of a \"red sweep\" in the U.S. elections, global markets have seen significant shifts, with major indices like the S&P 500 reaching record highs...\n",
      "Source: Yahoo Entertainment\n",
      "Published At: 2024-11-14T07:07:55Z\n",
      "========================================\n",
      "Title: Nvidia workforce data explains its meteoric rise\n",
      "Description: Nvidia's workforce expansion since 2003 shows its rapid growth in AI, with high salaries, low turnover, and a unique culture of public feedback.\n",
      "Source: Business Insider\n",
      "Published At: 2024-11-28T09:00:02Z\n",
      "========================================\n",
      "Title: A potential SpaceX deal would boost the value of Elon Musk's company to $350 billion\n",
      "Description: SpaceX is reportedly in talks to sell insider shares that value it at around $350 billion, double from the year prior.\n",
      "Source: Business Insider\n",
      "Published At: 2024-12-03T03:01:12Z\n",
      "========================================\n",
      "Title: If You Had To Choose Just One Dyson, This Model on Sale From Amazon Will Last You a Lifetime\n",
      "Description: Dyson is a British brand renowned for producing some of the most powerful and stylish vacuum cleaners on the market.\n",
      "Source: Gizmodo.com\n",
      "Published At: 2024-11-27T15:58:26Z\n",
      "========================================\n",
      "Title: OpenAI is eyeing a shot at 2 of Google's most dominant territories: report\n",
      "Description: OpenAI is reportedly broaching the idea of a web browser that would be integrated with ChatGPT.\n",
      "Source: Business Insider\n",
      "Published At: 2024-11-22T03:32:06Z\n",
      "========================================\n",
      "Title: Wall Street awaits Nvidia's earning report for clues about the chip giant's future\n",
      "Description: Nvidia's Q3 earnings are key as Wall Street tracks demand for its new Blackwell GPU amid issues like overheating chips and yearly upgrades.\n",
      "Source: Business Insider\n",
      "Published At: 2024-11-20T14:16:44Z\n",
      "========================================\n",
      "Title: Amazon Is a Car Dealership Now\n",
      "Description: The online retail giant is dipping its toes into selling cars directly to consumers in partnership with Hyundai.\n",
      "Source: Gizmodo.com\n",
      "Published At: 2024-12-10T20:25:15Z\n",
      "========================================\n",
      "Title: Why ConocoPhillips (COP) Has the Biggest Upside Potential Among Oil Stocks\n",
      "Description: We recently published a list of 10 Oil Stocks with Biggest Upside Potential According to Analysts. In this article, we are going to take a look at where...\n",
      "Source: Yahoo Entertainment\n",
      "Published At: 2024-12-03T14:36:42Z\n",
      "========================================\n",
      "Title: Dow Falls a 4th Day as Markets Stall Ahead of CPI.\n",
      "Description: The Dow, S&P 500, and Nasdaq closed lower Tuesday as the stock rally stalled ahead of inflation data.\n",
      "Source: Barron's\n",
      "Published At: 2024-12-10T21:02:08Z\n",
      "========================================\n",
      "Title: Why Vistra Corp. (VST) Will Be a Major Beneficiary of AI\n",
      "Description: We recently published a list of 10 Stocks That Will Benefit From AI. In this article, we are going to take a look at where Vistra Corp. (NYSE:VST) stands...\n",
      "Source: Yahoo Entertainment\n",
      "Published At: 2024-12-04T20:13:36Z\n",
      "========================================\n",
      "Title: 29 Black Friday Deals Under $100: Price Cuts on Top Tech, Home Goods From Big-Name Brands Like Apple and Sony\n",
      "Description: Unbeatable deals on top brands -- all under $100.\n",
      "Source: CNET\n",
      "Published At: 2024-11-27T09:52:00Z\n",
      "========================================\n",
      "Title: Best Black Friday Apple Deals 2024: We’ve Rounded Up the Biggest Discounts on Macs, iPads, AirPods and More\n",
      "Description: Looking for discounted Apple gear? Black Friday is one of the best times to shop and save on Apple's top products, but these deals won't last.\n",
      "Source: CNET\n",
      "Published At: 2024-11-28T10:00:41Z\n",
      "========================================\n",
      "Title: 39 Black Friday Deals Under $100: The Best Steals on Tech and Home Goods From Leading Brands\n",
      "Description: Snag incredible deals on top brands like Samsung, Beats, Keurig and Philips, all for $100 or less.\n",
      "Source: CNET\n",
      "Published At: 2024-11-28T09:44:13Z\n",
      "========================================\n",
      "Title: Nvidia Beats Q3 Revenue, EPS Estimates, Supply Constraints Ding Stock: Huang Says 'Age Of AI Is In Full Steam' (UPDATED)\n",
      "Description: Editor’s note: This story has been updated with additional information. NVIDIA Corporation (NASDAQ:NVDA) continued its streak of beating expectations with...\n",
      "Source: Yahoo Entertainment\n",
      "Published At: 2024-11-21T00:44:47Z\n",
      "========================================\n",
      "Title: Carson Block is shorting cosmetics company E.L.F. Beauty, saying it's a 'revenue and investor mystery'\n",
      "Description: Speaking at the Sohn London conference, shortseller Muddy Waters revealed its latest target.\n",
      "Source: Business Insider\n",
      "Published At: 2024-11-20T16:33:41Z\n",
      "========================================\n",
      "Title: 25 Black Friday Deals Under $100: Price Cuts on Top Tech, Home Goods From Big-Name Brands Like Apple and Sony\n",
      "Description: The best prices from the biggest names -- and all for under $100.\n",
      "Source: CNET\n",
      "Published At: 2024-11-26T14:58:00Z\n",
      "========================================\n",
      "Title: Morgan Stanley Analyst Says Meta Platforms (META) ‘Farthest Along’ in AI Monetization\n",
      "Description: We recently published a list of 10 Trending AI Stocks to Watch in December. In this article, we are going to take a look at where Meta Platforms (NASDAQ:META...\n",
      "Source: Yahoo Entertainment\n",
      "Published At: 2024-12-02T17:48:03Z\n",
      "========================================\n",
      "Title: Rachael Ray's 5 tips for turning Thanksgiving leftovers into delicious family meals\n",
      "Description: Rachael Ray told BI she makes pasta ragù and savory stuffing waffles using her Thanksgiving leftovers, so nothing goes to waste.\n",
      "Source: Business Insider\n",
      "Published At: 2024-11-28T20:58:16Z\n",
      "========================================\n",
      "Title: [Removed]\n",
      "Description: [Removed]\n",
      "Source: [Removed]\n",
      "Published At: 2024-11-27T16:26:41Z\n",
      "========================================\n",
      "Title: NVIDIA Corporation (NVDA) Supply Chain Boosted by Vishay’s Strong Orders for AI Servers and RTX 50 Series\n",
      "Description: We recently compiled a list of the 15 AI Stocks on Wall Street’s Radar. In this article, we are going to take a look at where NVIDIA Corporation (NASDAQ:NVDA...\n",
      "Source: Yahoo Entertainment\n",
      "Published At: 2024-11-28T19:50:23Z\n",
      "========================================\n",
      "Title: Baby Boomers Say They’re Worse Off Financially Now Than 4 Years Ago – Here’s Why\n",
      "Description: According to a recent Redfin survey, baby boomers report being worse off financially than they were four years ago. The news contrasts with other generations...\n",
      "Source: Yahoo Entertainment\n",
      "Published At: 2024-11-17T15:00:41Z\n",
      "========================================\n",
      "Title: Nvidia's Blackwell cooling issues were resolved months ago, chip experts say\n",
      "Description: Nvidia's Blackwell chip faces cooling challenges, but experts confirm major issues are resolved.\n",
      "Source: Business Insider\n",
      "Published At: 2024-11-19T19:46:40Z\n",
      "========================================\n",
      "Title: Back In Stock, Our Favorite LG OLED Evo C4 TVs Are Now 45% Off On Amazon\n",
      "Description: Amazon has released an early Black Friday deal on LG OLED TVs that quickly went out of stock, but it is back again this Tuesday.\n",
      "Source: Gizmodo.com\n",
      "Published At: 2024-11-12T12:40:00Z\n",
      "========================================\n",
      "Title: Nvidia stock continues post-earnings fall after slight recovery\n",
      "Description: Nvidia’s (NVDA) shares made a slight recovery at the market open on Thursday, before reversing and continuing its fall during after-hours and pre-market trading. Read more...\n",
      "Source: Quartz India\n",
      "Published At: 2024-11-21T15:09:00Z\n",
      "========================================\n",
      "Title: Howard Lutnick helped build Newmark into a real estate powerhouse. Now he's leaving for Washington.\n",
      "Description: Howard Lutnick is known for building Cantor Fitzgerald and BGC into successes. But he also played a role in the rise of real estate firm Newmark.\n",
      "Source: Business Insider\n",
      "Published At: 2024-12-04T10:02:02Z\n",
      "========================================\n",
      "Title: Santa Came Early This Year: The New Pixel 9 is Back at 30% Off on Amazon\n",
      "Description: This Google smartphone with Stock Android and 7 years of updates is at a record low price on Amazon.\n",
      "Source: Gizmodo.com\n",
      "Published At: 2024-11-28T13:10:32Z\n",
      "========================================\n",
      "Title: While Jeff Bezos Rides The Stock Market Boom, MacKenzie Scott Has Just Sold $8 Billion In Amazon Shares To Fund Charities Nationwide\n",
      "Description: None\n",
      "Source: Yahoo Entertainment\n",
      "Published At: 2024-11-17T01:30:37Z\n",
      "========================================\n",
      "Title: [Removed]\n",
      "Description: [Removed]\n",
      "Source: [Removed]\n",
      "Published At: 2024-12-03T01:55:38Z\n",
      "========================================\n"
     ]
    }
   ],
   "source": [
    "import requests\n",
    "\n",
    "# Our API key from NewsAPI\n",
    "API_KEY = '076e32a9366b4837beb160397273f2f8'\n",
    "\n",
    "# Defining the URL with a query for stock market news\n",
    "url = f'https://newsapi.org/v2/everything?q=stock market&apiKey={API_KEY}'\n",
    "\n",
    "# Sending request to NewsAPI\n",
    "response = requests.get(url)\n",
    "\n",
    "# Checking if the request was successful\n",
    "if response.status_code == 200:\n",
    "    # Converting the response to JSON format\n",
    "    data = response.json()\n",
    "    # Extracting the list of articles\n",
    "    articles = data['articles']\n",
    "    # Printing key details for each article\n",
    "    for article in articles:\n",
    "        print(\"Title:\", article['title'])\n",
    "        print(\"Description:\", article['description'])\n",
    "        print(\"Source:\", article['source']['name'])\n",
    "        print(\"Published At:\", article['publishedAt'])\n",
    "        print(\"=\" * 40)\n",
    "else:\n",
    "    # Print an error message if the request fails\n",
    "    print(\"Failed to fetch data. Status code:\", response.status_code)\n"
   ]
  },
  {
   "cell_type": "markdown",
   "id": "0d29d477-e615-431d-b8e8-bf1847539f4a",
   "metadata": {},
   "source": [
    "## **1.2 Collecting Stock Price Data**"
   ]
  },
  {
   "cell_type": "markdown",
   "id": "76008fca-f13c-4844-9107-36aea4d584e9",
   "metadata": {},
   "source": [
    "### **Objective**\n",
    "Gather stock price data to analyze with news."
   ]
  },
  {
   "cell_type": "markdown",
   "id": "59468f30-0bb0-4db1-b8e6-666592803d1f",
   "metadata": {},
   "source": [
    "#### **1. Installing yfinance**"
   ]
  },
  {
   "cell_type": "code",
   "execution_count": 41,
   "id": "0552bf07-b528-479b-ab20-f287c30d3cb0",
   "metadata": {},
   "outputs": [
    {
     "name": "stdout",
     "output_type": "stream",
     "text": [
      "/Users/shivsonawane/.zshenv:1: missing delimiter for 'u' glob qualifier\n",
      "Requirement already satisfied: yfinance in /opt/anaconda3/lib/python3.12/site-packages (0.2.50)\n",
      "Requirement already satisfied: pandas>=1.3.0 in /opt/anaconda3/lib/python3.12/site-packages (from yfinance) (2.2.2)\n",
      "Requirement already satisfied: numpy>=1.16.5 in /opt/anaconda3/lib/python3.12/site-packages (from yfinance) (1.26.4)\n",
      "Requirement already satisfied: requests>=2.31 in /opt/anaconda3/lib/python3.12/site-packages (from yfinance) (2.32.2)\n",
      "Requirement already satisfied: multitasking>=0.0.7 in /opt/anaconda3/lib/python3.12/site-packages (from yfinance) (0.0.11)\n",
      "Requirement already satisfied: lxml>=4.9.1 in /opt/anaconda3/lib/python3.12/site-packages (from yfinance) (5.2.1)\n",
      "Requirement already satisfied: platformdirs>=2.0.0 in /opt/anaconda3/lib/python3.12/site-packages (from yfinance) (3.10.0)\n",
      "Requirement already satisfied: pytz>=2022.5 in /opt/anaconda3/lib/python3.12/site-packages (from yfinance) (2024.1)\n",
      "Requirement already satisfied: frozendict>=2.3.4 in /opt/anaconda3/lib/python3.12/site-packages (from yfinance) (2.4.2)\n",
      "Requirement already satisfied: peewee>=3.16.2 in /opt/anaconda3/lib/python3.12/site-packages (from yfinance) (3.17.8)\n",
      "Requirement already satisfied: beautifulsoup4>=4.11.1 in /opt/anaconda3/lib/python3.12/site-packages (from yfinance) (4.12.3)\n",
      "Requirement already satisfied: html5lib>=1.1 in /opt/anaconda3/lib/python3.12/site-packages (from yfinance) (1.1)\n",
      "Requirement already satisfied: soupsieve>1.2 in /opt/anaconda3/lib/python3.12/site-packages (from beautifulsoup4>=4.11.1->yfinance) (2.5)\n",
      "Requirement already satisfied: six>=1.9 in /opt/anaconda3/lib/python3.12/site-packages (from html5lib>=1.1->yfinance) (1.16.0)\n",
      "Requirement already satisfied: webencodings in /opt/anaconda3/lib/python3.12/site-packages (from html5lib>=1.1->yfinance) (0.5.1)\n",
      "Requirement already satisfied: python-dateutil>=2.8.2 in /opt/anaconda3/lib/python3.12/site-packages (from pandas>=1.3.0->yfinance) (2.9.0.post0)\n",
      "Requirement already satisfied: tzdata>=2022.7 in /opt/anaconda3/lib/python3.12/site-packages (from pandas>=1.3.0->yfinance) (2023.3)\n",
      "Requirement already satisfied: charset-normalizer<4,>=2 in /opt/anaconda3/lib/python3.12/site-packages (from requests>=2.31->yfinance) (2.0.4)\n",
      "Requirement already satisfied: idna<4,>=2.5 in /opt/anaconda3/lib/python3.12/site-packages (from requests>=2.31->yfinance) (3.7)\n",
      "Requirement already satisfied: urllib3<3,>=1.21.1 in /opt/anaconda3/lib/python3.12/site-packages (from requests>=2.31->yfinance) (2.2.2)\n",
      "Requirement already satisfied: certifi>=2017.4.17 in /opt/anaconda3/lib/python3.12/site-packages (from requests>=2.31->yfinance) (2024.8.30)\n"
     ]
    }
   ],
   "source": [
    "# Installing yfinance allows us to fetch historical stock data\n",
    "!pip install yfinance"
   ]
  },
  {
   "cell_type": "markdown",
   "id": "ad6f49db-98b3-4421-a13e-aba85249fbe6",
   "metadata": {},
   "source": [
    "#### **2. Download Stock Data**"
   ]
  },
  {
   "cell_type": "code",
   "execution_count": 44,
   "id": "cc0217b5-c0af-4a83-a471-2843543eb2de",
   "metadata": {},
   "outputs": [
    {
     "name": "stderr",
     "output_type": "stream",
     "text": [
      "[*********************100%***********************]  1 of 1 completed"
     ]
    },
    {
     "name": "stdout",
     "output_type": "stream",
     "text": [
      "Below is a preview of Tesla's stock data as an example:\n",
      "Price        Adj Close       Close        High         Low        Open  \\\n",
      "Ticker            TSLA        TSLA        TSLA        TSLA        TSLA   \n",
      "Date                                                                     \n",
      "2024-01-02  248.419998  248.419998  251.250000  244.410004  250.080002   \n",
      "2024-01-03  238.449997  238.449997  245.679993  236.320007  244.979996   \n",
      "2024-01-04  237.929993  237.929993  242.699997  237.729996  239.250000   \n",
      "2024-01-05  237.490005  237.490005  240.119995  234.899994  236.860001   \n",
      "2024-01-08  240.449997  240.449997  241.250000  235.300003  236.139999   \n",
      "\n",
      "Price          Volume  \n",
      "Ticker           TSLA  \n",
      "Date                   \n",
      "2024-01-02  104654200  \n",
      "2024-01-03  121082600  \n",
      "2024-01-04  102629300  \n",
      "2024-01-05   92379400  \n",
      "2024-01-08   85166600  \n"
     ]
    },
    {
     "name": "stderr",
     "output_type": "stream",
     "text": [
      "\n"
     ]
    }
   ],
   "source": [
    "import yfinance as yf\n",
    "\n",
    "# Tesla is chosen as an example because it is a popular company with a lot of news coverage.\n",
    "# You can replace 'TSLA' with any other company's ticker symbol for analysis.\n",
    "\n",
    "# Download historical stock data for Tesla (TSLA)\n",
    "# Fetching data from January 1, 2024, to the latest available date (November 25, 2024)\n",
    "stock_data = yf.download('TSLA', start='2024-01-01', end='2024-11-25')\n",
    "\n",
    "# Display the first few rows of the dataset to verify the downloaded data\n",
    "print(\"Below is a preview of Tesla's stock data as an example:\")\n",
    "print(stock_data.head())\n"
   ]
  },
  {
   "cell_type": "markdown",
   "id": "f6214f64-a35b-4fd3-83aa-60886657b0ff",
   "metadata": {},
   "source": [
    "# **Step 2: Data Processing**"
   ]
  },
  {
   "cell_type": "markdown",
   "id": "bb17b8a7-179d-48b4-8587-3ae2b3dc638b",
   "metadata": {},
   "source": [
    "## **2.1 Cleaning the News Data**"
   ]
  },
  {
   "cell_type": "markdown",
   "id": "8f0bb3aa-a7d0-4bf7-baf0-af15868d3c32",
   "metadata": {},
   "source": [
    "### **Objective**\n",
    "Prepare the collected news articles fetched using NewsAPI for analysis by cleaning and preprocessing the text."
   ]
  },
  {
   "cell_type": "markdown",
   "id": "df580c7a-faba-4511-977c-8131953643a8",
   "metadata": {},
   "source": [
    "### **Steps**"
   ]
  },
  {
   "cell_type": "markdown",
   "id": "5894dace-b1fd-48c2-84d8-4a8ae99563d1",
   "metadata": {},
   "source": [
    "1. **Extract Article Content**:\n",
    "   - Use the `content` field from the articles fetched using NewsAPI to get the main body of the news articles.\n",
    "   - Only include articles with non-empty content to ensure a meaningful analysis."
   ]
  },
  {
   "cell_type": "markdown",
   "id": "5b27215d-9735-4ab3-8651-99b7627b9be8",
   "metadata": {},
   "source": [
    "2. **Clean and Preprocess the Text**:\n",
    "   - Remove punctuation, special characters, and numbers to simplify the text.\n",
    "   - Tokenize the text into individual words.\n",
    "   - Remove common stop words (e.g., “the,” “is,” “and”) that do not add significant meaning."
   ]
  },
  {
   "cell_type": "markdown",
   "id": "cfa0307b-4cca-4de4-92fe-b52bd3b31a45",
   "metadata": {},
   "source": [
    "3. **Store Cleaned Data**:\n",
    "   - Save the cleaned versions of the articles for further sentiment analysis and topic modeling.\n"
   ]
  },
  {
   "cell_type": "code",
   "execution_count": 88,
   "id": "a143e417-e6b3-42f3-9489-daf21b2736b1",
   "metadata": {
    "scrolled": true
   },
   "outputs": [
    {
     "name": "stdout",
     "output_type": "stream",
     "text": [
      "Cleaned Articles:\n",
      "Article 1: cyber monday amazon extending impressive black friday deal hard resist run stock among popular product samsung char\n",
      "Article 2: microsoft mission change perception premium laptop making compelling case macbook recent launch surface laptop series mic char\n",
      "Article 3: world technology evolves lightning speed investing older model might seem like short term savvy way save buck however choosing le expensive outdated laptop char\n",
      "Article 4: investor hoping another stellar year stock market stay cautious risk horizon u stock could see significant correction thanks high asset price char\n",
      "Article 5: compared recent november notice ice detailed plan different notice released last year earlier notice show ice preparing intense immigr char\n",
      "Article 6: market looking premium smartphone also happens best camera phone available pixel lineup google renowned exceptional photography capability char\n",
      "Article 7: torn wanting laptop tablet sure device best suit need could best world black friday lg gram inch laptop c char\n",
      "Article 8: amazon offering great early black friday deal google pixel slash price recordbreaking massive regular price tag exceptional opport char\n",
      "Article 9: u stock higher monday dow jones industrial average jumping point nasdaq sampp edged slightly higher dow closed level char\n",
      "Article 10: u index lower tuesday momentum waned back new closing high sampp nasdaq investor bracing several economic update scheduled week char\n",
      "Article 11: u stock rose record tuesday index recovered donald trump marketmoving tariff plan announced monday evening trader digested minute federal reserve last char\n",
      "Article 12: samsung unleashed great early black friday deal flagship foldable smartphone galaxy z fold huge discount available exclusively samsungs official website present char\n",
      "Article 13: samsung unleashed great early black friday deal premium foldable smartphone galaxy z fold huge discount available exclusively samsungs official website present su char\n",
      "Article 14: elon musk wealth backed donald trump presidential raceangela wei afp ullielon musk close setting new wealth record following tesla stock surge since electionlili char\n",
      "Article 15: tesla hit trillion market valuation first time since april stock surged much friday intraday peak share soaring since donald trump char\n",
      "Article 16: index edged thursday heading another day gain donald trump election victory fueled massive rally across stock market wednesday dow jones industrial average char\n",
      "Article 17: samsung officially launched black friday deal among standout promotion huge discount new galaxy bud pro originally priced premium wireless earbuds ar char\n",
      "Article 18: roborock q max currently available incredible price original price amazon limitedtime offer lowest price ever recorded highend char\n",
      "Article 19: day stock shortage popular blink outdoor camera back amazon huge discount early black friday deal turning head savvy shopper rush secure char\n",
      "Article 20: index ended lower thursday election rally fizzling trader digested remark federal reserve chair jerome powell assessed latest inflation data sampp char\n",
      "Article 21: tj maxx bargain hunter paradise danielle bauterinsider ullitj maxx set benefit trump proposed tariff importslilithe tariff could lead earlier inventory char\n",
      "Article 22: nasdaq composite russell smallcap index outperformed stock market today helped november job report came slightly better expected unemployment rate un char\n",
      "Article 23: click accept partner including part iab transparency amp consent framework also store andor access information device word use char\n",
      "Article 24: looking store gigabyte video photo secure space icloud expensive online storage solution arent better there solution store char\n",
      "Article 25: black friday cyber monday may come gone still incredible cyber deal available official samsung store rival major shopping event deal run char\n",
      "Article 26: advanced micro device nasdaqamd stock tumbled week high march trade around writing decline driven disappointing earnings guidan char\n",
      "Article 27: musk set big winner following trump election winjabin botsfordthe washington post via getty image ullielon musk net worth soared past billion according bloombe char\n",
      "Article 28: large portion nvidias growth quarter driven data center revenue totaling billion quarter percent last year company gross profit margin char\n",
      "Article 29: safe say intel seen better day chip maker dominant force silicon valley missed multiple innovation cycle tech find trailing behind comp char\n",
      "Article 30: realtorcoms outlook housing market includes prediction home price mortgage ratesgetty image ullihome price rise slightly according realtorcoms ho char\n",
      "Article 31: didnt finish holiday shopping black friday fear there one practical gift might already lying around help lower tax bill stock gifting st char\n",
      "Article 32: black friday getting closer amazon kicked early deal bang offer huge discount ecoflow portable power station monday morning ecommerce giant unveiled char\n",
      "Article 33: samsung undisputed leader foldable smartphone market youve ever dreamed owning device blend style functionality perfect time act compe char\n",
      "Article 34: chipmaker nvidia nasdaqnvda announcing quarterly earnings wednesday postmarket option trader preparing big shift market capitalization implicit volatility accor char\n",
      "Article 35: story originally published automotive dive receive daily news insight subscribe free daily automotive dive newsletter ullilucid group opened u order lo char\n",
      "Article 36: navigating vast array active noisecanceling headphone available today overwhelming many option market sony bose apple sennheiser easy feel lost tr char\n",
      "Article 37: scalper attempting profit sonys new playstation pro struggling sell unit retail price widespread availability dampens resale prospect console launched w char\n",
      "Article 38: settle vacuum barely pick dirt leaf dust bunny lurking corner ultimately waste precious time black friday time invest cleaning solutio char\n",
      "Article 39: there currently great deal samsung galaxy watch ultra record low price tech enthusiast simply cannot ignore originally priced highend smartwatch available fo char\n",
      "Article 40: youre market powerful graphic card look msi geforce rtx ti currently available price discount original list price char\n",
      "Article 41: finally coffee maker understands morning arent onesizefitsall ninja hot amp iced xl brings baristalevel versatility kitchen counter without spend hundred char\n",
      "Article 42: airpods pro emerged bestselling product electronics category amazon black friday also cyber monday currently popular wireless earbud char\n",
      "Article 43: removed\n",
      "Article 44: home price appreciate slowly steadily realtorcom saidart wagergetty image ullirealtorcom unveiled housing market outlooklilihome value rise char\n",
      "Article 45: elon musk signaled support undercutting fed independence setting quiet alarm bell wall streetgetty image ullielon musk signaled support eroding independence fed char\n",
      "Article 46: removed\n",
      "Article 47: sunday morning amazon unveiled exciting early black friday deal google pixel pro fold unique foldable smartphone normally retail available r char\n",
      "Article 48: share pharmaceutical company produce popular weight loss drug tumbled since presidentelect donald trump named robert f kennedy jr lead department health human servic char\n",
      "Article 49: brief yearly silence enveloped south korea half million student across country sit important test life plane grounded construction work hal char\n",
      "Article 50: oracle cofounder larry ellisonjustin sullivangetty image ullioracle share set best year since surgelilithe enterprisecomputing stock benefited char\n",
      "Article 51: backed bump previous month almost rise past six month archer aviation inc nyseachr stock marching ahead week high well outpacing char\n",
      "Article 52: click accept partner including part iab transparency amp consent framework also store andor access information device word use char\n",
      "Article 53: internal salary database show company offer lower base salary tech automotive peer offer substantial stock grantsjordan straussinvisionap istock rebecca zisser char\n",
      "Article 54: wednesday mark midpoint black friday week thanksgiving tomorrow black friday following closely behind amazon kicked deal last friday shopper access char\n",
      "Article 55: today mad men arent smoothtalking suit trying convince ceo brand need reassure people okay tech company like google filling airwave cheap mindless ai slop char\n",
      "Article 56: analyst accuracy rate see upside nvidia stock pick last week wall street accurate analyst benzinga yahoo finance llc may earn commission char\n",
      "Article 57: amazon currently offering enticing deal macbook air reducing price original deal come ahead black friday highlight amazon strategy c char\n",
      "Article 58: wh group sehk continues demonstrate strong revenue growth packaged meat segment solidifying market position u china recent development include focus product char\n",
      "Article 59: research affiliate founder rob arnott see bear market ahead largecap growth stock spell trouble sampp heavily made giant growth stock like apple micro char\n",
      "Article 60: south korean president yoon suk yeols shortlived martial law announcement undoing one top goal boosting value stock wednesday south korea kospi index fell much char\n",
      "Article 61: veteran day monday federal holiday root event century ago holiday date back nov official end world war armistice betw char\n",
      "Article 62: intel considering two people position new ceo bloomberg reuters reportedjustin sullivangetty image ulliintel reportedly considering lipbu tan matt murphy ce char\n",
      "Article 63: microsoft discontinued surface studio marking end company direct competitor apple imac leaving gap window ecosystem highend allinone pc microso char\n",
      "Article 64: removed\n",
      "Article 65: good morninghallam bullock writing london black friday upon u business insider review team rounded best deal product brand swea char\n",
      "Article 66: brandon bellgetty image ullithis post originally appeared insider today newsletterliliyou sign business insider daily newsletter hereliulhappy quasifriday char\n",
      "Article 67: department government efficiency suggested musk acronym one billionaire favorite meme cryptocurrenciesnurphotojabin botsfordthe washington postgetty ulli char\n",
      "Article 68: im familiar tim hortons doughnut shop trying chain boston cream doughnut became fan named cofounder tim horton longtime nhl defenseman char\n",
      "Article 69: donald trump presidency could drive monster gain particular corner stock market coming year according fundstrats head research tom lee speaking cnbc friday char\n",
      "Article 70: forget thanksgiving turkey amazon black friday sale carving android smartwatches like there tomorrow head site youll enjoy whopping ticwatch pro char\n",
      "Article 71: recently compiled list ai news rating grabbing investor attention article going take look super micro computer inc nasdaqsmci stand th char\n",
      "Article 72: recently compiled list best big data stock buy according hedge fund article going take look palantir technology inc nasdaqpltr stand char\n",
      "Article 73: recently published article titled jim cramer discussed stock well decemberin article going take look palantir technology inc nysepltr stand char\n",
      "Article 74: samsung launched early black friday sale sunday offering huge discount flagship galaxy ultra also foldable phone like z fold z flip premium char\n",
      "Article 75: researcher university illinois urbanachampaign conducted study spring last year see chatgpt influenced cheating introductory programming course found char\n",
      "Article 76: ten year ago concept smartwatch seemed farfetched many believed would never catch fast forward today landscape dramatically changed thanks large part app char\n",
      "Article 77: salesforce ceo marc benioff repeatedly criticized microsoft copilotarturo holmesgetty image ullisalesforces stock rose hour tuesday beating thirdquarter revenue expecta char\n",
      "Article 78: global market continue reach new height index like dow jones industrial average sampp hitting record intraday high investor seeking stability amid geopolitical te char\n",
      "Article 79: black friday arrived bringing incredible deal amazon walmart best buy ideal opportunity score discount premium tech especially apple product rarely char\n",
      "Article 80: jensen huang ceo nvidia one world richest peopledavid zalubowskiap chelsea jia fengbi ullinvidia beat forecast thirdquarter result wednesdaylilice char\n",
      "Article 81: michael burry big short fame ramped bet chinese stock third quarterkevin mazurwireimage ullimichael burry bolstered bet three chinese tech company last qu char\n",
      "Article 82: cleaning house often feel like neverending chore becomes even tedious youre using small vacuum take forever get job done cordless design larg char\n",
      "Article 83: wake red sweep u election global market seen significant shift major index like sampp reaching record high amid expectation growthfriendly pol char\n",
      "Article 84: nvidias workforce increased fold last twenty yearsanna kimgetty tyler lebi ullinvidias workforce grown nearly fold since lilithe company stock pr char\n",
      "Article 85: elon musk spacex talk deal could value billionangela weissafpgetty image ullispacex reportedly talk sell share deal would boost valuation char\n",
      "Article 86: openai already positioned rival google search recent launch chatgpt searchnurphotonurphoto via getty image ulliopenai considering making web browser sourc char\n",
      "Article 87: morning retired navy seal jocko willink sometimes work three hour day effective exercise dont require much equipment done right home today char\n",
      "Article 88: ulliaccording goldman sachs daan struyven current oil price low compared inventory fundamental significant upside risk price short termliliconoc char\n",
      "Article 89: good morning monday november morning shift daily roundup top automotive headline around world one place important story need char\n",
      "Article 90: black friday overwhelming many deal weve got covered weve handpicked offer truly deliver value money top find amazon walmart ov char\n",
      "Article 91: love apple product know latest greatest gear usually mean paying full price thats finding discount apple product throughout year formidable ch char\n",
      "Article 92: year black friday delivering unprecedented discount across wide array product many top deal priced offer huge saving make perfect budgetfriendly gift char\n",
      "Article 93: recently published list stock benefit ai article going take look vistra corp nysevst stand stock benefit char\n",
      "Article 94: nvidia beat q revenue eps estimate supply constraint ding stock huang say age ai full steam updated benzinga yahoo finance llc may earn commission revenue item char\n",
      "Article 95: notorious shortseller carson block new target discount cosmetic company elf beauty californiabased beauty company seems sell product block said repo char\n",
      "Article 96: easy spend odds black friday many deal banded thats weve made sure round offer actually worth time importantl char\n",
      "Article 97: recently published list trending ai stock watch december article going take look meta platform nasdaqmeta stand trending ai stock char\n",
      "Article 98: rachael ray shared goto recipe transform thanksgiving leftover delicious meal including pasta ragu savory stuffing waffletom mccorklethe washington postgetty image john la char\n",
      "Article 99: removed\n",
      "Article 100: recently compiled list ai stock wall street radar article going take look nvidia corporation nasdaqnvda stand ai stock ube char\n"
     ]
    },
    {
     "name": "stderr",
     "output_type": "stream",
     "text": [
      "[nltk_data] Downloading package stopwords to\n",
      "[nltk_data]     /Users/shivsonawane/nltk_data...\n",
      "[nltk_data]   Package stopwords is already up-to-date!\n",
      "[nltk_data] Downloading package wordnet to\n",
      "[nltk_data]     /Users/shivsonawane/nltk_data...\n",
      "[nltk_data]   Package wordnet is already up-to-date!\n"
     ]
    }
   ],
   "source": [
    "import nltk\n",
    "import re\n",
    "from nltk.corpus import stopwords\n",
    "from nltk.stem import WordNetLemmatizer\n",
    "\n",
    "# Ensuring necessary NLTK resources are downloaded\n",
    "nltk.download('stopwords')\n",
    "nltk.download('wordnet')\n",
    "\n",
    "# This Function is to preprocess an article\n",
    "def clean_article(article):\n",
    "    # Remove punctuation and special characters\n",
    "    article_clean = re.sub(r'[^a-zA-Z\\s]', '', article)\n",
    "    # Tokenize the text\n",
    "    tokens = article_clean.lower().split()\n",
    "    # Remove stop words\n",
    "    tokens = [word for word in tokens if word not in stop_words]\n",
    "    # Lemmatize words\n",
    "    tokens = [lemmatizer.lemmatize(word) for word in tokens]\n",
    "    # Join tokens back into a cleaned string\n",
    "    return ' '.join(tokens)\n",
    "    \n",
    " # Extract article content\n",
    "news_data = [article['content'] for article in articles if article['content']]  # Extract article content\n",
    "\n",
    "# Set tools for preprocessing\n",
    "stop_words = set(stopwords.words('english'))  # Load stop words\n",
    "lemmatizer = WordNetLemmatizer()  # Initialize lemmatizer\n",
    "\n",
    "# Applying the cleaning function to all articles fetched from NewsAPI\n",
    "cleaned_articles = [clean_article(article) for article in news_data]\n",
    "\n",
    "# Display the cleaned articles\n",
    "print(\"Cleaned Articles:\")\n",
    "for i, article in enumerate(cleaned_articles, start=1):\n",
    "    print(f\"Article {i}: {article}\")\n"
   ]
  },
  {
   "cell_type": "markdown",
   "id": "0a234f23-6a48-4053-894e-102110be82cb",
   "metadata": {},
   "source": [
    "### **Code Explanation**"
   ]
  },
  {
   "cell_type": "markdown",
   "id": "4d8434cc-7501-4657-9604-b5ec9d408412",
   "metadata": {},
   "source": [
    "1. **Data Input**:\n",
    "   - Articles from NewsAPI in Step 1 are used as input for cleaning.\n",
    "   - Only the `content` field is extracted and processed, this makes sure we work with the main body of the articles."
   ]
  },
  {
   "cell_type": "markdown",
   "id": "e85f1a46-51f4-40ce-9d94-ec2bfdfa03ca",
   "metadata": {},
   "source": [
    "2. **Text Preprocessing**:\n",
    "   - Preprocessing is performed using the `NLTK` library, including:\n",
    "     - **Stop Word Removal**: Eliminates unimportant common words.\n",
    "     - **Tokenization**: Breaks text into individual words."
   ]
  },
  {
   "cell_type": "markdown",
   "id": "fc2379f7-e90f-412c-81b0-e9a75a20dba5",
   "metadata": {},
   "source": [
    "3. **Output**:\n",
    "   - The cleaned articles are displayed, this shows us how the raw text has been transformed for analysis in our work."
   ]
  },
  {
   "cell_type": "markdown",
   "id": "4224ac68-0eaf-4875-a552-88b00995f8d4",
   "metadata": {},
   "source": [
    "### **Key Insights**\n",
    "- This step integrates directly with the data from Step 1, making the process more seamless.\n",
    "- This Step ensures that the variable `articles` is properly defined and contains the articles from NewsAPI.\n",
    "- If any article does not have `content`, it is skipped during preprocessing."
   ]
  },
  {
   "cell_type": "markdown",
   "id": "571965b3-a79d-4fc2-ba62-6fb641c34ea5",
   "metadata": {},
   "source": [
    "## **2.2 Synchronizing News and Stock Data**"
   ]
  },
  {
   "cell_type": "markdown",
   "id": "e8f8fdce-b576-4bb3-8521-e02aaa9b1c51",
   "metadata": {},
   "source": [
    "## **Objective**\n",
    "Align the cleaned news articles from NewsAPI with the corresponding stock price data based on the publication dates."
   ]
  },
  {
   "cell_type": "markdown",
   "id": "58e01dbc-bb56-4d7d-b055-626ac671e2ef",
   "metadata": {},
   "source": [
    "### **Steps**"
   ]
  },
  {
   "cell_type": "markdown",
   "id": "e88826a4-ee69-4cf8-a2c3-23e58bdb1573",
   "metadata": {},
   "source": [
    "1. **Convert Date Formats**:\n",
    "   - Ensuring that both the news data and stock data have date columns in a consistent format for merging.\n",
    "\n",
    "2. **Merge News and Stock Data**:\n",
    "   - Combine the datasets using the dates as a common key, ensuring each news article is aligned with the corresponding stock price on the same day.\n",
    "\n",
    "3. **Validate the Merged Dataset**:\n",
    "   - Check the merged data to ensure accuracy."
   ]
  },
  {
   "cell_type": "code",
   "execution_count": 92,
   "id": "94a9aaa1-73cb-4005-815b-11fbcc907b47",
   "metadata": {},
   "outputs": [
    {
     "name": "stdout",
     "output_type": "stream",
     "text": [
      "Merged Dataset:\n",
      "        Date                                    Cleaned_Article       Close  \\\n",
      "0 2024-01-02  cyber monday amazon extending impressive black...  248.419998   \n",
      "1 2024-01-03  microsoft mission change perception premium la...  238.449997   \n",
      "2 2024-01-03  investor hoping stellar year stock market caut...  238.449997   \n",
      "3 2024-01-04     tesla hit trillion market valuation first time  237.929993   \n",
      "4 2024-01-08  u index lower momentum waned closing high inve...  240.449997   \n",
      "\n",
      "         High         Low        Open     Volume  \n",
      "0  251.250000  244.410004  250.080002  104654200  \n",
      "1  245.679993  236.320007  244.979996  121082600  \n",
      "2  245.679993  236.320007  244.979996  121082600  \n",
      "3  242.699997  237.729996  239.250000  102629300  \n",
      "4  241.250000  235.300003  236.139999   85166600  \n"
     ]
    }
   ],
   "source": [
    "import pandas as pd\n",
    "# We now take the data from our previous steps and try and merge them in a meaningful way.\n",
    "\n",
    "# Example: Cleaned articles from Step 2.1\n",
    "news_data = pd.DataFrame({\n",
    "    'Date': [\n",
    "        '2024-01-02', '2024-01-03', '2024-01-03', '2024-01-04', '2024-01-08'\n",
    "    ],  # Example of publication dates from NewsAPI\n",
    "    'Cleaned_Article': [\n",
    "        \"cyber monday amazon extending impressive black friday deal\",\n",
    "        \"microsoft mission change perception premium laptop\",\n",
    "        \"investor hoping stellar year stock market cautious risk\",\n",
    "        \"tesla hit trillion market valuation first time\",\n",
    "        \"u index lower momentum waned closing high investor bracing economic update\"\n",
    "    ]  # Cleaned articles from Step 2.1\n",
    "})\n",
    "\n",
    "# Example: Tesla stock data based on Step 1.2.2 data.\n",
    "stock_data = pd.DataFrame({\n",
    "    'Date': ['2024-01-02', '2024-01-03', '2024-01-04', '2024-01-05', '2024-01-08'],\n",
    "    'Close': [248.419998, 238.449997, 237.929993, 237.490005, 240.449997],  # Closing prices\n",
    "    'High': [251.25, 245.679993, 242.699997, 240.119995, 241.25],  # High prices\n",
    "    'Low': [244.410004, 236.320007, 237.729996, 234.899994, 235.300003],  # Low prices\n",
    "    'Open': [250.080002, 244.979996, 239.25, 236.860001, 236.139999],  # Opening prices\n",
    "    'Volume': [104654200, 121082600, 102629300, 92379400, 85166600]  # Trading volume\n",
    "})\n",
    "\n",
    "# Step 2.2.1: Converting 'Date' columns to datetime format\n",
    "news_data['Date'] = pd.to_datetime(news_data['Date'])\n",
    "stock_data['Date'] = pd.to_datetime(stock_data['Date'])\n",
    "\n",
    "# Step 2.2.2: Mergint the news and stock data on 'Date'\n",
    "# Join articles with stock prices for the same date\n",
    "merged_data = pd.merge(news_data, stock_data, on='Date', how='inner')\n",
    "\n",
    "# Step 2.2.3: Display the merged dataset\n",
    "print(\"Merged Dataset:\")\n",
    "print(merged_data)\n"
   ]
  },
  {
   "cell_type": "markdown",
   "id": "6b576b7d-0ed4-4d6d-877f-162f9d9a708c",
   "metadata": {},
   "source": [
    "### **Code Explanation**"
   ]
  },
  {
   "cell_type": "markdown",
   "id": "5fee4e96-7024-47d3-a637-057aa0d4e150",
   "metadata": {},
   "source": [
    "1. **Input**:\n",
    "   - `cleaned_articles`: The cleaned version of the news articles generated in **Step 2.1**.\n",
    "   - `publishedAt`: The date when each article was published (from NewsAPI data).\n",
    "   - `stock_data`: The stock price data collected in **Step 1**.\n"
   ]
  },
  {
   "cell_type": "markdown",
   "id": "5d04790c-9d1a-4731-a024-9a0826fe48d5",
   "metadata": {},
   "source": [
    "2. **Processing**:\n",
    "   - Convert all the date columns to `datetime` format to maintain consistency during merging.\n",
    "   - Merge the datasets on the `Date` column.\n"
   ]
  },
  {
   "cell_type": "markdown",
   "id": "802dfbae-42b6-4972-80bd-612918dab635",
   "metadata": {},
   "source": [
    "3. **Output**:\n",
    "   - A unified dataset that contains:\n",
    "     - **Date**: The date of the news and stock price.\n",
    "     - **Cleaned_Article**: The preprocessed version of the news article.\n",
    "     - **Close**: The stock's closing price on that date.\n",
    "\n"
   ]
  },
  {
   "cell_type": "markdown",
   "id": "0b817cd4-c424-4e30-9423-832704eacaf7",
   "metadata": {},
   "source": [
    "## **3. Sentiment Analysis**"
   ]
  },
  {
   "cell_type": "markdown",
   "id": "1741d3a5-97de-48a8-a185-f5dc62413f5d",
   "metadata": {},
   "source": [
    "### **Objective**\n",
    "Analyze the sentiment of each cleaned news article to determine if it is positive, negative, or neutral. This will help us understand the tone of the news and its potential impact on stock prices.\n"
   ]
  },
  {
   "cell_type": "markdown",
   "id": "8f045958-c5c9-4fc9-b68f-4e3aa2bb1cc8",
   "metadata": {},
   "source": [
    "### **Steps**"
   ]
  },
  {
   "cell_type": "markdown",
   "id": "7b61163a-f03f-4702-962a-69acdfa96829",
   "metadata": {},
   "source": [
    "1. **Use VADER for Sentiment Analysis**:\n",
    "   - Apply the VADER sentiment analysis tool from the `NLTK` library to analyze the tone of each article.\n"
   ]
  },
  {
   "cell_type": "markdown",
   "id": "ab67923f-79bc-402c-8d68-4a9a7f50f074",
   "metadata": {},
   "source": [
    "2. **Assign Sentiment Scores**:\n",
    "   - Generate sentiment metrics for each article, including:\n",
    "     - **Positive**: Indicates the proportion of positive sentiment.\n",
    "     - **Negative**: Indicates the proportion of negative sentiment.\n",
    "     - **Neutral**: Indicates the proportion of neutral sentiment.\n",
    "     - **Compound**: A combined score representing the overall sentiment.\n"
   ]
  },
  {
   "cell_type": "markdown",
   "id": "293a9b91-f63b-47da-8cb3-5cf1b0716258",
   "metadata": {},
   "source": [
    "3. **Aggregate Sentiment by Date**:\n",
    "   - Group sentiment scores by date to observe trends over time.\n"
   ]
  },
  {
   "cell_type": "code",
   "execution_count": 111,
   "id": "7c1d66a5-df52-4ffe-8d2a-99e02528a59d",
   "metadata": {},
   "outputs": [
    {
     "name": "stderr",
     "output_type": "stream",
     "text": [
      "[nltk_data] Downloading package vader_lexicon to\n",
      "[nltk_data]     /Users/shivsonawane/nltk_data...\n",
      "[nltk_data]   Package vader_lexicon is already up-to-date!\n"
     ]
    }
   ],
   "source": [
    "from nltk.sentiment import SentimentIntensityAnalyzer\n",
    "import pandas as pd\n",
    "\n",
    "# 3.1: Initialize the VADER Sentiment Analyzer\n",
    "import nltk\n",
    "nltk.download('vader_lexicon')\n",
    "sia = SentimentIntensityAnalyzer()\n"
   ]
  },
  {
   "cell_type": "code",
   "execution_count": 117,
   "id": "6245912e-6190-4856-b970-dc36efc75573",
   "metadata": {},
   "outputs": [],
   "source": [
    "# Step 3.2: Use the Merged Dataset from Step 2.2\n",
    "merged_data = pd.DataFrame({\n",
    "    'Date': ['2024-01-02', '2024-01-03', '2024-01-03', '2024-01-04', '2024-01-08'],\n",
    "    'Cleaned_Article': [\n",
    "        \"cyber monday amazon extending impressive black friday deal hard resist run stock among popular product samsung\",\n",
    "        \"microsoft mission change perception premium laptop making compelling case macbook recent launch surface laptop series\",\n",
    "        \"investor hoping stellar year stock market cautious risk horizon u stock could see significant correction\",\n",
    "        \"tesla hit trillion market valuation first time\",\n",
    "        \"u index lower momentum waned closing high investor bracing several economic update scheduled week\"\n",
    "    ],\n",
    "    'Close': [248.419998, 238.449997, 238.449997, 237.929993, 240.449997],\n",
    "    'High': [251.250000, 245.679993, 245.679993, 242.699997, 241.250000],\n",
    "    'Low': [244.410004, 236.320007, 236.320007, 237.729996, 235.300003],\n",
    "    'Open': [250.080002, 244.979996, 244.979996, 239.250000, 236.139999],\n",
    "    'Volume': [104654200, 121082600, 121082600, 102629300, 85166600]\n",
    "})\n"
   ]
  },
  {
   "cell_type": "code",
   "execution_count": 119,
   "id": "502d3e37-f263-445f-9c86-b3dc0db6efc5",
   "metadata": {},
   "outputs": [],
   "source": [
    "# Step 3.3: Apply the Sentiment Analysis\n",
    "def analyze_sentiment(text):\n",
    "    return sia.polarity_scores(text)\n",
    "\n",
    "# Apply the sentiment analysis to the Cleaned_Article column\n",
    "sentiment_scores = merged_data['Cleaned_Article'].apply(analyze_sentiment)\n",
    "\n",
    "# Step 3.4: Add Sentiment Scores as New Columns\n",
    "merged_data['Positive'] = sentiment_scores.apply(lambda x: x['pos'])\n",
    "merged_data['Negative'] = sentiment_scores.apply(lambda x: x['neg'])\n",
    "merged_data['Neutral'] = sentiment_scores.apply(lambda x: x['neu'])\n",
    "merged_data['Compound'] = sentiment_scores.apply(lambda x: x['compound'])\n"
   ]
  },
  {
   "cell_type": "code",
   "execution_count": 121,
   "id": "bd227d5d-deb6-4721-ab09-7873da6d20c7",
   "metadata": {},
   "outputs": [
    {
     "name": "stdout",
     "output_type": "stream",
     "text": [
      "Dataset with Sentiment Scores:\n",
      "         Date                                    Cleaned_Article       Close  \\\n",
      "0  2024-01-02  cyber monday amazon extending impressive black...  248.419998   \n",
      "1  2024-01-03  microsoft mission change perception premium la...  238.449997   \n",
      "2  2024-01-03  investor hoping stellar year stock market caut...  238.449997   \n",
      "3  2024-01-04     tesla hit trillion market valuation first time  237.929993   \n",
      "4  2024-01-08  u index lower momentum waned closing high inve...  240.449997   \n",
      "\n",
      "         High         Low        Open     Volume  Positive  Negative  Neutral  \\\n",
      "0  251.250000  244.410004  250.080002  104654200     0.368     0.066    0.566   \n",
      "1  245.679993  236.320007  244.979996  121082600     0.119     0.000    0.881   \n",
      "2  245.679993  236.320007  244.979996  121082600     0.254     0.193    0.552   \n",
      "3  242.699997  237.729996  239.250000  102629300     0.000     0.000    1.000   \n",
      "4  241.250000  235.300003  236.139999   85166600     0.000     0.155    0.845   \n",
      "\n",
      "   Compound  \n",
      "0    0.7506  \n",
      "1    0.2263  \n",
      "2    0.2732  \n",
      "3    0.0000  \n",
      "4   -0.2960  \n",
      "\n",
      "Aggregated Sentiment by Date:\n",
      "         Date  Positive  Negative  Neutral  Compound       Close        High  \\\n",
      "0  2024-01-02    0.3680    0.0660   0.5660   0.75060  248.419998  251.250000   \n",
      "1  2024-01-03    0.1865    0.0965   0.7165   0.24975  238.449997  245.679993   \n",
      "2  2024-01-04    0.0000    0.0000   1.0000   0.00000  237.929993  242.699997   \n",
      "3  2024-01-08    0.0000    0.1550   0.8450  -0.29600  240.449997  241.250000   \n",
      "\n",
      "          Low        Open       Volume  \n",
      "0  244.410004  250.080002  104654200.0  \n",
      "1  236.320007  244.979996  121082600.0  \n",
      "2  237.729996  239.250000  102629300.0  \n",
      "3  235.300003  236.139999   85166600.0  \n"
     ]
    }
   ],
   "source": [
    "# Step 3.5: Aggregate the Sentiment by Date\n",
    "aggregated_data = merged_data.groupby('Date').agg({\n",
    "    'Positive': 'mean',\n",
    "    'Negative': 'mean',\n",
    "    'Neutral': 'mean',\n",
    "    'Compound': 'mean',\n",
    "    'Close': 'mean',\n",
    "    'High': 'mean',\n",
    "    'Low': 'mean',\n",
    "    'Open': 'mean',\n",
    "    'Volume': 'mean'\n",
    "}).reset_index()\n",
    "\n",
    "# Step 3.6: Display the Results\n",
    "print(\"Dataset with Sentiment Scores:\")\n",
    "print(merged_data)\n",
    "\n",
    "print(\"\\nAggregated Sentiment by Date:\")\n",
    "print(aggregated_data)\n"
   ]
  },
  {
   "cell_type": "markdown",
   "id": "b5b533f5-596a-4599-98d4-cdfecf794cab",
   "metadata": {},
   "source": [
    "### **Code Explanation**\n"
   ]
  },
  {
   "cell_type": "markdown",
   "id": "a6cad61d-522e-4f79-b258-83bf89a344a0",
   "metadata": {},
   "source": [
    "1. **Input**:\n",
    "   - The merged dataset from **Step 2.2**, containing cleaned news articles and stock data.\n",
    "2. **Processing**:\n",
    "   - Each article's sentiment is analyzed using VADER.\n",
    "   - The results are stored as new columns in the dataset.\n",
    "3. **Output**:\n",
    "   - A dataset enriched with sentiment scores, ready for correlation and trend analysis.\n"
   ]
  },
  {
   "cell_type": "markdown",
   "id": "94ae43e1-4cb5-4b03-862b-1e49d8ea25f8",
   "metadata": {},
   "source": [
    "## **4. Topic Modeling**"
   ]
  },
  {
   "cell_type": "markdown",
   "id": "8a618d49-6b06-4db7-a7fd-1b4eca7949da",
   "metadata": {},
   "source": [
    "### **Objective**\n",
    "Identify key themes or topics within the cleaned news articles to understand the broader narratives influencing the stock market."
   ]
  },
  {
   "cell_type": "markdown",
   "id": "6e6d7447-28f5-4ea6-b6fa-88fb218b73b9",
   "metadata": {},
   "source": [
    "### **Steps**"
   ]
  },
  {
   "cell_type": "markdown",
   "id": "c9e80b4b-7d73-44b4-968c-e3add21acb3f",
   "metadata": {},
   "source": [
    "1. **Tokenize Cleaned Articles**:\n",
    "   - Break down the cleaned articles into individual words.\n",
    "\n",
    "2. **Prepare Data for Topic Modeling**:\n",
    "   - Create a dictionary mapping words to unique IDs.\n",
    "   - Convert the text into a bag-of-words representation (word counts).\n",
    "\n",
    "3. **Apply LDA**:\n",
    "   - Use Latent Dirichlet Allocation (LDA) to identify topics within the dataset.\n",
    "\n",
    "4. **Visualize Topics**:\n",
    "   - Display the most prominent words in each topic.\n",
    "   - Generate word clouds for a more intuitive understanding.\n"
   ]
  },
  {
   "cell_type": "markdown",
   "id": "8fa8297a-0593-4af9-b405-5db1d4d3f683",
   "metadata": {},
   "source": [
    "##### **Step 4.1: Resolving Compatibility Issues**\n",
    "\n",
    "This step was a rollercoaster. Compatibility issues with `scipy` and `gensim` threw errors left and right, and even `matplotlib` decided to join the rebellion with missing imports. After a series of failed fixes (even ChatGPT was scratching its virtual head), I turned to the ultimate IT solution—shutting Anaconda off and turning it back on. Sprinkle in a little prayer, and voilà, it worked! Whether it was divine intervention or sheer stubbornness, I’m still not sure, but here’s step 4.1, chronicling my valiant quest to install the necessary resources.\n"
   ]
  },
  {
   "cell_type": "code",
   "execution_count": 178,
   "id": "3c6445c3-7607-4788-abb5-0f96dcea0572",
   "metadata": {},
   "outputs": [
    {
     "name": "stdout",
     "output_type": "stream",
     "text": [
      "/Users/shivsonawane/.zshenv:1: missing delimiter for 'u' glob qualifier\n",
      "Collecting gensim\n",
      "  Using cached gensim-4.3.3-cp312-cp312-macosx_11_0_arm64.whl.metadata (8.1 kB)\n",
      "Requirement already satisfied: numpy<2.0,>=1.18.5 in /opt/anaconda3/lib/python3.12/site-packages (from gensim) (1.26.4)\n",
      "Requirement already satisfied: scipy<1.14.0,>=1.7.0 in /opt/anaconda3/lib/python3.12/site-packages (from gensim) (1.13.1)\n",
      "Requirement already satisfied: smart-open>=1.8.1 in /opt/anaconda3/lib/python3.12/site-packages (from gensim) (5.2.1)\n",
      "Using cached gensim-4.3.3-cp312-cp312-macosx_11_0_arm64.whl (24.0 MB)\n",
      "Installing collected packages: gensim\n",
      "Successfully installed gensim-4.3.3\n"
     ]
    }
   ],
   "source": [
    "!pip install gensim"
   ]
  },
  {
   "cell_type": "code",
   "execution_count": 3,
   "id": "873b541e-0630-45cd-9f71-4b0028ad1efb",
   "metadata": {
    "scrolled": true
   },
   "outputs": [
    {
     "name": "stdout",
     "output_type": "stream",
     "text": [
      "Gensim is successfully imported!\n"
     ]
    }
   ],
   "source": [
    "from gensim import corpora, models\n",
    "print(\"Gensim is successfully imported!\")\n"
   ]
  },
  {
   "cell_type": "code",
   "execution_count": 7,
   "id": "351c4056-d277-42c3-b47b-1ba0608cc709",
   "metadata": {},
   "outputs": [
    {
     "name": "stdout",
     "output_type": "stream",
     "text": [
      "/Users/shivsonawane/.zshenv:1: missing delimiter for 'u' glob qualifier\n",
      "Collecting wordcloud\n",
      "  Downloading wordcloud-1.9.4-cp312-cp312-macosx_11_0_arm64.whl.metadata (3.4 kB)\n",
      "Requirement already satisfied: numpy>=1.6.1 in /opt/anaconda3/lib/python3.12/site-packages (from wordcloud) (1.26.4)\n",
      "Requirement already satisfied: pillow in /opt/anaconda3/lib/python3.12/site-packages (from wordcloud) (10.3.0)\n",
      "Requirement already satisfied: matplotlib in /opt/anaconda3/lib/python3.12/site-packages (from wordcloud) (3.8.4)\n",
      "Requirement already satisfied: contourpy>=1.0.1 in /opt/anaconda3/lib/python3.12/site-packages (from matplotlib->wordcloud) (1.2.0)\n",
      "Requirement already satisfied: cycler>=0.10 in /opt/anaconda3/lib/python3.12/site-packages (from matplotlib->wordcloud) (0.11.0)\n",
      "Requirement already satisfied: fonttools>=4.22.0 in /opt/anaconda3/lib/python3.12/site-packages (from matplotlib->wordcloud) (4.51.0)\n",
      "Requirement already satisfied: kiwisolver>=1.3.1 in /opt/anaconda3/lib/python3.12/site-packages (from matplotlib->wordcloud) (1.4.4)\n",
      "Requirement already satisfied: packaging>=20.0 in /opt/anaconda3/lib/python3.12/site-packages (from matplotlib->wordcloud) (23.2)\n",
      "Requirement already satisfied: pyparsing>=2.3.1 in /opt/anaconda3/lib/python3.12/site-packages (from matplotlib->wordcloud) (3.0.9)\n",
      "Requirement already satisfied: python-dateutil>=2.7 in /opt/anaconda3/lib/python3.12/site-packages (from matplotlib->wordcloud) (2.9.0.post0)\n",
      "Requirement already satisfied: six>=1.5 in /opt/anaconda3/lib/python3.12/site-packages (from python-dateutil>=2.7->matplotlib->wordcloud) (1.16.0)\n",
      "Downloading wordcloud-1.9.4-cp312-cp312-macosx_11_0_arm64.whl (168 kB)\n",
      "\u001b[2K   \u001b[90m━━━━━━━━━━━━━━━━━━━━━━━━━━━━━━━━━━━━━━━━\u001b[0m \u001b[32m168.9/168.9 kB\u001b[0m \u001b[31m3.4 MB/s\u001b[0m eta \u001b[36m0:00:00\u001b[0ma \u001b[36m0:00:01\u001b[0m\n",
      "\u001b[?25hInstalling collected packages: wordcloud\n",
      "Successfully installed wordcloud-1.9.4\n"
     ]
    }
   ],
   "source": [
    "!pip install wordcloud"
   ]
  },
  {
   "cell_type": "code",
   "execution_count": 9,
   "id": "ef60dec1-5ebd-4c47-854c-f7223f641f48",
   "metadata": {},
   "outputs": [
    {
     "name": "stdout",
     "output_type": "stream",
     "text": [
      "WordCloud is successfully imported!\n"
     ]
    }
   ],
   "source": [
    "from wordcloud import WordCloud\n",
    "print(\"WordCloud is successfully imported!\")\n"
   ]
  },
  {
   "cell_type": "code",
   "execution_count": 34,
   "id": "e91b812e-0e82-4517-a72e-806e4dc98afb",
   "metadata": {},
   "outputs": [],
   "source": [
    "\n",
    "from gensim import corpora, models\n",
    "from nltk.tokenize import word_tokenize\n",
    "import matplotlib.pyplot as plt\n",
    "from wordcloud import WordCloud\n",
    "import pandas as pd\n"
   ]
  },
  {
   "cell_type": "code",
   "execution_count": 36,
   "id": "0062202b-c7e7-4284-b920-a825f901ce1c",
   "metadata": {},
   "outputs": [
    {
     "name": "stderr",
     "output_type": "stream",
     "text": [
      "[nltk_data] Downloading package punkt to\n",
      "[nltk_data]     /Users/shivsonawane/nltk_data...\n",
      "[nltk_data]   Package punkt is already up-to-date!\n"
     ]
    },
    {
     "data": {
      "text/plain": [
       "True"
      ]
     },
     "execution_count": 36,
     "metadata": {},
     "output_type": "execute_result"
    }
   ],
   "source": [
    "import nltk\n",
    "nltk.download('punkt')"
   ]
  },
  {
   "cell_type": "code",
   "execution_count": 41,
   "id": "025a574e-e28f-4077-b7ca-596a157449fd",
   "metadata": {},
   "outputs": [
    {
     "name": "stderr",
     "output_type": "stream",
     "text": [
      "[nltk_data] Downloading package punkt to\n",
      "[nltk_data]     /Users/shivsonawane/nltk_data...\n",
      "[nltk_data]   Package punkt is already up-to-date!\n"
     ]
    },
    {
     "data": {
      "text/plain": [
       "True"
      ]
     },
     "execution_count": 41,
     "metadata": {},
     "output_type": "execute_result"
    }
   ],
   "source": [
    "import nltk\n",
    "from nltk.tokenize import word_tokenize\n",
    "nltk.download('punkt')  \n"
   ]
  },
  {
   "cell_type": "code",
   "execution_count": 43,
   "id": "f98a810e-9170-409c-bdb7-4b44a04dee77",
   "metadata": {},
   "outputs": [],
   "source": [
    "from gensim import corpora"
   ]
  },
  {
   "cell_type": "code",
   "execution_count": 45,
   "id": "0df01f59-2d80-4bf0-9c75-ea92e5b84eb1",
   "metadata": {},
   "outputs": [
    {
     "name": "stdout",
     "output_type": "stream",
     "text": [
      "/Users/shivsonawane/.zshenv:1: missing delimiter for 'u' glob qualifier\n",
      "Requirement already satisfied: gensim in /opt/anaconda3/lib/python3.12/site-packages (4.3.3)\n",
      "Requirement already satisfied: numpy<2.0,>=1.18.5 in /opt/anaconda3/lib/python3.12/site-packages (from gensim) (1.26.4)\n",
      "Requirement already satisfied: scipy<1.14.0,>=1.7.0 in /opt/anaconda3/lib/python3.12/site-packages (from gensim) (1.13.1)\n",
      "Requirement already satisfied: smart-open>=1.8.1 in /opt/anaconda3/lib/python3.12/site-packages (from gensim) (5.2.1)\n"
     ]
    }
   ],
   "source": [
    "!pip install gensim"
   ]
  },
  {
   "cell_type": "code",
   "execution_count": 47,
   "id": "1486e10c-a0c2-4202-97d0-e80e628a77c7",
   "metadata": {},
   "outputs": [],
   "source": [
    "from gensim import models\n"
   ]
  },
  {
   "cell_type": "code",
   "execution_count": 49,
   "id": "2800e0ed-dd5b-4393-bc6c-6c029daf2374",
   "metadata": {},
   "outputs": [],
   "source": [
    "from wordcloud import WordCloud"
   ]
  },
  {
   "cell_type": "code",
   "execution_count": 51,
   "id": "621e2cb4-8e14-4c20-9d83-0c14596cd3f4",
   "metadata": {},
   "outputs": [],
   "source": [
    "import matplotlib.pyplot as plt"
   ]
  },
  {
   "cell_type": "code",
   "execution_count": 158,
   "id": "c7094864-9ec9-4eef-84aa-c614d6356d4a",
   "metadata": {},
   "outputs": [],
   "source": [
    "import plotly.express as px"
   ]
  },
  {
   "cell_type": "markdown",
   "id": "b7c3edb4-1b2a-415c-972a-d3d6545ff522",
   "metadata": {},
   "source": [
    "##### **Preperation of the Data**\n"
   ]
  },
  {
   "cell_type": "code",
   "execution_count": 58,
   "id": "f18bafae-88cb-4ee0-b67c-7347ec45d14e",
   "metadata": {},
   "outputs": [],
   "source": [
    "# Step 4.2: Use the cleaned articles from Step 3\n",
    "cleaned_articles = [\n",
    "    \"cyber monday amazon extending impressive black friday deal\",\n",
    "    \"microsoft mission change perception premium laptop\",\n",
    "    \"investor hoping stellar year stock market cautious risk\",\n",
    "    \"tesla hit trillion market valuation first time\",\n",
    "    \"u index lower momentum waned closing high investor bracing economic update\"\n",
    "]\n",
    "\n",
    "# Step 4.3: Tokenize the cleaned articles\n",
    "tokenized_articles = [word_tokenize(article) for article in cleaned_articles]\n"
   ]
  },
  {
   "cell_type": "markdown",
   "id": "77f712fc-036f-4f9d-b03e-27085511f72b",
   "metadata": {},
   "source": [
    "##### **Creating Dictionary and Corpus**\n"
   ]
  },
  {
   "cell_type": "code",
   "execution_count": 63,
   "id": "b2ab1428-91ef-49d6-b096-2012c25212e5",
   "metadata": {},
   "outputs": [],
   "source": [
    "# Step 4.4: Creating a dictionary and corpus for LDA\n",
    "dictionary = corpora.Dictionary(tokenized_articles)  # Map words to IDs\n",
    "corpus = [dictionary.doc2bow(article) for article in tokenized_articles]  # Convert text to bag-of-words\n"
   ]
  },
  {
   "cell_type": "markdown",
   "id": "9486f70e-70be-457b-be3c-7459d89776d7",
   "metadata": {},
   "source": [
    "##### **LDA Implimintation**\n"
   ]
  },
  {
   "cell_type": "code",
   "execution_count": 67,
   "id": "425f34c1-5c15-42eb-acfb-c131210df7d0",
   "metadata": {},
   "outputs": [
    {
     "name": "stdout",
     "output_type": "stream",
     "text": [
      "Identified Topics:\n",
      "Topic 0: 0.043*\"time\" + 0.043*\"valuation\" + 0.043*\"first\" + 0.043*\"lower\" + 0.043*\"tesla\"\n",
      "Topic 1: 0.050*\"friday\" + 0.050*\"cyber\" + 0.050*\"amazon\" + 0.050*\"deal\" + 0.050*\"monday\"\n",
      "Topic 2: 0.065*\"market\" + 0.065*\"investor\" + 0.064*\"risk\" + 0.064*\"hoping\" + 0.064*\"cautious\"\n"
     ]
    }
   ],
   "source": [
    "# Step 4.5: Apply LDA for topic modeling\n",
    "lda_model = models.LdaModel(corpus, num_topics=3, id2word=dictionary, passes=10)\n",
    "\n",
    "# Step 4.6: Display the topics\n",
    "print(\"Identified Topics:\")\n",
    "topics = lda_model.print_topics(num_words=5)\n",
    "for idx, topic in topics:\n",
    "    print(f\"Topic {idx}: {topic}\")\n"
   ]
  },
  {
   "cell_type": "markdown",
   "id": "127eacab-a5a0-4989-8a03-b242935800c3",
   "metadata": {},
   "source": [
    "##### **Generating Word Cloud**\n"
   ]
  },
  {
   "cell_type": "code",
   "execution_count": 172,
   "id": "275831c0-d734-47cd-8f03-56496df27f46",
   "metadata": {},
   "outputs": [
    {
     "data": {
      "image/png": "[encoded data removed]",
      "text/plain": [
       "<Figure size 1000x500 with 1 Axes>"
      ]
     },
     "metadata": {},
     "output_type": "display_data"
    },
    {
     "data": {
      "image/png": "[encoded data removed]",
      "text/plain": [
       "<Figure size 1000x500 with 1 Axes>"
      ]
     },
     "metadata": {},
     "output_type": "display_data"
    },
    {
     "data": {
      "image/png": "[encoded data removed]",
      "text/plain": [
       "<Figure size 1000x500 with 1 Axes>"
      ]
     },
     "metadata": {},
     "output_type": "display_data"
    }
   ],
   "source": [
    "# Step 4.7: Generate word clouds for each topic\n",
    "def generate_wordcloud(topic):\n",
    "    word_freq = dict(lda_model.show_topic(topic, topn=10))\n",
    "    wordcloud = WordCloud(width=800, height=400, background_color='white').generate_from_frequencies(word_freq)\n",
    "    plt.figure(figsize=(10, 5))\n",
    "    plt.imshow(wordcloud, interpolation=\"bilinear\")\n",
    "    plt.axis(\"off\")\n",
    "    plt.title(f\"Word Cloud for Topic {topic}\")\n",
    "    plt.show()\n",
    "\n",
    "# Generate word clouds for all topics\n",
    "for topic_idx in range(3):\n",
    "    generate_wordcloud(topic_idx)\n"
   ]
  },
  {
   "cell_type": "markdown",
   "id": "e873ae39-40b3-4adc-b131-8a61bc7e632c",
   "metadata": {},
   "source": [
    "**Why Word Clouds?**  \n",
    "Word clouds give a quick, visual overview of the key words in each topic. Larger words represent higher importance this makes it easier to understand and communicate the central themes without going into technical details.\n",
    "\n",
    "This step bridges the gap between raw textual data and actionable insights by highlighting the main topics in an accessible way."
   ]
  },
  {
   "cell_type": "markdown",
   "id": "fcc87a65-b3f5-4a02-be4b-396802424a10",
   "metadata": {},
   "source": [
    "#### **Code Explanation**"
   ]
  },
  {
   "cell_type": "markdown",
   "id": "ed15d2f7-0b2d-412b-970e-c1fd0044cb6e",
   "metadata": {},
   "source": [
    "1. **Input**:\n",
    "   - The cleaned articles from Step 3.\n",
    "2. **Processing**:\n",
    "   - Tokenize the articles and prepare the data for LDA.\n",
    "   - Run LDA to extract topics and their associated words.\n",
    "3. **Output**:\n",
    "   - A list of topics with their key words.\n",
    "   - Word clouds for each topic."
   ]
  },
  {
   "cell_type": "markdown",
   "id": "040daab8-002f-459a-97de-4dc959962a4a",
   "metadata": {},
   "source": [
    "# **5. Analyzing Sentiment and Topic Correlations**"
   ]
  },
  {
   "cell_type": "markdown",
   "id": "484643f6-59ed-4e65-a1b9-8a7b45bef412",
   "metadata": {},
   "source": [
    "### **Objectives**  \n",
    "Analyze potential correlations between sentiment scores, identified topics, and Tesla's stock data. By doing this, we aim to uncover patterns and insights about how financial news impacts stock price movements.\n"
   ]
  },
  {
   "cell_type": "markdown",
   "id": "f77d7e0b-d08b-4228-813c-be42bad9c8db",
   "metadata": {},
   "source": [
    "### **Steps**  "
   ]
  },
  {
   "cell_type": "markdown",
   "id": "5482f410-6c3c-47da-9df5-b9cdf924f3a7",
   "metadata": {},
   "source": [
    "1. **Merge Sentiment Scores and Topics with Stock Data**  \n",
    "   - Combine the sentiment scores and identified topics with Tesla stock data and align by date for accurate analysis."
   ]
  },
  {
   "cell_type": "markdown",
   "id": "ae9cdb84-e427-4fa7-b1ab-f460c7b87022",
   "metadata": {},
   "source": [
    "2. **Calculate Correlations**  \n",
    "     - Use statistics to calculate correlations between:\n",
    "     - Sentiment scores (positive, negative, neutral, compound) and stock prices (open, close, high, low).\n",
    "     - Key topics and stock price movements."
   ]
  },
  {
   "cell_type": "markdown",
   "id": "b9d9f2d0-bbf3-4f18-b132-c1c4f2f20c23",
   "metadata": {},
   "source": [
    "3. **Visualize Insights**  \n",
    "   - Create graphs and heatmaps to visualize relationships and patterns between sentiment, topics, and stock market behavior."
   ]
  },
  {
   "cell_type": "markdown",
   "id": "a03c8d91-57fa-4405-8d28-6f3d8e13ea84",
   "metadata": {},
   "source": [
    "##### **Merging**"
   ]
  },
  {
   "cell_type": "code",
   "execution_count": 91,
   "id": "0d02989e-081a-4772-9d3d-d6641ee52687",
   "metadata": {},
   "outputs": [
    {
     "name": "stdout",
     "output_type": "stream",
     "text": [
      "Merged Dataset:\n",
      "         Date  Positive  Negative  Neutral  Compound   Close     Volume\n",
      "0  2024-01-02    0.3680    0.0660   0.5660   0.75060  248.42  104654200\n",
      "1  2024-01-03    0.1865    0.0965   0.7165   0.24975  238.45  121082600\n",
      "2  2024-01-04    0.0000    0.0000   1.0000   0.00000  237.93  102629300\n",
      "3  2024-01-08    0.0000    0.1550   0.8450  -0.29600  240.45   85166600\n"
     ]
    }
   ],
   "source": [
    "# Step 5.1: Merge sentiment and topic data with stock data\n",
    "# Load the sentiment dataset (output of Step 3)\n",
    "sentiment_data = pd.DataFrame({\n",
    "    'Date': ['2024-01-02', '2024-01-03', '2024-01-04', '2024-01-08'],\n",
    "    'Positive': [0.368, 0.1865, 0.0, 0.0],\n",
    "    'Negative': [0.066, 0.0965, 0.0, 0.155],\n",
    "    'Neutral': [0.566, 0.7165, 1.0, 0.845],\n",
    "    'Compound': [0.7506, 0.24975, 0.0, -0.296]\n",
    "})\n",
    "\n",
    "# Load stock data\n",
    "stock_data = pd.DataFrame({\n",
    "    'Date': ['2024-01-02', '2024-01-03', '2024-01-04', '2024-01-08'],\n",
    "    'Close': [248.42, 238.45, 237.93, 240.45],\n",
    "    'Volume': [104654200, 121082600, 102629300, 85166600]\n",
    "})\n",
    "\n",
    "# Merge datasets on Date\n",
    "merged_data = pd.merge(sentiment_data, stock_data, on='Date')\n",
    "print(\"Merged Dataset:\")\n",
    "print(merged_data)\n"
   ]
  },
  {
   "cell_type": "markdown",
   "id": "c6b739db-8b06-43b2-86dd-1083d9fbb14b",
   "metadata": {},
   "source": [
    "##### **Calculate Correlations**"
   ]
  },
  {
   "cell_type": "code",
   "execution_count": null,
   "id": "00776135-b13b-46ea-a906-ab0e25cd7c29",
   "metadata": {},
   "outputs": [],
   "source": []
  },
  {
   "cell_type": "markdown",
   "id": "4001ffcd-9062-4119-99ad-eca128060014",
   "metadata": {},
   "source": [
    "##### Note: Filtering Numeric Data for Correlation\n",
    "\n",
    "In this step, we filter the DataFrame `merged_data` to include only numeric columns (e.g., stock prices, sentiment scores) using the `.select_dtypes()` method. This makes sure we avoid errors during correlation calculations, as non-numeric data like text (e.g., article titles) or dates cannot be used in mathematical operations.\n",
    "\n",
    "##### **Real-World Analogy** : Imagine a spreadsheet where some columns contain numbers (like stock prices) and others contain text (like article titles). If you're trying to find relationships (correlations), you would ignore the text and focus on the numbers. This code acts like a filter that separates the numbers from the rest, keeping our analysis smooth and error-free.\n"
   ]
  },
  {
   "cell_type": "code",
   "execution_count": 102,
   "id": "2b54e201-8199-4d99-bdca-506cd2324fac",
   "metadata": {},
   "outputs": [
    {
     "name": "stdout",
     "output_type": "stream",
     "text": [
      "Correlation Matrix:\n",
      "          Positive  Negative   Neutral  Compound     Close    Volume\n",
      "Positive  1.000000 -0.050612 -0.937119  0.959988  0.809242  0.484849\n",
      "Negative -0.050612  1.000000 -0.301131 -0.328046  0.062882 -0.362815\n",
      "Neutral  -0.937119 -0.301131  1.000000 -0.801950 -0.793887 -0.337202\n",
      "Compound  0.959988 -0.328046 -0.801950  1.000000  0.754220  0.551231\n",
      "Close     0.809242  0.062882 -0.793887  0.754220  1.000000 -0.109088\n",
      "Volume    0.484849 -0.362815 -0.337202  0.551231 -0.109088  1.000000\n"
     ]
    }
   ],
   "source": [
    "# Step 5.2: Calculate correlations between sentiment and stock data \n",
    "# Selecting only numeric columns for correlation calculation\n",
    "numeric_columns = merged_data.select_dtypes(include=['float64', 'int64'])\n",
    "\n",
    "# Computing the correlation matrix\n",
    "correlations = numeric_columns.corr()\n",
    "\n",
    "# Display the correlation matrix\n",
    "print(\"Correlation Matrix:\")\n",
    "print(correlations)\n"
   ]
  },
  {
   "cell_type": "code",
   "execution_count": 245,
   "id": "2845d0f5-6f28-4cf5-bb46-a46a89bf6d4e",
   "metadata": {},
   "outputs": [
    {
     "data": {
      "image/png": "[encoded data removed]",
      "text/plain": [
       "<Figure size 1000x500 with 2 Axes>"
      ]
     },
     "metadata": {},
     "output_type": "display_data"
    }
   ],
   "source": [
    "# Step 5.3: Visualising correlations using a heatmap\n",
    "import seaborn as sns\n",
    "import matplotlib.pyplot as plt\n",
    "\n",
    "# Creating the heatmap\n",
    "plt.figure(figsize=(10, 5))\n",
    "sns.heatmap(\n",
    "    correlations,\n",
    "    annot=True,  # Show the correlation values\n",
    "    fmt=\".2f\",  # Format the values\n",
    "    cmap=\"coolwarm\",  # Color scheme for better visualization\n",
    "    cbar=True,  # Show the color bar\n",
    "    square=True,  # Square-shaped cells\n",
    "    linewidths=0.5,  # Add grid lines\n",
    ")\n",
    "\n",
    "# Customizing the plot\n",
    "plt.title(\"Correlation Heatmap Between Sentiment and Stock Metrics\")\n",
    "plt.xticks(rotation=45)  # Rotate x-axis labels for better readability\n",
    "plt.yticks(rotation=0)   # Keep y-axis labels horizontal\n",
    "plt.tight_layout()       # Adjust layout to prevent clipping\n",
    "\n",
    "# Show the plot\n",
    "plt.show()\n"
   ]
  },
  {
   "cell_type": "markdown",
   "id": "6ad29d35-c1bc-485a-aae1-288608f14e93",
   "metadata": {},
   "source": [
    "##### **Heatmap Insights**  \n",
    "Heatmap will illustrate how sentiment scores and topics correlate with stock price movements. These visuals will highlight trends, such as whether positive sentiment aligns with stock gains or specific topics drive significant price changes."
   ]
  },
  {
   "cell_type": "markdown",
   "id": "40f3d9e4-15c8-49bc-b95b-3dc0b8b565a8",
   "metadata": {},
   "source": [
    "### **Code Explanation**  \n",
    "- **Merging Data**: This makes sure that the sentiment and topic results are combined with stock data on a shared timeline, allowing for a meaningful analysis.  \n",
    "- **Correlation Analysis**: By using Python, we calculate the statistical relationships between variables, providing a quantitative understanding of their interactions.  \n",
    "- **Visualization**: Heatmaps and graphs provide a clear representation of the correlations, making complex relationships easier to interpret.\n"
   ]
  },
  {
   "cell_type": "markdown",
   "id": "c422c240-a008-4349-9594-7b0e69bf9fe3",
   "metadata": {},
   "source": [
    "# **6. Dynamic Visualizations of Sentiment and Market Data**"
   ]
  },
  {
   "cell_type": "markdown",
   "id": "0ebed0bc-4c73-447c-9edb-de8696a410b0",
   "metadata": {},
   "source": [
    "#### **Objective**\n",
    "- To create interactive and insightful visualizations that illustrate the relationship between sentiment scores and market movements.\n",
    "- Help better comprehension of how news sentiment impacts stock price behavior.\n"
   ]
  },
  {
   "cell_type": "markdown",
   "id": "fdce8cdb-3eb3-4f5c-a799-cd4880f7a869",
   "metadata": {},
   "source": [
    "### **Steps**"
   ]
  },
  {
   "cell_type": "markdown",
   "id": "942bc889-feee-43e1-9dde-f1f02e87e2e0",
   "metadata": {},
   "source": [
    "1. **Work with Visualization Libraries**:\n",
    "   - Utilize `plotly`to create charts and visualizations.\n",
    "2. **Prepare Data for Visualization**:\n",
    "   - Make sure the dataset is clean and formatted appropriately for plotting.\n",
    "3. **Generate Visualizations**:\n",
    "   - Create line plots to track sentiment trends over time.\n",
    "   - Visualize correlations using heatmaps.\n",
    "   - Generate relevant visulizations to explore relationships between sentiment and market metrics."
   ]
  },
  {
   "cell_type": "markdown",
   "id": "89e25a20-79fa-43de-8098-e177be468046",
   "metadata": {},
   "source": [
    "### **Transforming and Summarizing Data**"
   ]
  },
  {
   "cell_type": "markdown",
   "id": "b56cf8eb-a2cc-4fc9-8955-39e58624e975",
   "metadata": {},
   "source": [
    "#### **Overview of Sentiment and Stock Data**\n",
    "\n",
    "#### **Objective:**\n",
    "To provide a bird’s-eye view of the relationship between sentiment data and stock performance .\n",
    "\n",
    "#### **What It Does:**\n",
    "This visualization gives a summarized view of our dataset, showing important statistics like the mean, minimum, and maximum values for sentiment scores (`Positive`, `Negative`, `Neutral`, and `Compound`) as well as stock metrics (`Close` price and `Volume`). This helps us understand the overall distribution and range of values.\n"
   ]
  },
  {
   "cell_type": "code",
   "execution_count": 142,
   "id": "19df3d4d-39aa-4cad-aaba-866a3681fdab",
   "metadata": {},
   "outputs": [
    {
     "name": "stdout",
     "output_type": "stream",
     "text": [
      "Summary Statistics:\n",
      "       Positive  Negative   Neutral  Compound       Close        Volume\n",
      "count  4.000000  4.000000  4.000000  4.000000    4.000000  4.000000e+00\n",
      "mean   0.138625  0.079375  0.781875  0.176088  241.312500  1.033832e+08\n",
      "std    0.176388  0.064528  0.184787  0.443232    4.861264  1.468897e+07\n",
      "min    0.000000  0.000000  0.566000 -0.296000  237.930000  8.516660e+07\n",
      "25%    0.000000  0.049500  0.678875 -0.074000  238.320000  9.826362e+07\n",
      "50%    0.093250  0.081250  0.780750  0.124875  239.450000  1.036418e+08\n",
      "75%    0.231875  0.111125  0.883750  0.374962  242.442500  1.087613e+08\n",
      "max    0.368000  0.155000  1.000000  0.750600  248.420000  1.210826e+08\n"
     ]
    }
   ],
   "source": [
    "# Step 6.2: Creating summary statistics for sentiment and stock price\n",
    "summary = merged_data.describe()  # Generate statistical summary of the dataset\n",
    "print(\"Summary Statistics:\")\n",
    "print(summary)"
   ]
  },
  {
   "cell_type": "markdown",
   "id": "318185c0-54da-4626-85d3-de3afec940d5",
   "metadata": {},
   "source": [
    "#### **Overview of Time-Series**\n",
    "\n",
    "#### **Objective:**\n",
    "To explore trends in sentiment and stock price over time and see how they align.\n",
    "\n",
    "#### **What It Does:**\n",
    "This table shows how sentiment scores (`Compound`) and stock `Close` prices vary over time. It allows us to easily identify whether periods of positive sentiment correspond with stock price increases or decreases.\n",
    "\n",
    "#### **Real-Life Example:**\n",
    "Think of tracking investors mood each day (sentiment) alongside their investment habits (stock price). If you see that investments spikes on happy days, this table helps to highlight that pattern over time.\n"
   ]
  },
  {
   "cell_type": "code",
   "execution_count": 144,
   "id": "8307bd17-ddb9-4555-ab4d-1ba00a1cb955",
   "metadata": {},
   "outputs": [
    {
     "name": "stdout",
     "output_type": "stream",
     "text": [
      "Time-Series Data:\n",
      "            Compound   Close\n",
      "Date                        \n",
      "2024-01-02   0.75060  248.42\n",
      "2024-01-03   0.24975  238.45\n",
      "2024-01-04   0.00000  237.93\n",
      "2024-01-08  -0.29600  240.45\n"
     ]
    }
   ],
   "source": [
    "# Step 6.3: Preparing a time-series dataset for sentiment and stock prices\n",
    "# This will make it easier to visualize trends\n",
    "time_series_data = merged_data[['Date', 'Compound', 'Close']].copy()\n",
    "time_series_data['Date'] = pd.to_datetime(time_series_data['Date'])\n",
    "time_series_data.set_index('Date', inplace=True)\n",
    "print(\"Time-Series Data:\")\n",
    "print(time_series_data.head())"
   ]
  },
  {
   "cell_type": "markdown",
   "id": "18652e4f-ad1a-40a6-a4fc-6fed933950bd",
   "metadata": {},
   "source": [
    "### **Creating Visualizations**"
   ]
  },
  {
   "cell_type": "markdown",
   "id": "69d9fdc3-d843-41cd-893e-a586fef566ec",
   "metadata": {},
   "source": [
    "#### **Visualization 1: Sentiment vs. Stock Price Line Chart**\n",
    "\n",
    "**What It Does:**  \n",
    "This dual-line chart compares Tesla's stock price (close values) with the compound sentiment score over time. Each line represents one metric, allowing us to observe how sentiment aligns with or diverges from stock price trends.\n",
    "\n",
    "**Context in Our Project:**  \n",
    "The relationship between sentiment and stock price is at the heart of our analysis. By visualizing both metrics on the same chart, we can uncover potential patterns, such as spikes in sentiment preceding stock price movements. This insight is critical for understanding market dynamics and predicting future trends.\n"
   ]
  },
  {
   "cell_type": "code",
   "execution_count": 232,
   "id": "cee91f5f-99a2-4e8e-8069-74c50c5cae59",
   "metadata": {},
   "outputs": [
    {
     "data": {
      "application/vnd.plotly.v1+json": {
       "config": {
        "plotlyServerURL": "https://plot.ly"
       },
       "data": [
        {
         "line": {
          "color": "blue"
         },
         "mode": "lines+markers",
         "name": "Sentiment (Compound)",
         "type": "scatter",
         "x": [
          "2024-01-02",
          "2024-01-03",
          "2024-01-04",
          "2024-01-08"
         ],
         "y": [
          0.7506,
          0.24975,
          0,
          -0.296
         ]
        },
        {
         "line": {
          "color": "green"
         },
         "mode": "lines+markers",
         "name": "Stock Price (Close)",
         "type": "scatter",
         "x": [
          "2024-01-02",
          "2024-01-03",
          "2024-01-04",
          "2024-01-08"
         ],
         "y": [
          248.42,
          238.45,
          237.93,
          240.45
         ]
        }
       ],
       "layout": {
        "autosize": true,
        "legend": {
         "title": {
          "text": "Metrics"
         }
        },
        "template": {
         "data": {
          "bar": [
           {
            "error_x": {
             "color": "#2a3f5f"
            },
            "error_y": {
             "color": "#2a3f5f"
            },
            "marker": {
             "line": {
              "color": "white",
              "width": 0.5
             },
             "pattern": {
              "fillmode": "overlay",
              "size": 10,
              "solidity": 0.2
             }
            },
            "type": "bar"
           }
          ],
          "barpolar": [
           {
            "marker": {
             "line": {
              "color": "white",
              "width": 0.5
             },
             "pattern": {
              "fillmode": "overlay",
              "size": 10,
              "solidity": 0.2
             }
            },
            "type": "barpolar"
           }
          ],
          "carpet": [
           {
            "aaxis": {
             "endlinecolor": "#2a3f5f",
             "gridcolor": "#C8D4E3",
             "linecolor": "#C8D4E3",
             "minorgridcolor": "#C8D4E3",
             "startlinecolor": "#2a3f5f"
            },
            "baxis": {
             "endlinecolor": "#2a3f5f",
             "gridcolor": "#C8D4E3",
             "linecolor": "#C8D4E3",
             "minorgridcolor": "#C8D4E3",
             "startlinecolor": "#2a3f5f"
            },
            "type": "carpet"
           }
          ],
          "choropleth": [
           {
            "colorbar": {
             "outlinewidth": 0,
             "ticks": ""
            },
            "type": "choropleth"
           }
          ],
          "contour": [
           {
            "colorbar": {
             "outlinewidth": 0,
             "ticks": ""
            },
            "colorscale": [
             [
              0,
              "#0d0887"
             ],
             [
              0.1111111111111111,
              "#46039f"
             ],
             [
              0.2222222222222222,
              "#7201a8"
             ],
             [
              0.3333333333333333,
              "#9c179e"
             ],
             [
              0.4444444444444444,
              "#bd3786"
             ],
             [
              0.5555555555555556,
              "#d8576b"
             ],
             [
              0.6666666666666666,
              "#ed7953"
             ],
             [
              0.7777777777777778,
              "#fb9f3a"
             ],
             [
              0.8888888888888888,
              "#fdca26"
             ],
             [
              1,
              "#f0f921"
             ]
            ],
            "type": "contour"
           }
          ],
          "contourcarpet": [
           {
            "colorbar": {
             "outlinewidth": 0,
             "ticks": ""
            },
            "type": "contourcarpet"
           }
          ],
          "heatmap": [
           {
            "colorbar": {
             "outlinewidth": 0,
             "ticks": ""
            },
            "colorscale": [
             [
              0,
              "#0d0887"
             ],
             [
              0.1111111111111111,
              "#46039f"
             ],
             [
              0.2222222222222222,
              "#7201a8"
             ],
             [
              0.3333333333333333,
              "#9c179e"
             ],
             [
              0.4444444444444444,
              "#bd3786"
             ],
             [
              0.5555555555555556,
              "#d8576b"
             ],
             [
              0.6666666666666666,
              "#ed7953"
             ],
             [
              0.7777777777777778,
              "#fb9f3a"
             ],
             [
              0.8888888888888888,
              "#fdca26"
             ],
             [
              1,
              "#f0f921"
             ]
            ],
            "type": "heatmap"
           }
          ],
          "heatmapgl": [
           {
            "colorbar": {
             "outlinewidth": 0,
             "ticks": ""
            },
            "colorscale": [
             [
              0,
              "#0d0887"
             ],
             [
              0.1111111111111111,
              "#46039f"
             ],
             [
              0.2222222222222222,
              "#7201a8"
             ],
             [
              0.3333333333333333,
              "#9c179e"
             ],
             [
              0.4444444444444444,
              "#bd3786"
             ],
             [
              0.5555555555555556,
              "#d8576b"
             ],
             [
              0.6666666666666666,
              "#ed7953"
             ],
             [
              0.7777777777777778,
              "#fb9f3a"
             ],
             [
              0.8888888888888888,
              "#fdca26"
             ],
             [
              1,
              "#f0f921"
             ]
            ],
            "type": "heatmapgl"
           }
          ],
          "histogram": [
           {
            "marker": {
             "pattern": {
              "fillmode": "overlay",
              "size": 10,
              "solidity": 0.2
             }
            },
            "type": "histogram"
           }
          ],
          "histogram2d": [
           {
            "colorbar": {
             "outlinewidth": 0,
             "ticks": ""
            },
            "colorscale": [
             [
              0,
              "#0d0887"
             ],
             [
              0.1111111111111111,
              "#46039f"
             ],
             [
              0.2222222222222222,
              "#7201a8"
             ],
             [
              0.3333333333333333,
              "#9c179e"
             ],
             [
              0.4444444444444444,
              "#bd3786"
             ],
             [
              0.5555555555555556,
              "#d8576b"
             ],
             [
              0.6666666666666666,
              "#ed7953"
             ],
             [
              0.7777777777777778,
              "#fb9f3a"
             ],
             [
              0.8888888888888888,
              "#fdca26"
             ],
             [
              1,
              "#f0f921"
             ]
            ],
            "type": "histogram2d"
           }
          ],
          "histogram2dcontour": [
           {
            "colorbar": {
             "outlinewidth": 0,
             "ticks": ""
            },
            "colorscale": [
             [
              0,
              "#0d0887"
             ],
             [
              0.1111111111111111,
              "#46039f"
             ],
             [
              0.2222222222222222,
              "#7201a8"
             ],
             [
              0.3333333333333333,
              "#9c179e"
             ],
             [
              0.4444444444444444,
              "#bd3786"
             ],
             [
              0.5555555555555556,
              "#d8576b"
             ],
             [
              0.6666666666666666,
              "#ed7953"
             ],
             [
              0.7777777777777778,
              "#fb9f3a"
             ],
             [
              0.8888888888888888,
              "#fdca26"
             ],
             [
              1,
              "#f0f921"
             ]
            ],
            "type": "histogram2dcontour"
           }
          ],
          "mesh3d": [
           {
            "colorbar": {
             "outlinewidth": 0,
             "ticks": ""
            },
            "type": "mesh3d"
           }
          ],
          "parcoords": [
           {
            "line": {
             "colorbar": {
              "outlinewidth": 0,
              "ticks": ""
             }
            },
            "type": "parcoords"
           }
          ],
          "pie": [
           {
            "automargin": true,
            "type": "pie"
           }
          ],
          "scatter": [
           {
            "fillpattern": {
             "fillmode": "overlay",
             "size": 10,
             "solidity": 0.2
            },
            "type": "scatter"
           }
          ],
          "scatter3d": [
           {
            "line": {
             "colorbar": {
              "outlinewidth": 0,
              "ticks": ""
             }
            },
            "marker": {
             "colorbar": {
              "outlinewidth": 0,
              "ticks": ""
             }
            },
            "type": "scatter3d"
           }
          ],
          "scattercarpet": [
           {
            "marker": {
             "colorbar": {
              "outlinewidth": 0,
              "ticks": ""
             }
            },
            "type": "scattercarpet"
           }
          ],
          "scattergeo": [
           {
            "marker": {
             "colorbar": {
              "outlinewidth": 0,
              "ticks": ""
             }
            },
            "type": "scattergeo"
           }
          ],
          "scattergl": [
           {
            "marker": {
             "colorbar": {
              "outlinewidth": 0,
              "ticks": ""
             }
            },
            "type": "scattergl"
           }
          ],
          "scattermapbox": [
           {
            "marker": {
             "colorbar": {
              "outlinewidth": 0,
              "ticks": ""
             }
            },
            "type": "scattermapbox"
           }
          ],
          "scatterpolar": [
           {
            "marker": {
             "colorbar": {
              "outlinewidth": 0,
              "ticks": ""
             }
            },
            "type": "scatterpolar"
           }
          ],
          "scatterpolargl": [
           {
            "marker": {
             "colorbar": {
              "outlinewidth": 0,
              "ticks": ""
             }
            },
            "type": "scatterpolargl"
           }
          ],
          "scatterternary": [
           {
            "marker": {
             "colorbar": {
              "outlinewidth": 0,
              "ticks": ""
             }
            },
            "type": "scatterternary"
           }
          ],
          "surface": [
           {
            "colorbar": {
             "outlinewidth": 0,
             "ticks": ""
            },
            "colorscale": [
             [
              0,
              "#0d0887"
             ],
             [
              0.1111111111111111,
              "#46039f"
             ],
             [
              0.2222222222222222,
              "#7201a8"
             ],
             [
              0.3333333333333333,
              "#9c179e"
             ],
             [
              0.4444444444444444,
              "#bd3786"
             ],
             [
              0.5555555555555556,
              "#d8576b"
             ],
             [
              0.6666666666666666,
              "#ed7953"
             ],
             [
              0.7777777777777778,
              "#fb9f3a"
             ],
             [
              0.8888888888888888,
              "#fdca26"
             ],
             [
              1,
              "#f0f921"
             ]
            ],
            "type": "surface"
           }
          ],
          "table": [
           {
            "cells": {
             "fill": {
              "color": "#EBF0F8"
             },
             "line": {
              "color": "white"
             }
            },
            "header": {
             "fill": {
              "color": "#C8D4E3"
             },
             "line": {
              "color": "white"
             }
            },
            "type": "table"
           }
          ]
         },
         "layout": {
          "annotationdefaults": {
           "arrowcolor": "#2a3f5f",
           "arrowhead": 0,
           "arrowwidth": 1
          },
          "autotypenumbers": "strict",
          "coloraxis": {
           "colorbar": {
            "outlinewidth": 0,
            "ticks": ""
           }
          },
          "colorscale": {
           "diverging": [
            [
             0,
             "#8e0152"
            ],
            [
             0.1,
             "#c51b7d"
            ],
            [
             0.2,
             "#de77ae"
            ],
            [
             0.3,
             "#f1b6da"
            ],
            [
             0.4,
             "#fde0ef"
            ],
            [
             0.5,
             "#f7f7f7"
            ],
            [
             0.6,
             "#e6f5d0"
            ],
            [
             0.7,
             "#b8e186"
            ],
            [
             0.8,
             "#7fbc41"
            ],
            [
             0.9,
             "#4d9221"
            ],
            [
             1,
             "#276419"
            ]
           ],
           "sequential": [
            [
             0,
             "#0d0887"
            ],
            [
             0.1111111111111111,
             "#46039f"
            ],
            [
             0.2222222222222222,
             "#7201a8"
            ],
            [
             0.3333333333333333,
             "#9c179e"
            ],
            [
             0.4444444444444444,
             "#bd3786"
            ],
            [
             0.5555555555555556,
             "#d8576b"
            ],
            [
             0.6666666666666666,
             "#ed7953"
            ],
            [
             0.7777777777777778,
             "#fb9f3a"
            ],
            [
             0.8888888888888888,
             "#fdca26"
            ],
            [
             1,
             "#f0f921"
            ]
           ],
           "sequentialminus": [
            [
             0,
             "#0d0887"
            ],
            [
             0.1111111111111111,
             "#46039f"
            ],
            [
             0.2222222222222222,
             "#7201a8"
            ],
            [
             0.3333333333333333,
             "#9c179e"
            ],
            [
             0.4444444444444444,
             "#bd3786"
            ],
            [
             0.5555555555555556,
             "#d8576b"
            ],
            [
             0.6666666666666666,
             "#ed7953"
            ],
            [
             0.7777777777777778,
             "#fb9f3a"
            ],
            [
             0.8888888888888888,
             "#fdca26"
            ],
            [
             1,
             "#f0f921"
            ]
           ]
          },
          "colorway": [
           "#636efa",
           "#EF553B",
           "#00cc96",
           "#ab63fa",
           "#FFA15A",
           "#19d3f3",
           "#FF6692",
           "#B6E880",
           "#FF97FF",
           "#FECB52"
          ],
          "font": {
           "color": "#2a3f5f"
          },
          "geo": {
           "bgcolor": "white",
           "lakecolor": "white",
           "landcolor": "white",
           "showlakes": true,
           "showland": true,
           "subunitcolor": "#C8D4E3"
          },
          "hoverlabel": {
           "align": "left"
          },
          "hovermode": "closest",
          "mapbox": {
           "style": "light"
          },
          "paper_bgcolor": "white",
          "plot_bgcolor": "white",
          "polar": {
           "angularaxis": {
            "gridcolor": "#EBF0F8",
            "linecolor": "#EBF0F8",
            "ticks": ""
           },
           "bgcolor": "white",
           "radialaxis": {
            "gridcolor": "#EBF0F8",
            "linecolor": "#EBF0F8",
            "ticks": ""
           }
          },
          "scene": {
           "xaxis": {
            "backgroundcolor": "white",
            "gridcolor": "#DFE8F3",
            "gridwidth": 2,
            "linecolor": "#EBF0F8",
            "showbackground": true,
            "ticks": "",
            "zerolinecolor": "#EBF0F8"
           },
           "yaxis": {
            "backgroundcolor": "white",
            "gridcolor": "#DFE8F3",
            "gridwidth": 2,
            "linecolor": "#EBF0F8",
            "showbackground": true,
            "ticks": "",
            "zerolinecolor": "#EBF0F8"
           },
           "zaxis": {
            "backgroundcolor": "white",
            "gridcolor": "#DFE8F3",
            "gridwidth": 2,
            "linecolor": "#EBF0F8",
            "showbackground": true,
            "ticks": "",
            "zerolinecolor": "#EBF0F8"
           }
          },
          "shapedefaults": {
           "line": {
            "color": "#2a3f5f"
           }
          },
          "ternary": {
           "aaxis": {
            "gridcolor": "#DFE8F3",
            "linecolor": "#A2B1C6",
            "ticks": ""
           },
           "baxis": {
            "gridcolor": "#DFE8F3",
            "linecolor": "#A2B1C6",
            "ticks": ""
           },
           "bgcolor": "white",
           "caxis": {
            "gridcolor": "#DFE8F3",
            "linecolor": "#A2B1C6",
            "ticks": ""
           }
          },
          "title": {
           "x": 0.05
          },
          "xaxis": {
           "automargin": true,
           "gridcolor": "#EBF0F8",
           "linecolor": "#EBF0F8",
           "ticks": "",
           "title": {
            "standoff": 15
           },
           "zerolinecolor": "#EBF0F8",
           "zerolinewidth": 2
          },
          "yaxis": {
           "automargin": true,
           "gridcolor": "#EBF0F8",
           "linecolor": "#EBF0F8",
           "ticks": "",
           "title": {
            "standoff": 15
           },
           "zerolinecolor": "#EBF0F8",
           "zerolinewidth": 2
          }
         }
        },
        "title": {
         "text": "Sentiment vs. Stock Price Over Time"
        },
        "xaxis": {
         "autorange": true,
         "range": [
          "2024-01-01 15:09:58.7495",
          "2024-01-08 08:50:01.2505"
         ],
         "title": {
          "text": "Date"
         },
         "type": "date"
        },
        "yaxis": {
         "autorange": true,
         "range": [
          -20.821106796116503,
          268.9451067961165
         ],
         "title": {
          "text": "Value"
         },
         "type": "linear"
        }
       }
      },
      "image/png": "[encoded data removed]",
      "text/html": [
       "<div>                            <div id=\"42dcc59d-1482-48d9-b292-27b5d493de24\" class=\"plotly-graph-div\" style=\"height:525px; width:100%;\"></div>            <script type=\"text/javascript\">                require([\"plotly\"], function(Plotly) {                    window.PLOTLYENV=window.PLOTLYENV || {};                                    if (document.getElementById(\"42dcc59d-1482-48d9-b292-27b5d493de24\")) {                    Plotly.newPlot(                        \"42dcc59d-1482-48d9-b292-27b5d493de24\",                        [{\"line\":{\"color\":\"blue\"},\"mode\":\"lines+markers\",\"name\":\"Sentiment (Compound)\",\"x\":[\"2024-01-02\",\"2024-01-03\",\"2024-01-04\",\"2024-01-08\"],\"y\":[0.7506,0.24975,0.0,-0.296],\"type\":\"scatter\"},{\"line\":{\"color\":\"green\"},\"mode\":\"lines+markers\",\"name\":\"Stock Price (Close)\",\"x\":[\"2024-01-02\",\"2024-01-03\",\"2024-01-04\",\"2024-01-08\"],\"y\":[248.42,238.45,237.93,240.45],\"type\":\"scatter\"}],                        {\"template\":{\"data\":{\"barpolar\":[{\"marker\":{\"line\":{\"color\":\"white\",\"width\":0.5},\"pattern\":{\"fillmode\":\"overlay\",\"size\":10,\"solidity\":0.2}},\"type\":\"barpolar\"}],\"bar\":[{\"error_x\":{\"color\":\"#2a3f5f\"},\"error_y\":{\"color\":\"#2a3f5f\"},\"marker\":{\"line\":{\"color\":\"white\",\"width\":0.5},\"pattern\":{\"fillmode\":\"overlay\",\"size\":10,\"solidity\":0.2}},\"type\":\"bar\"}],\"carpet\":[{\"aaxis\":{\"endlinecolor\":\"#2a3f5f\",\"gridcolor\":\"#C8D4E3\",\"linecolor\":\"#C8D4E3\",\"minorgridcolor\":\"#C8D4E3\",\"startlinecolor\":\"#2a3f5f\"},\"baxis\":{\"endlinecolor\":\"#2a3f5f\",\"gridcolor\":\"#C8D4E3\",\"linecolor\":\"#C8D4E3\",\"minorgridcolor\":\"#C8D4E3\",\"startlinecolor\":\"#2a3f5f\"},\"type\":\"carpet\"}],\"choropleth\":[{\"colorbar\":{\"outlinewidth\":0,\"ticks\":\"\"},\"type\":\"choropleth\"}],\"contourcarpet\":[{\"colorbar\":{\"outlinewidth\":0,\"ticks\":\"\"},\"type\":\"contourcarpet\"}],\"contour\":[{\"colorbar\":{\"outlinewidth\":0,\"ticks\":\"\"},\"colorscale\":[[0.0,\"#0d0887\"],[0.1111111111111111,\"#46039f\"],[0.2222222222222222,\"#7201a8\"],[0.3333333333333333,\"#9c179e\"],[0.4444444444444444,\"#bd3786\"],[0.5555555555555556,\"#d8576b\"],[0.6666666666666666,\"#ed7953\"],[0.7777777777777778,\"#fb9f3a\"],[0.8888888888888888,\"#fdca26\"],[1.0,\"#f0f921\"]],\"type\":\"contour\"}],\"heatmapgl\":[{\"colorbar\":{\"outlinewidth\":0,\"ticks\":\"\"},\"colorscale\":[[0.0,\"#0d0887\"],[0.1111111111111111,\"#46039f\"],[0.2222222222222222,\"#7201a8\"],[0.3333333333333333,\"#9c179e\"],[0.4444444444444444,\"#bd3786\"],[0.5555555555555556,\"#d8576b\"],[0.6666666666666666,\"#ed7953\"],[0.7777777777777778,\"#fb9f3a\"],[0.8888888888888888,\"#fdca26\"],[1.0,\"#f0f921\"]],\"type\":\"heatmapgl\"}],\"heatmap\":[{\"colorbar\":{\"outlinewidth\":0,\"ticks\":\"\"},\"colorscale\":[[0.0,\"#0d0887\"],[0.1111111111111111,\"#46039f\"],[0.2222222222222222,\"#7201a8\"],[0.3333333333333333,\"#9c179e\"],[0.4444444444444444,\"#bd3786\"],[0.5555555555555556,\"#d8576b\"],[0.6666666666666666,\"#ed7953\"],[0.7777777777777778,\"#fb9f3a\"],[0.8888888888888888,\"#fdca26\"],[1.0,\"#f0f921\"]],\"type\":\"heatmap\"}],\"histogram2dcontour\":[{\"colorbar\":{\"outlinewidth\":0,\"ticks\":\"\"},\"colorscale\":[[0.0,\"#0d0887\"],[0.1111111111111111,\"#46039f\"],[0.2222222222222222,\"#7201a8\"],[0.3333333333333333,\"#9c179e\"],[0.4444444444444444,\"#bd3786\"],[0.5555555555555556,\"#d8576b\"],[0.6666666666666666,\"#ed7953\"],[0.7777777777777778,\"#fb9f3a\"],[0.8888888888888888,\"#fdca26\"],[1.0,\"#f0f921\"]],\"type\":\"histogram2dcontour\"}],\"histogram2d\":[{\"colorbar\":{\"outlinewidth\":0,\"ticks\":\"\"},\"colorscale\":[[0.0,\"#0d0887\"],[0.1111111111111111,\"#46039f\"],[0.2222222222222222,\"#7201a8\"],[0.3333333333333333,\"#9c179e\"],[0.4444444444444444,\"#bd3786\"],[0.5555555555555556,\"#d8576b\"],[0.6666666666666666,\"#ed7953\"],[0.7777777777777778,\"#fb9f3a\"],[0.8888888888888888,\"#fdca26\"],[1.0,\"#f0f921\"]],\"type\":\"histogram2d\"}],\"histogram\":[{\"marker\":{\"pattern\":{\"fillmode\":\"overlay\",\"size\":10,\"solidity\":0.2}},\"type\":\"histogram\"}],\"mesh3d\":[{\"colorbar\":{\"outlinewidth\":0,\"ticks\":\"\"},\"type\":\"mesh3d\"}],\"parcoords\":[{\"line\":{\"colorbar\":{\"outlinewidth\":0,\"ticks\":\"\"}},\"type\":\"parcoords\"}],\"pie\":[{\"automargin\":true,\"type\":\"pie\"}],\"scatter3d\":[{\"line\":{\"colorbar\":{\"outlinewidth\":0,\"ticks\":\"\"}},\"marker\":{\"colorbar\":{\"outlinewidth\":0,\"ticks\":\"\"}},\"type\":\"scatter3d\"}],\"scattercarpet\":[{\"marker\":{\"colorbar\":{\"outlinewidth\":0,\"ticks\":\"\"}},\"type\":\"scattercarpet\"}],\"scattergeo\":[{\"marker\":{\"colorbar\":{\"outlinewidth\":0,\"ticks\":\"\"}},\"type\":\"scattergeo\"}],\"scattergl\":[{\"marker\":{\"colorbar\":{\"outlinewidth\":0,\"ticks\":\"\"}},\"type\":\"scattergl\"}],\"scattermapbox\":[{\"marker\":{\"colorbar\":{\"outlinewidth\":0,\"ticks\":\"\"}},\"type\":\"scattermapbox\"}],\"scatterpolargl\":[{\"marker\":{\"colorbar\":{\"outlinewidth\":0,\"ticks\":\"\"}},\"type\":\"scatterpolargl\"}],\"scatterpolar\":[{\"marker\":{\"colorbar\":{\"outlinewidth\":0,\"ticks\":\"\"}},\"type\":\"scatterpolar\"}],\"scatter\":[{\"fillpattern\":{\"fillmode\":\"overlay\",\"size\":10,\"solidity\":0.2},\"type\":\"scatter\"}],\"scatterternary\":[{\"marker\":{\"colorbar\":{\"outlinewidth\":0,\"ticks\":\"\"}},\"type\":\"scatterternary\"}],\"surface\":[{\"colorbar\":{\"outlinewidth\":0,\"ticks\":\"\"},\"colorscale\":[[0.0,\"#0d0887\"],[0.1111111111111111,\"#46039f\"],[0.2222222222222222,\"#7201a8\"],[0.3333333333333333,\"#9c179e\"],[0.4444444444444444,\"#bd3786\"],[0.5555555555555556,\"#d8576b\"],[0.6666666666666666,\"#ed7953\"],[0.7777777777777778,\"#fb9f3a\"],[0.8888888888888888,\"#fdca26\"],[1.0,\"#f0f921\"]],\"type\":\"surface\"}],\"table\":[{\"cells\":{\"fill\":{\"color\":\"#EBF0F8\"},\"line\":{\"color\":\"white\"}},\"header\":{\"fill\":{\"color\":\"#C8D4E3\"},\"line\":{\"color\":\"white\"}},\"type\":\"table\"}]},\"layout\":{\"annotationdefaults\":{\"arrowcolor\":\"#2a3f5f\",\"arrowhead\":0,\"arrowwidth\":1},\"autotypenumbers\":\"strict\",\"coloraxis\":{\"colorbar\":{\"outlinewidth\":0,\"ticks\":\"\"}},\"colorscale\":{\"diverging\":[[0,\"#8e0152\"],[0.1,\"#c51b7d\"],[0.2,\"#de77ae\"],[0.3,\"#f1b6da\"],[0.4,\"#fde0ef\"],[0.5,\"#f7f7f7\"],[0.6,\"#e6f5d0\"],[0.7,\"#b8e186\"],[0.8,\"#7fbc41\"],[0.9,\"#4d9221\"],[1,\"#276419\"]],\"sequential\":[[0.0,\"#0d0887\"],[0.1111111111111111,\"#46039f\"],[0.2222222222222222,\"#7201a8\"],[0.3333333333333333,\"#9c179e\"],[0.4444444444444444,\"#bd3786\"],[0.5555555555555556,\"#d8576b\"],[0.6666666666666666,\"#ed7953\"],[0.7777777777777778,\"#fb9f3a\"],[0.8888888888888888,\"#fdca26\"],[1.0,\"#f0f921\"]],\"sequentialminus\":[[0.0,\"#0d0887\"],[0.1111111111111111,\"#46039f\"],[0.2222222222222222,\"#7201a8\"],[0.3333333333333333,\"#9c179e\"],[0.4444444444444444,\"#bd3786\"],[0.5555555555555556,\"#d8576b\"],[0.6666666666666666,\"#ed7953\"],[0.7777777777777778,\"#fb9f3a\"],[0.8888888888888888,\"#fdca26\"],[1.0,\"#f0f921\"]]},\"colorway\":[\"#636efa\",\"#EF553B\",\"#00cc96\",\"#ab63fa\",\"#FFA15A\",\"#19d3f3\",\"#FF6692\",\"#B6E880\",\"#FF97FF\",\"#FECB52\"],\"font\":{\"color\":\"#2a3f5f\"},\"geo\":{\"bgcolor\":\"white\",\"lakecolor\":\"white\",\"landcolor\":\"white\",\"showlakes\":true,\"showland\":true,\"subunitcolor\":\"#C8D4E3\"},\"hoverlabel\":{\"align\":\"left\"},\"hovermode\":\"closest\",\"mapbox\":{\"style\":\"light\"},\"paper_bgcolor\":\"white\",\"plot_bgcolor\":\"white\",\"polar\":{\"angularaxis\":{\"gridcolor\":\"#EBF0F8\",\"linecolor\":\"#EBF0F8\",\"ticks\":\"\"},\"bgcolor\":\"white\",\"radialaxis\":{\"gridcolor\":\"#EBF0F8\",\"linecolor\":\"#EBF0F8\",\"ticks\":\"\"}},\"scene\":{\"xaxis\":{\"backgroundcolor\":\"white\",\"gridcolor\":\"#DFE8F3\",\"gridwidth\":2,\"linecolor\":\"#EBF0F8\",\"showbackground\":true,\"ticks\":\"\",\"zerolinecolor\":\"#EBF0F8\"},\"yaxis\":{\"backgroundcolor\":\"white\",\"gridcolor\":\"#DFE8F3\",\"gridwidth\":2,\"linecolor\":\"#EBF0F8\",\"showbackground\":true,\"ticks\":\"\",\"zerolinecolor\":\"#EBF0F8\"},\"zaxis\":{\"backgroundcolor\":\"white\",\"gridcolor\":\"#DFE8F3\",\"gridwidth\":2,\"linecolor\":\"#EBF0F8\",\"showbackground\":true,\"ticks\":\"\",\"zerolinecolor\":\"#EBF0F8\"}},\"shapedefaults\":{\"line\":{\"color\":\"#2a3f5f\"}},\"ternary\":{\"aaxis\":{\"gridcolor\":\"#DFE8F3\",\"linecolor\":\"#A2B1C6\",\"ticks\":\"\"},\"baxis\":{\"gridcolor\":\"#DFE8F3\",\"linecolor\":\"#A2B1C6\",\"ticks\":\"\"},\"bgcolor\":\"white\",\"caxis\":{\"gridcolor\":\"#DFE8F3\",\"linecolor\":\"#A2B1C6\",\"ticks\":\"\"}},\"title\":{\"x\":0.05},\"xaxis\":{\"automargin\":true,\"gridcolor\":\"#EBF0F8\",\"linecolor\":\"#EBF0F8\",\"ticks\":\"\",\"title\":{\"standoff\":15},\"zerolinecolor\":\"#EBF0F8\",\"zerolinewidth\":2},\"yaxis\":{\"automargin\":true,\"gridcolor\":\"#EBF0F8\",\"linecolor\":\"#EBF0F8\",\"ticks\":\"\",\"title\":{\"standoff\":15},\"zerolinecolor\":\"#EBF0F8\",\"zerolinewidth\":2}}},\"title\":{\"text\":\"Sentiment vs. Stock Price Over Time\"},\"xaxis\":{\"title\":{\"text\":\"Date\"}},\"yaxis\":{\"title\":{\"text\":\"Value\"}},\"legend\":{\"title\":{\"text\":\"Metrics\"}}},                        {\"responsive\": true}                    ).then(function(){\n",
       "                            \n",
       "var gd = document.getElementById('42dcc59d-1482-48d9-b292-27b5d493de24');\n",
       "var x = new MutationObserver(function (mutations, observer) {{\n",
       "        var display = window.getComputedStyle(gd).display;\n",
       "        if (!display || display === 'none') {{\n",
       "            console.log([gd, 'removed!']);\n",
       "            Plotly.purge(gd);\n",
       "            observer.disconnect();\n",
       "        }}\n",
       "}});\n",
       "\n",
       "// Listen for the removal of the full notebook cells\n",
       "var notebookContainer = gd.closest('#notebook-container');\n",
       "if (notebookContainer) {{\n",
       "    x.observe(notebookContainer, {childList: true});\n",
       "}}\n",
       "\n",
       "// Listen for the clearing of the current output cell\n",
       "var outputEl = gd.closest('.output');\n",
       "if (outputEl) {{\n",
       "    x.observe(outputEl, {childList: true});\n",
       "}}\n",
       "\n",
       "                        })                };                });            </script>        </div>"
      ]
     },
     "metadata": {},
     "output_type": "display_data"
    }
   ],
   "source": [
    "\n",
    "import plotly.graph_objects as go\n",
    "\n",
    "# Creating a line chart\n",
    "fig = go.Figure()\n",
    "\n",
    "# Adding Compound sentiment scores as a line\n",
    "fig.add_trace(go.Scatter(\n",
    "    x=merged_data['Date'],\n",
    "    y=merged_data['Compound'],\n",
    "    mode='lines+markers',\n",
    "    name='Sentiment (Compound)',\n",
    "    line=dict(color='blue')\n",
    "))\n",
    "\n",
    "# Adding Close prices as a line\n",
    "fig.add_trace(go.Scatter(\n",
    "    x=merged_data['Date'],\n",
    "    y=merged_data['Close'],\n",
    "    mode='lines+markers',\n",
    "    name='Stock Price (Close)',\n",
    "    line=dict(color='green')\n",
    "))\n",
    "\n",
    "# Customizing layout\n",
    "fig.update_layout(\n",
    "    title=\"Sentiment vs. Stock Price Over Time\",\n",
    "    xaxis_title=\"Date\",\n",
    "    yaxis_title=\"Value\",\n",
    "    legend=dict(title=\"Metrics\"),\n",
    "    template=\"plotly_white\"\n",
    ")\n",
    "\n",
    "# Display the figure\n",
    "fig.show()\n"
   ]
  },
  {
   "cell_type": "markdown",
   "id": "8b8a549b-552a-4c20-9078-0188c71d48b1",
   "metadata": {},
   "source": [
    "#### **Visulization 2 - Correlation Heatmap**\n",
    "\n",
    "#### **Objective:**\n",
    "To quantify and visualize the strength of relationships between different sentiment scores and stock metrics.\n",
    "\n",
    "#### **What It Does:**\n",
    "This heatmap highlights the correlations between all numeric variables. Strong positive correlations are highlighted, as are strong negative ones, allowing us to identify patterns, such as whether positive sentiment is closely tied to stock price increases.\n"
   ]
  },
  {
   "cell_type": "code",
   "execution_count": 219,
   "id": "ec03842f-bc27-401c-8aa2-59f042aa2f32",
   "metadata": {},
   "outputs": [
    {
     "data": {
      "application/vnd.plotly.v1+json": {
       "config": {
        "plotlyServerURL": "https://plot.ly"
       },
       "data": [
        {
         "coloraxis": "coloraxis",
         "hovertemplate": "x: %{x}<br>y: %{y}<br>color: %{z}<extra></extra>",
         "name": "0",
         "texttemplate": "%{z}",
         "type": "heatmap",
         "x": [
          "Positive",
          "Negative",
          "Neutral",
          "Compound",
          "Close",
          "Volume",
          "Rolling_Positive",
          "Rolling_Negative"
         ],
         "xaxis": "x",
         "y": [
          "Positive",
          "Negative",
          "Neutral",
          "Compound",
          "Close",
          "Volume",
          "Rolling_Positive",
          "Rolling_Negative"
         ],
         "yaxis": "y",
         "z": [
          [
           1,
           -0.050611529162931435,
           -0.9371191458435919,
           0.9599882786516531,
           0.8092416162716302,
           0.48484909475715676,
           null,
           null
          ],
          [
           -0.050611529162931435,
           1,
           -0.3011308474816015,
           -0.3280457456990028,
           0.06288209668367165,
           -0.36281527417492543,
           -1.0000000000000002,
           0.9999999999999997
          ],
          [
           -0.9371191458435919,
           -0.3011308474816015,
           1,
           -0.8019503757326166,
           -0.7938874819530963,
           -0.33720248701991623,
           1.0000000000000002,
           -0.9999999999999998
          ],
          [
           0.9599882786516531,
           -0.3280457456990028,
           -0.8019503757326166,
           1,
           0.7542196286001321,
           0.5512309942380575,
           1.0000000000000002,
           -0.9999999999999998
          ],
          [
           0.8092416162716302,
           0.06288209668367165,
           -0.7938874819530963,
           0.7542196286001321,
           1,
           -0.10908843861158186,
           -1,
           0.9999999999999998
          ],
          [
           0.48484909475715676,
           -0.36281527417492543,
           -0.33720248701991623,
           0.5512309942380575,
           -0.10908843861158186,
           1,
           1,
           -0.9999999999999997
          ],
          [
           null,
           -1.0000000000000002,
           1.0000000000000002,
           1.0000000000000002,
           -1,
           1,
           1,
           -0.9999999999999998
          ],
          [
           null,
           0.9999999999999997,
           -0.9999999999999998,
           -0.9999999999999998,
           0.9999999999999998,
           -0.9999999999999997,
           -0.9999999999999998,
           1
          ]
         ]
        }
       ],
       "layout": {
        "coloraxis": {
         "colorscale": [
          [
           0,
           "#440154"
          ],
          [
           0.1111111111111111,
           "#482878"
          ],
          [
           0.2222222222222222,
           "#3e4989"
          ],
          [
           0.3333333333333333,
           "#31688e"
          ],
          [
           0.4444444444444444,
           "#26828e"
          ],
          [
           0.5555555555555556,
           "#1f9e89"
          ],
          [
           0.6666666666666666,
           "#35b779"
          ],
          [
           0.7777777777777778,
           "#6ece58"
          ],
          [
           0.8888888888888888,
           "#b5de2b"
          ],
          [
           1,
           "#fde725"
          ]
         ]
        },
        "height": 500,
        "template": {
         "data": {
          "bar": [
           {
            "error_x": {
             "color": "#2a3f5f"
            },
            "error_y": {
             "color": "#2a3f5f"
            },
            "marker": {
             "line": {
              "color": "white",
              "width": 0.5
             },
             "pattern": {
              "fillmode": "overlay",
              "size": 10,
              "solidity": 0.2
             }
            },
            "type": "bar"
           }
          ],
          "barpolar": [
           {
            "marker": {
             "line": {
              "color": "white",
              "width": 0.5
             },
             "pattern": {
              "fillmode": "overlay",
              "size": 10,
              "solidity": 0.2
             }
            },
            "type": "barpolar"
           }
          ],
          "carpet": [
           {
            "aaxis": {
             "endlinecolor": "#2a3f5f",
             "gridcolor": "#C8D4E3",
             "linecolor": "#C8D4E3",
             "minorgridcolor": "#C8D4E3",
             "startlinecolor": "#2a3f5f"
            },
            "baxis": {
             "endlinecolor": "#2a3f5f",
             "gridcolor": "#C8D4E3",
             "linecolor": "#C8D4E3",
             "minorgridcolor": "#C8D4E3",
             "startlinecolor": "#2a3f5f"
            },
            "type": "carpet"
           }
          ],
          "choropleth": [
           {
            "colorbar": {
             "outlinewidth": 0,
             "ticks": ""
            },
            "type": "choropleth"
           }
          ],
          "contour": [
           {
            "colorbar": {
             "outlinewidth": 0,
             "ticks": ""
            },
            "colorscale": [
             [
              0,
              "#0d0887"
             ],
             [
              0.1111111111111111,
              "#46039f"
             ],
             [
              0.2222222222222222,
              "#7201a8"
             ],
             [
              0.3333333333333333,
              "#9c179e"
             ],
             [
              0.4444444444444444,
              "#bd3786"
             ],
             [
              0.5555555555555556,
              "#d8576b"
             ],
             [
              0.6666666666666666,
              "#ed7953"
             ],
             [
              0.7777777777777778,
              "#fb9f3a"
             ],
             [
              0.8888888888888888,
              "#fdca26"
             ],
             [
              1,
              "#f0f921"
             ]
            ],
            "type": "contour"
           }
          ],
          "contourcarpet": [
           {
            "colorbar": {
             "outlinewidth": 0,
             "ticks": ""
            },
            "type": "contourcarpet"
           }
          ],
          "heatmap": [
           {
            "colorbar": {
             "outlinewidth": 0,
             "ticks": ""
            },
            "colorscale": [
             [
              0,
              "#0d0887"
             ],
             [
              0.1111111111111111,
              "#46039f"
             ],
             [
              0.2222222222222222,
              "#7201a8"
             ],
             [
              0.3333333333333333,
              "#9c179e"
             ],
             [
              0.4444444444444444,
              "#bd3786"
             ],
             [
              0.5555555555555556,
              "#d8576b"
             ],
             [
              0.6666666666666666,
              "#ed7953"
             ],
             [
              0.7777777777777778,
              "#fb9f3a"
             ],
             [
              0.8888888888888888,
              "#fdca26"
             ],
             [
              1,
              "#f0f921"
             ]
            ],
            "type": "heatmap"
           }
          ],
          "heatmapgl": [
           {
            "colorbar": {
             "outlinewidth": 0,
             "ticks": ""
            },
            "colorscale": [
             [
              0,
              "#0d0887"
             ],
             [
              0.1111111111111111,
              "#46039f"
             ],
             [
              0.2222222222222222,
              "#7201a8"
             ],
             [
              0.3333333333333333,
              "#9c179e"
             ],
             [
              0.4444444444444444,
              "#bd3786"
             ],
             [
              0.5555555555555556,
              "#d8576b"
             ],
             [
              0.6666666666666666,
              "#ed7953"
             ],
             [
              0.7777777777777778,
              "#fb9f3a"
             ],
             [
              0.8888888888888888,
              "#fdca26"
             ],
             [
              1,
              "#f0f921"
             ]
            ],
            "type": "heatmapgl"
           }
          ],
          "histogram": [
           {
            "marker": {
             "pattern": {
              "fillmode": "overlay",
              "size": 10,
              "solidity": 0.2
             }
            },
            "type": "histogram"
           }
          ],
          "histogram2d": [
           {
            "colorbar": {
             "outlinewidth": 0,
             "ticks": ""
            },
            "colorscale": [
             [
              0,
              "#0d0887"
             ],
             [
              0.1111111111111111,
              "#46039f"
             ],
             [
              0.2222222222222222,
              "#7201a8"
             ],
             [
              0.3333333333333333,
              "#9c179e"
             ],
             [
              0.4444444444444444,
              "#bd3786"
             ],
             [
              0.5555555555555556,
              "#d8576b"
             ],
             [
              0.6666666666666666,
              "#ed7953"
             ],
             [
              0.7777777777777778,
              "#fb9f3a"
             ],
             [
              0.8888888888888888,
              "#fdca26"
             ],
             [
              1,
              "#f0f921"
             ]
            ],
            "type": "histogram2d"
           }
          ],
          "histogram2dcontour": [
           {
            "colorbar": {
             "outlinewidth": 0,
             "ticks": ""
            },
            "colorscale": [
             [
              0,
              "#0d0887"
             ],
             [
              0.1111111111111111,
              "#46039f"
             ],
             [
              0.2222222222222222,
              "#7201a8"
             ],
             [
              0.3333333333333333,
              "#9c179e"
             ],
             [
              0.4444444444444444,
              "#bd3786"
             ],
             [
              0.5555555555555556,
              "#d8576b"
             ],
             [
              0.6666666666666666,
              "#ed7953"
             ],
             [
              0.7777777777777778,
              "#fb9f3a"
             ],
             [
              0.8888888888888888,
              "#fdca26"
             ],
             [
              1,
              "#f0f921"
             ]
            ],
            "type": "histogram2dcontour"
           }
          ],
          "mesh3d": [
           {
            "colorbar": {
             "outlinewidth": 0,
             "ticks": ""
            },
            "type": "mesh3d"
           }
          ],
          "parcoords": [
           {
            "line": {
             "colorbar": {
              "outlinewidth": 0,
              "ticks": ""
             }
            },
            "type": "parcoords"
           }
          ],
          "pie": [
           {
            "automargin": true,
            "type": "pie"
           }
          ],
          "scatter": [
           {
            "fillpattern": {
             "fillmode": "overlay",
             "size": 10,
             "solidity": 0.2
            },
            "type": "scatter"
           }
          ],
          "scatter3d": [
           {
            "line": {
             "colorbar": {
              "outlinewidth": 0,
              "ticks": ""
             }
            },
            "marker": {
             "colorbar": {
              "outlinewidth": 0,
              "ticks": ""
             }
            },
            "type": "scatter3d"
           }
          ],
          "scattercarpet": [
           {
            "marker": {
             "colorbar": {
              "outlinewidth": 0,
              "ticks": ""
             }
            },
            "type": "scattercarpet"
           }
          ],
          "scattergeo": [
           {
            "marker": {
             "colorbar": {
              "outlinewidth": 0,
              "ticks": ""
             }
            },
            "type": "scattergeo"
           }
          ],
          "scattergl": [
           {
            "marker": {
             "colorbar": {
              "outlinewidth": 0,
              "ticks": ""
             }
            },
            "type": "scattergl"
           }
          ],
          "scattermapbox": [
           {
            "marker": {
             "colorbar": {
              "outlinewidth": 0,
              "ticks": ""
             }
            },
            "type": "scattermapbox"
           }
          ],
          "scatterpolar": [
           {
            "marker": {
             "colorbar": {
              "outlinewidth": 0,
              "ticks": ""
             }
            },
            "type": "scatterpolar"
           }
          ],
          "scatterpolargl": [
           {
            "marker": {
             "colorbar": {
              "outlinewidth": 0,
              "ticks": ""
             }
            },
            "type": "scatterpolargl"
           }
          ],
          "scatterternary": [
           {
            "marker": {
             "colorbar": {
              "outlinewidth": 0,
              "ticks": ""
             }
            },
            "type": "scatterternary"
           }
          ],
          "surface": [
           {
            "colorbar": {
             "outlinewidth": 0,
             "ticks": ""
            },
            "colorscale": [
             [
              0,
              "#0d0887"
             ],
             [
              0.1111111111111111,
              "#46039f"
             ],
             [
              0.2222222222222222,
              "#7201a8"
             ],
             [
              0.3333333333333333,
              "#9c179e"
             ],
             [
              0.4444444444444444,
              "#bd3786"
             ],
             [
              0.5555555555555556,
              "#d8576b"
             ],
             [
              0.6666666666666666,
              "#ed7953"
             ],
             [
              0.7777777777777778,
              "#fb9f3a"
             ],
             [
              0.8888888888888888,
              "#fdca26"
             ],
             [
              1,
              "#f0f921"
             ]
            ],
            "type": "surface"
           }
          ],
          "table": [
           {
            "cells": {
             "fill": {
              "color": "#EBF0F8"
             },
             "line": {
              "color": "white"
             }
            },
            "header": {
             "fill": {
              "color": "#C8D4E3"
             },
             "line": {
              "color": "white"
             }
            },
            "type": "table"
           }
          ]
         },
         "layout": {
          "annotationdefaults": {
           "arrowcolor": "#2a3f5f",
           "arrowhead": 0,
           "arrowwidth": 1
          },
          "autotypenumbers": "strict",
          "coloraxis": {
           "colorbar": {
            "outlinewidth": 0,
            "ticks": ""
           }
          },
          "colorscale": {
           "diverging": [
            [
             0,
             "#8e0152"
            ],
            [
             0.1,
             "#c51b7d"
            ],
            [
             0.2,
             "#de77ae"
            ],
            [
             0.3,
             "#f1b6da"
            ],
            [
             0.4,
             "#fde0ef"
            ],
            [
             0.5,
             "#f7f7f7"
            ],
            [
             0.6,
             "#e6f5d0"
            ],
            [
             0.7,
             "#b8e186"
            ],
            [
             0.8,
             "#7fbc41"
            ],
            [
             0.9,
             "#4d9221"
            ],
            [
             1,
             "#276419"
            ]
           ],
           "sequential": [
            [
             0,
             "#0d0887"
            ],
            [
             0.1111111111111111,
             "#46039f"
            ],
            [
             0.2222222222222222,
             "#7201a8"
            ],
            [
             0.3333333333333333,
             "#9c179e"
            ],
            [
             0.4444444444444444,
             "#bd3786"
            ],
            [
             0.5555555555555556,
             "#d8576b"
            ],
            [
             0.6666666666666666,
             "#ed7953"
            ],
            [
             0.7777777777777778,
             "#fb9f3a"
            ],
            [
             0.8888888888888888,
             "#fdca26"
            ],
            [
             1,
             "#f0f921"
            ]
           ],
           "sequentialminus": [
            [
             0,
             "#0d0887"
            ],
            [
             0.1111111111111111,
             "#46039f"
            ],
            [
             0.2222222222222222,
             "#7201a8"
            ],
            [
             0.3333333333333333,
             "#9c179e"
            ],
            [
             0.4444444444444444,
             "#bd3786"
            ],
            [
             0.5555555555555556,
             "#d8576b"
            ],
            [
             0.6666666666666666,
             "#ed7953"
            ],
            [
             0.7777777777777778,
             "#fb9f3a"
            ],
            [
             0.8888888888888888,
             "#fdca26"
            ],
            [
             1,
             "#f0f921"
            ]
           ]
          },
          "colorway": [
           "#636efa",
           "#EF553B",
           "#00cc96",
           "#ab63fa",
           "#FFA15A",
           "#19d3f3",
           "#FF6692",
           "#B6E880",
           "#FF97FF",
           "#FECB52"
          ],
          "font": {
           "color": "#2a3f5f"
          },
          "geo": {
           "bgcolor": "white",
           "lakecolor": "white",
           "landcolor": "white",
           "showlakes": true,
           "showland": true,
           "subunitcolor": "#C8D4E3"
          },
          "hoverlabel": {
           "align": "left"
          },
          "hovermode": "closest",
          "mapbox": {
           "style": "light"
          },
          "paper_bgcolor": "white",
          "plot_bgcolor": "white",
          "polar": {
           "angularaxis": {
            "gridcolor": "#EBF0F8",
            "linecolor": "#EBF0F8",
            "ticks": ""
           },
           "bgcolor": "white",
           "radialaxis": {
            "gridcolor": "#EBF0F8",
            "linecolor": "#EBF0F8",
            "ticks": ""
           }
          },
          "scene": {
           "xaxis": {
            "backgroundcolor": "white",
            "gridcolor": "#DFE8F3",
            "gridwidth": 2,
            "linecolor": "#EBF0F8",
            "showbackground": true,
            "ticks": "",
            "zerolinecolor": "#EBF0F8"
           },
           "yaxis": {
            "backgroundcolor": "white",
            "gridcolor": "#DFE8F3",
            "gridwidth": 2,
            "linecolor": "#EBF0F8",
            "showbackground": true,
            "ticks": "",
            "zerolinecolor": "#EBF0F8"
           },
           "zaxis": {
            "backgroundcolor": "white",
            "gridcolor": "#DFE8F3",
            "gridwidth": 2,
            "linecolor": "#EBF0F8",
            "showbackground": true,
            "ticks": "",
            "zerolinecolor": "#EBF0F8"
           }
          },
          "shapedefaults": {
           "line": {
            "color": "#2a3f5f"
           }
          },
          "ternary": {
           "aaxis": {
            "gridcolor": "#DFE8F3",
            "linecolor": "#A2B1C6",
            "ticks": ""
           },
           "baxis": {
            "gridcolor": "#DFE8F3",
            "linecolor": "#A2B1C6",
            "ticks": ""
           },
           "bgcolor": "white",
           "caxis": {
            "gridcolor": "#DFE8F3",
            "linecolor": "#A2B1C6",
            "ticks": ""
           }
          },
          "title": {
           "x": 0.05
          },
          "xaxis": {
           "automargin": true,
           "gridcolor": "#EBF0F8",
           "linecolor": "#EBF0F8",
           "ticks": "",
           "title": {
            "standoff": 15
           },
           "zerolinecolor": "#EBF0F8",
           "zerolinewidth": 2
          },
          "yaxis": {
           "automargin": true,
           "gridcolor": "#EBF0F8",
           "linecolor": "#EBF0F8",
           "ticks": "",
           "title": {
            "standoff": 15
           },
           "zerolinecolor": "#EBF0F8",
           "zerolinewidth": 2
          }
         }
        },
        "title": {
         "text": "Correlation Heatmap: Sentiment and Stock Metrics"
        },
        "width": 500,
        "xaxis": {
         "anchor": "y",
         "autorange": true,
         "constrain": "domain",
         "domain": [
          0,
          1
         ],
         "range": [
          -0.5,
          7.5
         ],
         "scaleanchor": "y",
         "title": {
          "text": "Metrics"
         },
         "type": "category"
        },
        "yaxis": {
         "anchor": "x",
         "autorange": true,
         "constrain": "domain",
         "domain": [
          0.08750000000000002,
          0.9125
         ],
         "range": [
          7.5,
          -0.5
         ],
         "title": {
          "text": "Metrics"
         },
         "type": "category"
        }
       }
      },
      "image/png": "[encoded data removed]",
      "text/html": [
       "<div>                            <div id=\"5776798d-2872-4a8c-8e86-8e6cebf636aa\" class=\"plotly-graph-div\" style=\"height:500px; width:500px;\"></div>            <script type=\"text/javascript\">                require([\"plotly\"], function(Plotly) {                    window.PLOTLYENV=window.PLOTLYENV || {};                                    if (document.getElementById(\"5776798d-2872-4a8c-8e86-8e6cebf636aa\")) {                    Plotly.newPlot(                        \"5776798d-2872-4a8c-8e86-8e6cebf636aa\",                        [{\"coloraxis\":\"coloraxis\",\"name\":\"0\",\"texttemplate\":\"%{z}\",\"x\":[\"Positive\",\"Negative\",\"Neutral\",\"Compound\",\"Close\",\"Volume\",\"Rolling_Positive\",\"Rolling_Negative\"],\"y\":[\"Positive\",\"Negative\",\"Neutral\",\"Compound\",\"Close\",\"Volume\",\"Rolling_Positive\",\"Rolling_Negative\"],\"z\":[[1.0,-0.050611529162931435,-0.9371191458435919,0.9599882786516531,0.8092416162716302,0.48484909475715676,null,null],[-0.050611529162931435,1.0,-0.3011308474816015,-0.3280457456990028,0.06288209668367165,-0.36281527417492543,-1.0000000000000002,0.9999999999999997],[-0.9371191458435919,-0.3011308474816015,1.0,-0.8019503757326166,-0.7938874819530963,-0.33720248701991623,1.0000000000000002,-0.9999999999999998],[0.9599882786516531,-0.3280457456990028,-0.8019503757326166,1.0,0.7542196286001321,0.5512309942380575,1.0000000000000002,-0.9999999999999998],[0.8092416162716302,0.06288209668367165,-0.7938874819530963,0.7542196286001321,1.0,-0.10908843861158186,-1.0,0.9999999999999998],[0.48484909475715676,-0.36281527417492543,-0.33720248701991623,0.5512309942380575,-0.10908843861158186,1.0,1.0,-0.9999999999999997],[null,-1.0000000000000002,1.0000000000000002,1.0000000000000002,-1.0,1.0,1.0,-0.9999999999999998],[null,0.9999999999999997,-0.9999999999999998,-0.9999999999999998,0.9999999999999998,-0.9999999999999997,-0.9999999999999998,1.0]],\"type\":\"heatmap\",\"xaxis\":\"x\",\"yaxis\":\"y\",\"hovertemplate\":\"x: %{x}\\u003cbr\\u003ey: %{y}\\u003cbr\\u003ecolor: %{z}\\u003cextra\\u003e\\u003c\\u002fextra\\u003e\"}],                        {\"template\":{\"data\":{\"barpolar\":[{\"marker\":{\"line\":{\"color\":\"white\",\"width\":0.5},\"pattern\":{\"fillmode\":\"overlay\",\"size\":10,\"solidity\":0.2}},\"type\":\"barpolar\"}],\"bar\":[{\"error_x\":{\"color\":\"#2a3f5f\"},\"error_y\":{\"color\":\"#2a3f5f\"},\"marker\":{\"line\":{\"color\":\"white\",\"width\":0.5},\"pattern\":{\"fillmode\":\"overlay\",\"size\":10,\"solidity\":0.2}},\"type\":\"bar\"}],\"carpet\":[{\"aaxis\":{\"endlinecolor\":\"#2a3f5f\",\"gridcolor\":\"#C8D4E3\",\"linecolor\":\"#C8D4E3\",\"minorgridcolor\":\"#C8D4E3\",\"startlinecolor\":\"#2a3f5f\"},\"baxis\":{\"endlinecolor\":\"#2a3f5f\",\"gridcolor\":\"#C8D4E3\",\"linecolor\":\"#C8D4E3\",\"minorgridcolor\":\"#C8D4E3\",\"startlinecolor\":\"#2a3f5f\"},\"type\":\"carpet\"}],\"choropleth\":[{\"colorbar\":{\"outlinewidth\":0,\"ticks\":\"\"},\"type\":\"choropleth\"}],\"contourcarpet\":[{\"colorbar\":{\"outlinewidth\":0,\"ticks\":\"\"},\"type\":\"contourcarpet\"}],\"contour\":[{\"colorbar\":{\"outlinewidth\":0,\"ticks\":\"\"},\"colorscale\":[[0.0,\"#0d0887\"],[0.1111111111111111,\"#46039f\"],[0.2222222222222222,\"#7201a8\"],[0.3333333333333333,\"#9c179e\"],[0.4444444444444444,\"#bd3786\"],[0.5555555555555556,\"#d8576b\"],[0.6666666666666666,\"#ed7953\"],[0.7777777777777778,\"#fb9f3a\"],[0.8888888888888888,\"#fdca26\"],[1.0,\"#f0f921\"]],\"type\":\"contour\"}],\"heatmapgl\":[{\"colorbar\":{\"outlinewidth\":0,\"ticks\":\"\"},\"colorscale\":[[0.0,\"#0d0887\"],[0.1111111111111111,\"#46039f\"],[0.2222222222222222,\"#7201a8\"],[0.3333333333333333,\"#9c179e\"],[0.4444444444444444,\"#bd3786\"],[0.5555555555555556,\"#d8576b\"],[0.6666666666666666,\"#ed7953\"],[0.7777777777777778,\"#fb9f3a\"],[0.8888888888888888,\"#fdca26\"],[1.0,\"#f0f921\"]],\"type\":\"heatmapgl\"}],\"heatmap\":[{\"colorbar\":{\"outlinewidth\":0,\"ticks\":\"\"},\"colorscale\":[[0.0,\"#0d0887\"],[0.1111111111111111,\"#46039f\"],[0.2222222222222222,\"#7201a8\"],[0.3333333333333333,\"#9c179e\"],[0.4444444444444444,\"#bd3786\"],[0.5555555555555556,\"#d8576b\"],[0.6666666666666666,\"#ed7953\"],[0.7777777777777778,\"#fb9f3a\"],[0.8888888888888888,\"#fdca26\"],[1.0,\"#f0f921\"]],\"type\":\"heatmap\"}],\"histogram2dcontour\":[{\"colorbar\":{\"outlinewidth\":0,\"ticks\":\"\"},\"colorscale\":[[0.0,\"#0d0887\"],[0.1111111111111111,\"#46039f\"],[0.2222222222222222,\"#7201a8\"],[0.3333333333333333,\"#9c179e\"],[0.4444444444444444,\"#bd3786\"],[0.5555555555555556,\"#d8576b\"],[0.6666666666666666,\"#ed7953\"],[0.7777777777777778,\"#fb9f3a\"],[0.8888888888888888,\"#fdca26\"],[1.0,\"#f0f921\"]],\"type\":\"histogram2dcontour\"}],\"histogram2d\":[{\"colorbar\":{\"outlinewidth\":0,\"ticks\":\"\"},\"colorscale\":[[0.0,\"#0d0887\"],[0.1111111111111111,\"#46039f\"],[0.2222222222222222,\"#7201a8\"],[0.3333333333333333,\"#9c179e\"],[0.4444444444444444,\"#bd3786\"],[0.5555555555555556,\"#d8576b\"],[0.6666666666666666,\"#ed7953\"],[0.7777777777777778,\"#fb9f3a\"],[0.8888888888888888,\"#fdca26\"],[1.0,\"#f0f921\"]],\"type\":\"histogram2d\"}],\"histogram\":[{\"marker\":{\"pattern\":{\"fillmode\":\"overlay\",\"size\":10,\"solidity\":0.2}},\"type\":\"histogram\"}],\"mesh3d\":[{\"colorbar\":{\"outlinewidth\":0,\"ticks\":\"\"},\"type\":\"mesh3d\"}],\"parcoords\":[{\"line\":{\"colorbar\":{\"outlinewidth\":0,\"ticks\":\"\"}},\"type\":\"parcoords\"}],\"pie\":[{\"automargin\":true,\"type\":\"pie\"}],\"scatter3d\":[{\"line\":{\"colorbar\":{\"outlinewidth\":0,\"ticks\":\"\"}},\"marker\":{\"colorbar\":{\"outlinewidth\":0,\"ticks\":\"\"}},\"type\":\"scatter3d\"}],\"scattercarpet\":[{\"marker\":{\"colorbar\":{\"outlinewidth\":0,\"ticks\":\"\"}},\"type\":\"scattercarpet\"}],\"scattergeo\":[{\"marker\":{\"colorbar\":{\"outlinewidth\":0,\"ticks\":\"\"}},\"type\":\"scattergeo\"}],\"scattergl\":[{\"marker\":{\"colorbar\":{\"outlinewidth\":0,\"ticks\":\"\"}},\"type\":\"scattergl\"}],\"scattermapbox\":[{\"marker\":{\"colorbar\":{\"outlinewidth\":0,\"ticks\":\"\"}},\"type\":\"scattermapbox\"}],\"scatterpolargl\":[{\"marker\":{\"colorbar\":{\"outlinewidth\":0,\"ticks\":\"\"}},\"type\":\"scatterpolargl\"}],\"scatterpolar\":[{\"marker\":{\"colorbar\":{\"outlinewidth\":0,\"ticks\":\"\"}},\"type\":\"scatterpolar\"}],\"scatter\":[{\"fillpattern\":{\"fillmode\":\"overlay\",\"size\":10,\"solidity\":0.2},\"type\":\"scatter\"}],\"scatterternary\":[{\"marker\":{\"colorbar\":{\"outlinewidth\":0,\"ticks\":\"\"}},\"type\":\"scatterternary\"}],\"surface\":[{\"colorbar\":{\"outlinewidth\":0,\"ticks\":\"\"},\"colorscale\":[[0.0,\"#0d0887\"],[0.1111111111111111,\"#46039f\"],[0.2222222222222222,\"#7201a8\"],[0.3333333333333333,\"#9c179e\"],[0.4444444444444444,\"#bd3786\"],[0.5555555555555556,\"#d8576b\"],[0.6666666666666666,\"#ed7953\"],[0.7777777777777778,\"#fb9f3a\"],[0.8888888888888888,\"#fdca26\"],[1.0,\"#f0f921\"]],\"type\":\"surface\"}],\"table\":[{\"cells\":{\"fill\":{\"color\":\"#EBF0F8\"},\"line\":{\"color\":\"white\"}},\"header\":{\"fill\":{\"color\":\"#C8D4E3\"},\"line\":{\"color\":\"white\"}},\"type\":\"table\"}]},\"layout\":{\"annotationdefaults\":{\"arrowcolor\":\"#2a3f5f\",\"arrowhead\":0,\"arrowwidth\":1},\"autotypenumbers\":\"strict\",\"coloraxis\":{\"colorbar\":{\"outlinewidth\":0,\"ticks\":\"\"}},\"colorscale\":{\"diverging\":[[0,\"#8e0152\"],[0.1,\"#c51b7d\"],[0.2,\"#de77ae\"],[0.3,\"#f1b6da\"],[0.4,\"#fde0ef\"],[0.5,\"#f7f7f7\"],[0.6,\"#e6f5d0\"],[0.7,\"#b8e186\"],[0.8,\"#7fbc41\"],[0.9,\"#4d9221\"],[1,\"#276419\"]],\"sequential\":[[0.0,\"#0d0887\"],[0.1111111111111111,\"#46039f\"],[0.2222222222222222,\"#7201a8\"],[0.3333333333333333,\"#9c179e\"],[0.4444444444444444,\"#bd3786\"],[0.5555555555555556,\"#d8576b\"],[0.6666666666666666,\"#ed7953\"],[0.7777777777777778,\"#fb9f3a\"],[0.8888888888888888,\"#fdca26\"],[1.0,\"#f0f921\"]],\"sequentialminus\":[[0.0,\"#0d0887\"],[0.1111111111111111,\"#46039f\"],[0.2222222222222222,\"#7201a8\"],[0.3333333333333333,\"#9c179e\"],[0.4444444444444444,\"#bd3786\"],[0.5555555555555556,\"#d8576b\"],[0.6666666666666666,\"#ed7953\"],[0.7777777777777778,\"#fb9f3a\"],[0.8888888888888888,\"#fdca26\"],[1.0,\"#f0f921\"]]},\"colorway\":[\"#636efa\",\"#EF553B\",\"#00cc96\",\"#ab63fa\",\"#FFA15A\",\"#19d3f3\",\"#FF6692\",\"#B6E880\",\"#FF97FF\",\"#FECB52\"],\"font\":{\"color\":\"#2a3f5f\"},\"geo\":{\"bgcolor\":\"white\",\"lakecolor\":\"white\",\"landcolor\":\"white\",\"showlakes\":true,\"showland\":true,\"subunitcolor\":\"#C8D4E3\"},\"hoverlabel\":{\"align\":\"left\"},\"hovermode\":\"closest\",\"mapbox\":{\"style\":\"light\"},\"paper_bgcolor\":\"white\",\"plot_bgcolor\":\"white\",\"polar\":{\"angularaxis\":{\"gridcolor\":\"#EBF0F8\",\"linecolor\":\"#EBF0F8\",\"ticks\":\"\"},\"bgcolor\":\"white\",\"radialaxis\":{\"gridcolor\":\"#EBF0F8\",\"linecolor\":\"#EBF0F8\",\"ticks\":\"\"}},\"scene\":{\"xaxis\":{\"backgroundcolor\":\"white\",\"gridcolor\":\"#DFE8F3\",\"gridwidth\":2,\"linecolor\":\"#EBF0F8\",\"showbackground\":true,\"ticks\":\"\",\"zerolinecolor\":\"#EBF0F8\"},\"yaxis\":{\"backgroundcolor\":\"white\",\"gridcolor\":\"#DFE8F3\",\"gridwidth\":2,\"linecolor\":\"#EBF0F8\",\"showbackground\":true,\"ticks\":\"\",\"zerolinecolor\":\"#EBF0F8\"},\"zaxis\":{\"backgroundcolor\":\"white\",\"gridcolor\":\"#DFE8F3\",\"gridwidth\":2,\"linecolor\":\"#EBF0F8\",\"showbackground\":true,\"ticks\":\"\",\"zerolinecolor\":\"#EBF0F8\"}},\"shapedefaults\":{\"line\":{\"color\":\"#2a3f5f\"}},\"ternary\":{\"aaxis\":{\"gridcolor\":\"#DFE8F3\",\"linecolor\":\"#A2B1C6\",\"ticks\":\"\"},\"baxis\":{\"gridcolor\":\"#DFE8F3\",\"linecolor\":\"#A2B1C6\",\"ticks\":\"\"},\"bgcolor\":\"white\",\"caxis\":{\"gridcolor\":\"#DFE8F3\",\"linecolor\":\"#A2B1C6\",\"ticks\":\"\"}},\"title\":{\"x\":0.05},\"xaxis\":{\"automargin\":true,\"gridcolor\":\"#EBF0F8\",\"linecolor\":\"#EBF0F8\",\"ticks\":\"\",\"title\":{\"standoff\":15},\"zerolinecolor\":\"#EBF0F8\",\"zerolinewidth\":2},\"yaxis\":{\"automargin\":true,\"gridcolor\":\"#EBF0F8\",\"linecolor\":\"#EBF0F8\",\"ticks\":\"\",\"title\":{\"standoff\":15},\"zerolinecolor\":\"#EBF0F8\",\"zerolinewidth\":2}}},\"xaxis\":{\"anchor\":\"y\",\"domain\":[0.0,1.0],\"scaleanchor\":\"y\",\"constrain\":\"domain\",\"title\":{\"text\":\"Metrics\"}},\"yaxis\":{\"anchor\":\"x\",\"domain\":[0.0,1.0],\"autorange\":\"reversed\",\"constrain\":\"domain\",\"title\":{\"text\":\"Metrics\"}},\"coloraxis\":{\"colorscale\":[[0.0,\"#440154\"],[0.1111111111111111,\"#482878\"],[0.2222222222222222,\"#3e4989\"],[0.3333333333333333,\"#31688e\"],[0.4444444444444444,\"#26828e\"],[0.5555555555555556,\"#1f9e89\"],[0.6666666666666666,\"#35b779\"],[0.7777777777777778,\"#6ece58\"],[0.8888888888888888,\"#b5de2b\"],[1.0,\"#fde725\"]]},\"title\":{\"text\":\"Correlation Heatmap: Sentiment and Stock Metrics\"},\"height\":500,\"width\":500},                        {\"responsive\": true}                    ).then(function(){\n",
       "                            \n",
       "var gd = document.getElementById('5776798d-2872-4a8c-8e86-8e6cebf636aa');\n",
       "var x = new MutationObserver(function (mutations, observer) {{\n",
       "        var display = window.getComputedStyle(gd).display;\n",
       "        if (!display || display === 'none') {{\n",
       "            console.log([gd, 'removed!']);\n",
       "            Plotly.purge(gd);\n",
       "            observer.disconnect();\n",
       "        }}\n",
       "}});\n",
       "\n",
       "// Listen for the removal of the full notebook cells\n",
       "var notebookContainer = gd.closest('#notebook-container');\n",
       "if (notebookContainer) {{\n",
       "    x.observe(notebookContainer, {childList: true});\n",
       "}}\n",
       "\n",
       "// Listen for the clearing of the current output cell\n",
       "var outputEl = gd.closest('.output');\n",
       "if (outputEl) {{\n",
       "    x.observe(outputEl, {childList: true});\n",
       "}}\n",
       "\n",
       "                        })                };                });            </script>        </div>"
      ]
     },
     "metadata": {},
     "output_type": "display_data"
    }
   ],
   "source": [
    "\n",
    "import plotly.express as px\n",
    "\n",
    "# We Exclude non-numeric columns from the correlation matrix\n",
    "numeric_data = merged_data.select_dtypes(include='number')  # Select only numeric columns\n",
    "correlation_matrix = numeric_data.corr()  # Compute correlation matrix\n",
    "\n",
    "# Generating correlation matrix heatmap \n",
    "fig = px.imshow(\n",
    "    correlation_matrix,\n",
    "    text_auto=True,\n",
    "    color_continuous_scale='Viridis',\n",
    "    title=\"Correlation Heatmap: Sentiment and Stock Metrics\",\n",
    "    width=500,  \n",
    "    height=500 \n",
    ")\n",
    "\n",
    "# Customize the layout\n",
    "fig.update_layout(\n",
    "    xaxis_title=\"Metrics\",\n",
    "    yaxis_title=\"Metrics\",\n",
    "    template=\"plotly_white\"\n",
    ")\n",
    "\n",
    "# Display the heatmap\n",
    "fig.show()\n"
   ]
  },
  {
   "cell_type": "markdown",
   "id": "f971eb80-90ba-42cc-b018-878e92a76fbe",
   "metadata": {},
   "source": [
    "#### **Visualization 3: Trading Volume Line Chart**\n",
    "\n",
    "**What It Does:**  \n",
    "This line chart visualizes the trading volume of Tesla stock over time, with markers on each data point to highlight specific trading days. The chart helps in identifying trends, spikes, or drops in trading activity across the given time period.\n",
    "\n",
    "**Context in Our Project:**  \n",
    "Tracking trading volume is crucial for understanding investor behavior and market dynamics. For example, a surge in trading volume could align with major news events or shifts in sentiment. This visualization allows us to correlate volume changes with sentiment and price movements, providing a comprehensive view of market responses.\n"
   ]
  },
  {
   "cell_type": "code",
   "execution_count": 207,
   "id": "52f5e941-502a-4afa-830a-ccac6f4ffdc0",
   "metadata": {},
   "outputs": [
    {
     "data": {
      "application/vnd.plotly.v1+json": {
       "config": {
        "plotlyServerURL": "https://plot.ly"
       },
       "data": [
        {
         "line": {
          "color": "orange"
         },
         "mode": "lines+markers",
         "name": "Volume",
         "type": "scatter",
         "x": [
          "2024-01-02",
          "2024-01-03",
          "2024-01-04",
          "2024-01-08"
         ],
         "y": [
          104654200,
          121082600,
          102629300,
          85166600
         ]
        }
       ],
       "layout": {
        "autosize": true,
        "template": {
         "data": {
          "bar": [
           {
            "error_x": {
             "color": "#2a3f5f"
            },
            "error_y": {
             "color": "#2a3f5f"
            },
            "marker": {
             "line": {
              "color": "white",
              "width": 0.5
             },
             "pattern": {
              "fillmode": "overlay",
              "size": 10,
              "solidity": 0.2
             }
            },
            "type": "bar"
           }
          ],
          "barpolar": [
           {
            "marker": {
             "line": {
              "color": "white",
              "width": 0.5
             },
             "pattern": {
              "fillmode": "overlay",
              "size": 10,
              "solidity": 0.2
             }
            },
            "type": "barpolar"
           }
          ],
          "carpet": [
           {
            "aaxis": {
             "endlinecolor": "#2a3f5f",
             "gridcolor": "#C8D4E3",
             "linecolor": "#C8D4E3",
             "minorgridcolor": "#C8D4E3",
             "startlinecolor": "#2a3f5f"
            },
            "baxis": {
             "endlinecolor": "#2a3f5f",
             "gridcolor": "#C8D4E3",
             "linecolor": "#C8D4E3",
             "minorgridcolor": "#C8D4E3",
             "startlinecolor": "#2a3f5f"
            },
            "type": "carpet"
           }
          ],
          "choropleth": [
           {
            "colorbar": {
             "outlinewidth": 0,
             "ticks": ""
            },
            "type": "choropleth"
           }
          ],
          "contour": [
           {
            "colorbar": {
             "outlinewidth": 0,
             "ticks": ""
            },
            "colorscale": [
             [
              0,
              "#0d0887"
             ],
             [
              0.1111111111111111,
              "#46039f"
             ],
             [
              0.2222222222222222,
              "#7201a8"
             ],
             [
              0.3333333333333333,
              "#9c179e"
             ],
             [
              0.4444444444444444,
              "#bd3786"
             ],
             [
              0.5555555555555556,
              "#d8576b"
             ],
             [
              0.6666666666666666,
              "#ed7953"
             ],
             [
              0.7777777777777778,
              "#fb9f3a"
             ],
             [
              0.8888888888888888,
              "#fdca26"
             ],
             [
              1,
              "#f0f921"
             ]
            ],
            "type": "contour"
           }
          ],
          "contourcarpet": [
           {
            "colorbar": {
             "outlinewidth": 0,
             "ticks": ""
            },
            "type": "contourcarpet"
           }
          ],
          "heatmap": [
           {
            "colorbar": {
             "outlinewidth": 0,
             "ticks": ""
            },
            "colorscale": [
             [
              0,
              "#0d0887"
             ],
             [
              0.1111111111111111,
              "#46039f"
             ],
             [
              0.2222222222222222,
              "#7201a8"
             ],
             [
              0.3333333333333333,
              "#9c179e"
             ],
             [
              0.4444444444444444,
              "#bd3786"
             ],
             [
              0.5555555555555556,
              "#d8576b"
             ],
             [
              0.6666666666666666,
              "#ed7953"
             ],
             [
              0.7777777777777778,
              "#fb9f3a"
             ],
             [
              0.8888888888888888,
              "#fdca26"
             ],
             [
              1,
              "#f0f921"
             ]
            ],
            "type": "heatmap"
           }
          ],
          "heatmapgl": [
           {
            "colorbar": {
             "outlinewidth": 0,
             "ticks": ""
            },
            "colorscale": [
             [
              0,
              "#0d0887"
             ],
             [
              0.1111111111111111,
              "#46039f"
             ],
             [
              0.2222222222222222,
              "#7201a8"
             ],
             [
              0.3333333333333333,
              "#9c179e"
             ],
             [
              0.4444444444444444,
              "#bd3786"
             ],
             [
              0.5555555555555556,
              "#d8576b"
             ],
             [
              0.6666666666666666,
              "#ed7953"
             ],
             [
              0.7777777777777778,
              "#fb9f3a"
             ],
             [
              0.8888888888888888,
              "#fdca26"
             ],
             [
              1,
              "#f0f921"
             ]
            ],
            "type": "heatmapgl"
           }
          ],
          "histogram": [
           {
            "marker": {
             "pattern": {
              "fillmode": "overlay",
              "size": 10,
              "solidity": 0.2
             }
            },
            "type": "histogram"
           }
          ],
          "histogram2d": [
           {
            "colorbar": {
             "outlinewidth": 0,
             "ticks": ""
            },
            "colorscale": [
             [
              0,
              "#0d0887"
             ],
             [
              0.1111111111111111,
              "#46039f"
             ],
             [
              0.2222222222222222,
              "#7201a8"
             ],
             [
              0.3333333333333333,
              "#9c179e"
             ],
             [
              0.4444444444444444,
              "#bd3786"
             ],
             [
              0.5555555555555556,
              "#d8576b"
             ],
             [
              0.6666666666666666,
              "#ed7953"
             ],
             [
              0.7777777777777778,
              "#fb9f3a"
             ],
             [
              0.8888888888888888,
              "#fdca26"
             ],
             [
              1,
              "#f0f921"
             ]
            ],
            "type": "histogram2d"
           }
          ],
          "histogram2dcontour": [
           {
            "colorbar": {
             "outlinewidth": 0,
             "ticks": ""
            },
            "colorscale": [
             [
              0,
              "#0d0887"
             ],
             [
              0.1111111111111111,
              "#46039f"
             ],
             [
              0.2222222222222222,
              "#7201a8"
             ],
             [
              0.3333333333333333,
              "#9c179e"
             ],
             [
              0.4444444444444444,
              "#bd3786"
             ],
             [
              0.5555555555555556,
              "#d8576b"
             ],
             [
              0.6666666666666666,
              "#ed7953"
             ],
             [
              0.7777777777777778,
              "#fb9f3a"
             ],
             [
              0.8888888888888888,
              "#fdca26"
             ],
             [
              1,
              "#f0f921"
             ]
            ],
            "type": "histogram2dcontour"
           }
          ],
          "mesh3d": [
           {
            "colorbar": {
             "outlinewidth": 0,
             "ticks": ""
            },
            "type": "mesh3d"
           }
          ],
          "parcoords": [
           {
            "line": {
             "colorbar": {
              "outlinewidth": 0,
              "ticks": ""
             }
            },
            "type": "parcoords"
           }
          ],
          "pie": [
           {
            "automargin": true,
            "type": "pie"
           }
          ],
          "scatter": [
           {
            "fillpattern": {
             "fillmode": "overlay",
             "size": 10,
             "solidity": 0.2
            },
            "type": "scatter"
           }
          ],
          "scatter3d": [
           {
            "line": {
             "colorbar": {
              "outlinewidth": 0,
              "ticks": ""
             }
            },
            "marker": {
             "colorbar": {
              "outlinewidth": 0,
              "ticks": ""
             }
            },
            "type": "scatter3d"
           }
          ],
          "scattercarpet": [
           {
            "marker": {
             "colorbar": {
              "outlinewidth": 0,
              "ticks": ""
             }
            },
            "type": "scattercarpet"
           }
          ],
          "scattergeo": [
           {
            "marker": {
             "colorbar": {
              "outlinewidth": 0,
              "ticks": ""
             }
            },
            "type": "scattergeo"
           }
          ],
          "scattergl": [
           {
            "marker": {
             "colorbar": {
              "outlinewidth": 0,
              "ticks": ""
             }
            },
            "type": "scattergl"
           }
          ],
          "scattermapbox": [
           {
            "marker": {
             "colorbar": {
              "outlinewidth": 0,
              "ticks": ""
             }
            },
            "type": "scattermapbox"
           }
          ],
          "scatterpolar": [
           {
            "marker": {
             "colorbar": {
              "outlinewidth": 0,
              "ticks": ""
             }
            },
            "type": "scatterpolar"
           }
          ],
          "scatterpolargl": [
           {
            "marker": {
             "colorbar": {
              "outlinewidth": 0,
              "ticks": ""
             }
            },
            "type": "scatterpolargl"
           }
          ],
          "scatterternary": [
           {
            "marker": {
             "colorbar": {
              "outlinewidth": 0,
              "ticks": ""
             }
            },
            "type": "scatterternary"
           }
          ],
          "surface": [
           {
            "colorbar": {
             "outlinewidth": 0,
             "ticks": ""
            },
            "colorscale": [
             [
              0,
              "#0d0887"
             ],
             [
              0.1111111111111111,
              "#46039f"
             ],
             [
              0.2222222222222222,
              "#7201a8"
             ],
             [
              0.3333333333333333,
              "#9c179e"
             ],
             [
              0.4444444444444444,
              "#bd3786"
             ],
             [
              0.5555555555555556,
              "#d8576b"
             ],
             [
              0.6666666666666666,
              "#ed7953"
             ],
             [
              0.7777777777777778,
              "#fb9f3a"
             ],
             [
              0.8888888888888888,
              "#fdca26"
             ],
             [
              1,
              "#f0f921"
             ]
            ],
            "type": "surface"
           }
          ],
          "table": [
           {
            "cells": {
             "fill": {
              "color": "#EBF0F8"
             },
             "line": {
              "color": "white"
             }
            },
            "header": {
             "fill": {
              "color": "#C8D4E3"
             },
             "line": {
              "color": "white"
             }
            },
            "type": "table"
           }
          ]
         },
         "layout": {
          "annotationdefaults": {
           "arrowcolor": "#2a3f5f",
           "arrowhead": 0,
           "arrowwidth": 1
          },
          "autotypenumbers": "strict",
          "coloraxis": {
           "colorbar": {
            "outlinewidth": 0,
            "ticks": ""
           }
          },
          "colorscale": {
           "diverging": [
            [
             0,
             "#8e0152"
            ],
            [
             0.1,
             "#c51b7d"
            ],
            [
             0.2,
             "#de77ae"
            ],
            [
             0.3,
             "#f1b6da"
            ],
            [
             0.4,
             "#fde0ef"
            ],
            [
             0.5,
             "#f7f7f7"
            ],
            [
             0.6,
             "#e6f5d0"
            ],
            [
             0.7,
             "#b8e186"
            ],
            [
             0.8,
             "#7fbc41"
            ],
            [
             0.9,
             "#4d9221"
            ],
            [
             1,
             "#276419"
            ]
           ],
           "sequential": [
            [
             0,
             "#0d0887"
            ],
            [
             0.1111111111111111,
             "#46039f"
            ],
            [
             0.2222222222222222,
             "#7201a8"
            ],
            [
             0.3333333333333333,
             "#9c179e"
            ],
            [
             0.4444444444444444,
             "#bd3786"
            ],
            [
             0.5555555555555556,
             "#d8576b"
            ],
            [
             0.6666666666666666,
             "#ed7953"
            ],
            [
             0.7777777777777778,
             "#fb9f3a"
            ],
            [
             0.8888888888888888,
             "#fdca26"
            ],
            [
             1,
             "#f0f921"
            ]
           ],
           "sequentialminus": [
            [
             0,
             "#0d0887"
            ],
            [
             0.1111111111111111,
             "#46039f"
            ],
            [
             0.2222222222222222,
             "#7201a8"
            ],
            [
             0.3333333333333333,
             "#9c179e"
            ],
            [
             0.4444444444444444,
             "#bd3786"
            ],
            [
             0.5555555555555556,
             "#d8576b"
            ],
            [
             0.6666666666666666,
             "#ed7953"
            ],
            [
             0.7777777777777778,
             "#fb9f3a"
            ],
            [
             0.8888888888888888,
             "#fdca26"
            ],
            [
             1,
             "#f0f921"
            ]
           ]
          },
          "colorway": [
           "#636efa",
           "#EF553B",
           "#00cc96",
           "#ab63fa",
           "#FFA15A",
           "#19d3f3",
           "#FF6692",
           "#B6E880",
           "#FF97FF",
           "#FECB52"
          ],
          "font": {
           "color": "#2a3f5f"
          },
          "geo": {
           "bgcolor": "white",
           "lakecolor": "white",
           "landcolor": "white",
           "showlakes": true,
           "showland": true,
           "subunitcolor": "#C8D4E3"
          },
          "hoverlabel": {
           "align": "left"
          },
          "hovermode": "closest",
          "mapbox": {
           "style": "light"
          },
          "paper_bgcolor": "white",
          "plot_bgcolor": "white",
          "polar": {
           "angularaxis": {
            "gridcolor": "#EBF0F8",
            "linecolor": "#EBF0F8",
            "ticks": ""
           },
           "bgcolor": "white",
           "radialaxis": {
            "gridcolor": "#EBF0F8",
            "linecolor": "#EBF0F8",
            "ticks": ""
           }
          },
          "scene": {
           "xaxis": {
            "backgroundcolor": "white",
            "gridcolor": "#DFE8F3",
            "gridwidth": 2,
            "linecolor": "#EBF0F8",
            "showbackground": true,
            "ticks": "",
            "zerolinecolor": "#EBF0F8"
           },
           "yaxis": {
            "backgroundcolor": "white",
            "gridcolor": "#DFE8F3",
            "gridwidth": 2,
            "linecolor": "#EBF0F8",
            "showbackground": true,
            "ticks": "",
            "zerolinecolor": "#EBF0F8"
           },
           "zaxis": {
            "backgroundcolor": "white",
            "gridcolor": "#DFE8F3",
            "gridwidth": 2,
            "linecolor": "#EBF0F8",
            "showbackground": true,
            "ticks": "",
            "zerolinecolor": "#EBF0F8"
           }
          },
          "shapedefaults": {
           "line": {
            "color": "#2a3f5f"
           }
          },
          "ternary": {
           "aaxis": {
            "gridcolor": "#DFE8F3",
            "linecolor": "#A2B1C6",
            "ticks": ""
           },
           "baxis": {
            "gridcolor": "#DFE8F3",
            "linecolor": "#A2B1C6",
            "ticks": ""
           },
           "bgcolor": "white",
           "caxis": {
            "gridcolor": "#DFE8F3",
            "linecolor": "#A2B1C6",
            "ticks": ""
           }
          },
          "title": {
           "x": 0.05
          },
          "xaxis": {
           "automargin": true,
           "gridcolor": "#EBF0F8",
           "linecolor": "#EBF0F8",
           "ticks": "",
           "title": {
            "standoff": 15
           },
           "zerolinecolor": "#EBF0F8",
           "zerolinewidth": 2
          },
          "yaxis": {
           "automargin": true,
           "gridcolor": "#EBF0F8",
           "linecolor": "#EBF0F8",
           "ticks": "",
           "title": {
            "standoff": 15
           },
           "zerolinecolor": "#EBF0F8",
           "zerolinewidth": 2
          }
         }
        },
        "title": {
         "text": "Trading Volume Over Time"
        },
        "xaxis": {
         "autorange": true,
         "range": [
          "2024-01-01 15:17:12.2397",
          "2024-01-08 08:42:47.7603"
         ],
         "title": {
          "text": "Date"
         },
         "type": "date"
        },
        "yaxis": {
         "autorange": true,
         "range": [
          82202658.25242719,
          124046541.74757281
         ],
         "title": {
          "text": "Volume"
         },
         "type": "linear"
        }
       }
      },
      "image/png": "[encoded data removed]",
      "text/html": [
       "<div>                            <div id=\"5504614a-0cfa-4178-a9a1-bf7b306a715c\" class=\"plotly-graph-div\" style=\"height:525px; width:100%;\"></div>            <script type=\"text/javascript\">                require([\"plotly\"], function(Plotly) {                    window.PLOTLYENV=window.PLOTLYENV || {};                                    if (document.getElementById(\"5504614a-0cfa-4178-a9a1-bf7b306a715c\")) {                    Plotly.newPlot(                        \"5504614a-0cfa-4178-a9a1-bf7b306a715c\",                        [{\"line\":{\"color\":\"orange\"},\"mode\":\"lines+markers\",\"name\":\"Volume\",\"x\":[\"2024-01-02\",\"2024-01-03\",\"2024-01-04\",\"2024-01-08\"],\"y\":[104654200,121082600,102629300,85166600],\"type\":\"scatter\"}],                        {\"template\":{\"data\":{\"barpolar\":[{\"marker\":{\"line\":{\"color\":\"white\",\"width\":0.5},\"pattern\":{\"fillmode\":\"overlay\",\"size\":10,\"solidity\":0.2}},\"type\":\"barpolar\"}],\"bar\":[{\"error_x\":{\"color\":\"#2a3f5f\"},\"error_y\":{\"color\":\"#2a3f5f\"},\"marker\":{\"line\":{\"color\":\"white\",\"width\":0.5},\"pattern\":{\"fillmode\":\"overlay\",\"size\":10,\"solidity\":0.2}},\"type\":\"bar\"}],\"carpet\":[{\"aaxis\":{\"endlinecolor\":\"#2a3f5f\",\"gridcolor\":\"#C8D4E3\",\"linecolor\":\"#C8D4E3\",\"minorgridcolor\":\"#C8D4E3\",\"startlinecolor\":\"#2a3f5f\"},\"baxis\":{\"endlinecolor\":\"#2a3f5f\",\"gridcolor\":\"#C8D4E3\",\"linecolor\":\"#C8D4E3\",\"minorgridcolor\":\"#C8D4E3\",\"startlinecolor\":\"#2a3f5f\"},\"type\":\"carpet\"}],\"choropleth\":[{\"colorbar\":{\"outlinewidth\":0,\"ticks\":\"\"},\"type\":\"choropleth\"}],\"contourcarpet\":[{\"colorbar\":{\"outlinewidth\":0,\"ticks\":\"\"},\"type\":\"contourcarpet\"}],\"contour\":[{\"colorbar\":{\"outlinewidth\":0,\"ticks\":\"\"},\"colorscale\":[[0.0,\"#0d0887\"],[0.1111111111111111,\"#46039f\"],[0.2222222222222222,\"#7201a8\"],[0.3333333333333333,\"#9c179e\"],[0.4444444444444444,\"#bd3786\"],[0.5555555555555556,\"#d8576b\"],[0.6666666666666666,\"#ed7953\"],[0.7777777777777778,\"#fb9f3a\"],[0.8888888888888888,\"#fdca26\"],[1.0,\"#f0f921\"]],\"type\":\"contour\"}],\"heatmapgl\":[{\"colorbar\":{\"outlinewidth\":0,\"ticks\":\"\"},\"colorscale\":[[0.0,\"#0d0887\"],[0.1111111111111111,\"#46039f\"],[0.2222222222222222,\"#7201a8\"],[0.3333333333333333,\"#9c179e\"],[0.4444444444444444,\"#bd3786\"],[0.5555555555555556,\"#d8576b\"],[0.6666666666666666,\"#ed7953\"],[0.7777777777777778,\"#fb9f3a\"],[0.8888888888888888,\"#fdca26\"],[1.0,\"#f0f921\"]],\"type\":\"heatmapgl\"}],\"heatmap\":[{\"colorbar\":{\"outlinewidth\":0,\"ticks\":\"\"},\"colorscale\":[[0.0,\"#0d0887\"],[0.1111111111111111,\"#46039f\"],[0.2222222222222222,\"#7201a8\"],[0.3333333333333333,\"#9c179e\"],[0.4444444444444444,\"#bd3786\"],[0.5555555555555556,\"#d8576b\"],[0.6666666666666666,\"#ed7953\"],[0.7777777777777778,\"#fb9f3a\"],[0.8888888888888888,\"#fdca26\"],[1.0,\"#f0f921\"]],\"type\":\"heatmap\"}],\"histogram2dcontour\":[{\"colorbar\":{\"outlinewidth\":0,\"ticks\":\"\"},\"colorscale\":[[0.0,\"#0d0887\"],[0.1111111111111111,\"#46039f\"],[0.2222222222222222,\"#7201a8\"],[0.3333333333333333,\"#9c179e\"],[0.4444444444444444,\"#bd3786\"],[0.5555555555555556,\"#d8576b\"],[0.6666666666666666,\"#ed7953\"],[0.7777777777777778,\"#fb9f3a\"],[0.8888888888888888,\"#fdca26\"],[1.0,\"#f0f921\"]],\"type\":\"histogram2dcontour\"}],\"histogram2d\":[{\"colorbar\":{\"outlinewidth\":0,\"ticks\":\"\"},\"colorscale\":[[0.0,\"#0d0887\"],[0.1111111111111111,\"#46039f\"],[0.2222222222222222,\"#7201a8\"],[0.3333333333333333,\"#9c179e\"],[0.4444444444444444,\"#bd3786\"],[0.5555555555555556,\"#d8576b\"],[0.6666666666666666,\"#ed7953\"],[0.7777777777777778,\"#fb9f3a\"],[0.8888888888888888,\"#fdca26\"],[1.0,\"#f0f921\"]],\"type\":\"histogram2d\"}],\"histogram\":[{\"marker\":{\"pattern\":{\"fillmode\":\"overlay\",\"size\":10,\"solidity\":0.2}},\"type\":\"histogram\"}],\"mesh3d\":[{\"colorbar\":{\"outlinewidth\":0,\"ticks\":\"\"},\"type\":\"mesh3d\"}],\"parcoords\":[{\"line\":{\"colorbar\":{\"outlinewidth\":0,\"ticks\":\"\"}},\"type\":\"parcoords\"}],\"pie\":[{\"automargin\":true,\"type\":\"pie\"}],\"scatter3d\":[{\"line\":{\"colorbar\":{\"outlinewidth\":0,\"ticks\":\"\"}},\"marker\":{\"colorbar\":{\"outlinewidth\":0,\"ticks\":\"\"}},\"type\":\"scatter3d\"}],\"scattercarpet\":[{\"marker\":{\"colorbar\":{\"outlinewidth\":0,\"ticks\":\"\"}},\"type\":\"scattercarpet\"}],\"scattergeo\":[{\"marker\":{\"colorbar\":{\"outlinewidth\":0,\"ticks\":\"\"}},\"type\":\"scattergeo\"}],\"scattergl\":[{\"marker\":{\"colorbar\":{\"outlinewidth\":0,\"ticks\":\"\"}},\"type\":\"scattergl\"}],\"scattermapbox\":[{\"marker\":{\"colorbar\":{\"outlinewidth\":0,\"ticks\":\"\"}},\"type\":\"scattermapbox\"}],\"scatterpolargl\":[{\"marker\":{\"colorbar\":{\"outlinewidth\":0,\"ticks\":\"\"}},\"type\":\"scatterpolargl\"}],\"scatterpolar\":[{\"marker\":{\"colorbar\":{\"outlinewidth\":0,\"ticks\":\"\"}},\"type\":\"scatterpolar\"}],\"scatter\":[{\"fillpattern\":{\"fillmode\":\"overlay\",\"size\":10,\"solidity\":0.2},\"type\":\"scatter\"}],\"scatterternary\":[{\"marker\":{\"colorbar\":{\"outlinewidth\":0,\"ticks\":\"\"}},\"type\":\"scatterternary\"}],\"surface\":[{\"colorbar\":{\"outlinewidth\":0,\"ticks\":\"\"},\"colorscale\":[[0.0,\"#0d0887\"],[0.1111111111111111,\"#46039f\"],[0.2222222222222222,\"#7201a8\"],[0.3333333333333333,\"#9c179e\"],[0.4444444444444444,\"#bd3786\"],[0.5555555555555556,\"#d8576b\"],[0.6666666666666666,\"#ed7953\"],[0.7777777777777778,\"#fb9f3a\"],[0.8888888888888888,\"#fdca26\"],[1.0,\"#f0f921\"]],\"type\":\"surface\"}],\"table\":[{\"cells\":{\"fill\":{\"color\":\"#EBF0F8\"},\"line\":{\"color\":\"white\"}},\"header\":{\"fill\":{\"color\":\"#C8D4E3\"},\"line\":{\"color\":\"white\"}},\"type\":\"table\"}]},\"layout\":{\"annotationdefaults\":{\"arrowcolor\":\"#2a3f5f\",\"arrowhead\":0,\"arrowwidth\":1},\"autotypenumbers\":\"strict\",\"coloraxis\":{\"colorbar\":{\"outlinewidth\":0,\"ticks\":\"\"}},\"colorscale\":{\"diverging\":[[0,\"#8e0152\"],[0.1,\"#c51b7d\"],[0.2,\"#de77ae\"],[0.3,\"#f1b6da\"],[0.4,\"#fde0ef\"],[0.5,\"#f7f7f7\"],[0.6,\"#e6f5d0\"],[0.7,\"#b8e186\"],[0.8,\"#7fbc41\"],[0.9,\"#4d9221\"],[1,\"#276419\"]],\"sequential\":[[0.0,\"#0d0887\"],[0.1111111111111111,\"#46039f\"],[0.2222222222222222,\"#7201a8\"],[0.3333333333333333,\"#9c179e\"],[0.4444444444444444,\"#bd3786\"],[0.5555555555555556,\"#d8576b\"],[0.6666666666666666,\"#ed7953\"],[0.7777777777777778,\"#fb9f3a\"],[0.8888888888888888,\"#fdca26\"],[1.0,\"#f0f921\"]],\"sequentialminus\":[[0.0,\"#0d0887\"],[0.1111111111111111,\"#46039f\"],[0.2222222222222222,\"#7201a8\"],[0.3333333333333333,\"#9c179e\"],[0.4444444444444444,\"#bd3786\"],[0.5555555555555556,\"#d8576b\"],[0.6666666666666666,\"#ed7953\"],[0.7777777777777778,\"#fb9f3a\"],[0.8888888888888888,\"#fdca26\"],[1.0,\"#f0f921\"]]},\"colorway\":[\"#636efa\",\"#EF553B\",\"#00cc96\",\"#ab63fa\",\"#FFA15A\",\"#19d3f3\",\"#FF6692\",\"#B6E880\",\"#FF97FF\",\"#FECB52\"],\"font\":{\"color\":\"#2a3f5f\"},\"geo\":{\"bgcolor\":\"white\",\"lakecolor\":\"white\",\"landcolor\":\"white\",\"showlakes\":true,\"showland\":true,\"subunitcolor\":\"#C8D4E3\"},\"hoverlabel\":{\"align\":\"left\"},\"hovermode\":\"closest\",\"mapbox\":{\"style\":\"light\"},\"paper_bgcolor\":\"white\",\"plot_bgcolor\":\"white\",\"polar\":{\"angularaxis\":{\"gridcolor\":\"#EBF0F8\",\"linecolor\":\"#EBF0F8\",\"ticks\":\"\"},\"bgcolor\":\"white\",\"radialaxis\":{\"gridcolor\":\"#EBF0F8\",\"linecolor\":\"#EBF0F8\",\"ticks\":\"\"}},\"scene\":{\"xaxis\":{\"backgroundcolor\":\"white\",\"gridcolor\":\"#DFE8F3\",\"gridwidth\":2,\"linecolor\":\"#EBF0F8\",\"showbackground\":true,\"ticks\":\"\",\"zerolinecolor\":\"#EBF0F8\"},\"yaxis\":{\"backgroundcolor\":\"white\",\"gridcolor\":\"#DFE8F3\",\"gridwidth\":2,\"linecolor\":\"#EBF0F8\",\"showbackground\":true,\"ticks\":\"\",\"zerolinecolor\":\"#EBF0F8\"},\"zaxis\":{\"backgroundcolor\":\"white\",\"gridcolor\":\"#DFE8F3\",\"gridwidth\":2,\"linecolor\":\"#EBF0F8\",\"showbackground\":true,\"ticks\":\"\",\"zerolinecolor\":\"#EBF0F8\"}},\"shapedefaults\":{\"line\":{\"color\":\"#2a3f5f\"}},\"ternary\":{\"aaxis\":{\"gridcolor\":\"#DFE8F3\",\"linecolor\":\"#A2B1C6\",\"ticks\":\"\"},\"baxis\":{\"gridcolor\":\"#DFE8F3\",\"linecolor\":\"#A2B1C6\",\"ticks\":\"\"},\"bgcolor\":\"white\",\"caxis\":{\"gridcolor\":\"#DFE8F3\",\"linecolor\":\"#A2B1C6\",\"ticks\":\"\"}},\"title\":{\"x\":0.05},\"xaxis\":{\"automargin\":true,\"gridcolor\":\"#EBF0F8\",\"linecolor\":\"#EBF0F8\",\"ticks\":\"\",\"title\":{\"standoff\":15},\"zerolinecolor\":\"#EBF0F8\",\"zerolinewidth\":2},\"yaxis\":{\"automargin\":true,\"gridcolor\":\"#EBF0F8\",\"linecolor\":\"#EBF0F8\",\"ticks\":\"\",\"title\":{\"standoff\":15},\"zerolinecolor\":\"#EBF0F8\",\"zerolinewidth\":2}}},\"title\":{\"text\":\"Trading Volume Over Time\"},\"xaxis\":{\"title\":{\"text\":\"Date\"}},\"yaxis\":{\"title\":{\"text\":\"Volume\"}}},                        {\"responsive\": true}                    ).then(function(){\n",
       "                            \n",
       "var gd = document.getElementById('5504614a-0cfa-4178-a9a1-bf7b306a715c');\n",
       "var x = new MutationObserver(function (mutations, observer) {{\n",
       "        var display = window.getComputedStyle(gd).display;\n",
       "        if (!display || display === 'none') {{\n",
       "            console.log([gd, 'removed!']);\n",
       "            Plotly.purge(gd);\n",
       "            observer.disconnect();\n",
       "        }}\n",
       "}});\n",
       "\n",
       "// Listen for the removal of the full notebook cells\n",
       "var notebookContainer = gd.closest('#notebook-container');\n",
       "if (notebookContainer) {{\n",
       "    x.observe(notebookContainer, {childList: true});\n",
       "}}\n",
       "\n",
       "// Listen for the clearing of the current output cell\n",
       "var outputEl = gd.closest('.output');\n",
       "if (outputEl) {{\n",
       "    x.observe(outputEl, {childList: true});\n",
       "}}\n",
       "\n",
       "                        })                };                });            </script>        </div>"
      ]
     },
     "metadata": {},
     "output_type": "display_data"
    }
   ],
   "source": [
    "# Visulization 3 - Line chart for trading volume\n",
    "fig = go.Figure()\n",
    "\n",
    "fig.add_trace(go.Scatter(\n",
    "    x=merged_data['Date'],\n",
    "    y=merged_data['Volume'],\n",
    "    mode='lines+markers',\n",
    "    name='Volume',\n",
    "    line=dict(color='orange')\n",
    "))\n",
    "\n",
    "fig.update_layout(\n",
    "    title=\"Trading Volume Over Time\",\n",
    "    xaxis_title=\"Date\",\n",
    "    yaxis_title=\"Volume\",\n",
    "    template=\"plotly_white\"\n",
    ")\n",
    "\n",
    "# Display the figure\n",
    "fig.show()\n"
   ]
  },
  {
   "cell_type": "markdown",
   "id": "e46222db-44be-41cd-ae60-f2eb47dcc138",
   "metadata": {},
   "source": [
    "#### **Visualization 4: Summary Statistics Bar Chart**\n",
    "\n",
    "**What It Does:**  \n",
    "This bar chart presents the summary statistics (mean, standard deviation, min, max, etc.) for each metric—sentiment scores (Positive, Negative, Neutral, Compound), stock price (Close), and trading volume (Volume). Each statistic is grouped by the metric, allowing a comparative view across different data characteristics.\n",
    "\n",
    "**Context in Our Project:**  \n",
    "Understanding the statistical properties of sentiment and stock data helps in identifying patterns or outliers. For example, the standard deviation of sentiment scores can hint at the consistency of sentiment in financial news, while the maximum and minimum values of stock prices highlight market volatility. These insights aid in refining our analysis and providing a robust understanding of the data dynamics.\n"
   ]
  },
  {
   "cell_type": "code",
   "execution_count": 243,
   "id": "e4c5080b-fcad-4fbd-8b7f-76a846044053",
   "metadata": {},
   "outputs": [
    {
     "data": {
      "application/vnd.plotly.v1+json": {
       "config": {
        "plotlyServerURL": "https://plot.ly"
       },
       "data": [
        {
         "name": "Positive",
         "type": "bar",
         "x": [
          "count",
          "mean",
          "std",
          "min",
          "25%",
          "50%",
          "75%",
          "max"
         ],
         "y": [
          4,
          0.138625,
          0.1763884798770411,
          0,
          0,
          0.09325,
          0.231875,
          0.368
         ]
        },
        {
         "name": "Negative",
         "type": "bar",
         "x": [
          "count",
          "mean",
          "std",
          "min",
          "25%",
          "50%",
          "75%",
          "max"
         ],
         "y": [
          4,
          0.079375,
          0.0645282560847055,
          0,
          0.0495,
          0.08125,
          0.111125,
          0.155
         ]
        },
        {
         "name": "Neutral",
         "type": "bar",
         "x": [
          "count",
          "mean",
          "std",
          "min",
          "25%",
          "50%",
          "75%",
          "max"
         ],
         "y": [
          4,
          0.7818749999999999,
          0.18478743418677943,
          0.566,
          0.678875,
          0.78075,
          0.88375,
          1
         ]
        },
        {
         "name": "Compound",
         "type": "bar",
         "x": [
          "count",
          "mean",
          "std",
          "min",
          "25%",
          "50%",
          "75%",
          "max"
         ],
         "y": [
          4,
          0.1760875,
          0.4432321407851646,
          -0.296,
          -0.074,
          0.124875,
          0.3749625,
          0.7506
         ]
        },
        {
         "name": "Close",
         "type": "bar",
         "x": [
          "count",
          "mean",
          "std",
          "min",
          "25%",
          "50%",
          "75%",
          "max"
         ],
         "y": [
          4,
          241.3125,
          4.8612644102811995,
          237.93,
          238.32,
          239.45,
          242.4425,
          248.42
         ]
        },
        {
         "name": "Volume",
         "type": "bar",
         "x": [
          "count",
          "mean",
          "std",
          "min",
          "25%",
          "50%",
          "75%",
          "max"
         ],
         "y": [
          4,
          103383175,
          14688965.04327313,
          85166600,
          98263625,
          103641750,
          108761300,
          121082600
         ]
        }
       ],
       "layout": {
        "autosize": true,
        "barmode": "group",
        "template": {
         "data": {
          "bar": [
           {
            "error_x": {
             "color": "#2a3f5f"
            },
            "error_y": {
             "color": "#2a3f5f"
            },
            "marker": {
             "line": {
              "color": "white",
              "width": 0.5
             },
             "pattern": {
              "fillmode": "overlay",
              "size": 10,
              "solidity": 0.2
             }
            },
            "type": "bar"
           }
          ],
          "barpolar": [
           {
            "marker": {
             "line": {
              "color": "white",
              "width": 0.5
             },
             "pattern": {
              "fillmode": "overlay",
              "size": 10,
              "solidity": 0.2
             }
            },
            "type": "barpolar"
           }
          ],
          "carpet": [
           {
            "aaxis": {
             "endlinecolor": "#2a3f5f",
             "gridcolor": "#C8D4E3",
             "linecolor": "#C8D4E3",
             "minorgridcolor": "#C8D4E3",
             "startlinecolor": "#2a3f5f"
            },
            "baxis": {
             "endlinecolor": "#2a3f5f",
             "gridcolor": "#C8D4E3",
             "linecolor": "#C8D4E3",
             "minorgridcolor": "#C8D4E3",
             "startlinecolor": "#2a3f5f"
            },
            "type": "carpet"
           }
          ],
          "choropleth": [
           {
            "colorbar": {
             "outlinewidth": 0,
             "ticks": ""
            },
            "type": "choropleth"
           }
          ],
          "contour": [
           {
            "colorbar": {
             "outlinewidth": 0,
             "ticks": ""
            },
            "colorscale": [
             [
              0,
              "#0d0887"
             ],
             [
              0.1111111111111111,
              "#46039f"
             ],
             [
              0.2222222222222222,
              "#7201a8"
             ],
             [
              0.3333333333333333,
              "#9c179e"
             ],
             [
              0.4444444444444444,
              "#bd3786"
             ],
             [
              0.5555555555555556,
              "#d8576b"
             ],
             [
              0.6666666666666666,
              "#ed7953"
             ],
             [
              0.7777777777777778,
              "#fb9f3a"
             ],
             [
              0.8888888888888888,
              "#fdca26"
             ],
             [
              1,
              "#f0f921"
             ]
            ],
            "type": "contour"
           }
          ],
          "contourcarpet": [
           {
            "colorbar": {
             "outlinewidth": 0,
             "ticks": ""
            },
            "type": "contourcarpet"
           }
          ],
          "heatmap": [
           {
            "colorbar": {
             "outlinewidth": 0,
             "ticks": ""
            },
            "colorscale": [
             [
              0,
              "#0d0887"
             ],
             [
              0.1111111111111111,
              "#46039f"
             ],
             [
              0.2222222222222222,
              "#7201a8"
             ],
             [
              0.3333333333333333,
              "#9c179e"
             ],
             [
              0.4444444444444444,
              "#bd3786"
             ],
             [
              0.5555555555555556,
              "#d8576b"
             ],
             [
              0.6666666666666666,
              "#ed7953"
             ],
             [
              0.7777777777777778,
              "#fb9f3a"
             ],
             [
              0.8888888888888888,
              "#fdca26"
             ],
             [
              1,
              "#f0f921"
             ]
            ],
            "type": "heatmap"
           }
          ],
          "heatmapgl": [
           {
            "colorbar": {
             "outlinewidth": 0,
             "ticks": ""
            },
            "colorscale": [
             [
              0,
              "#0d0887"
             ],
             [
              0.1111111111111111,
              "#46039f"
             ],
             [
              0.2222222222222222,
              "#7201a8"
             ],
             [
              0.3333333333333333,
              "#9c179e"
             ],
             [
              0.4444444444444444,
              "#bd3786"
             ],
             [
              0.5555555555555556,
              "#d8576b"
             ],
             [
              0.6666666666666666,
              "#ed7953"
             ],
             [
              0.7777777777777778,
              "#fb9f3a"
             ],
             [
              0.8888888888888888,
              "#fdca26"
             ],
             [
              1,
              "#f0f921"
             ]
            ],
            "type": "heatmapgl"
           }
          ],
          "histogram": [
           {
            "marker": {
             "pattern": {
              "fillmode": "overlay",
              "size": 10,
              "solidity": 0.2
             }
            },
            "type": "histogram"
           }
          ],
          "histogram2d": [
           {
            "colorbar": {
             "outlinewidth": 0,
             "ticks": ""
            },
            "colorscale": [
             [
              0,
              "#0d0887"
             ],
             [
              0.1111111111111111,
              "#46039f"
             ],
             [
              0.2222222222222222,
              "#7201a8"
             ],
             [
              0.3333333333333333,
              "#9c179e"
             ],
             [
              0.4444444444444444,
              "#bd3786"
             ],
             [
              0.5555555555555556,
              "#d8576b"
             ],
             [
              0.6666666666666666,
              "#ed7953"
             ],
             [
              0.7777777777777778,
              "#fb9f3a"
             ],
             [
              0.8888888888888888,
              "#fdca26"
             ],
             [
              1,
              "#f0f921"
             ]
            ],
            "type": "histogram2d"
           }
          ],
          "histogram2dcontour": [
           {
            "colorbar": {
             "outlinewidth": 0,
             "ticks": ""
            },
            "colorscale": [
             [
              0,
              "#0d0887"
             ],
             [
              0.1111111111111111,
              "#46039f"
             ],
             [
              0.2222222222222222,
              "#7201a8"
             ],
             [
              0.3333333333333333,
              "#9c179e"
             ],
             [
              0.4444444444444444,
              "#bd3786"
             ],
             [
              0.5555555555555556,
              "#d8576b"
             ],
             [
              0.6666666666666666,
              "#ed7953"
             ],
             [
              0.7777777777777778,
              "#fb9f3a"
             ],
             [
              0.8888888888888888,
              "#fdca26"
             ],
             [
              1,
              "#f0f921"
             ]
            ],
            "type": "histogram2dcontour"
           }
          ],
          "mesh3d": [
           {
            "colorbar": {
             "outlinewidth": 0,
             "ticks": ""
            },
            "type": "mesh3d"
           }
          ],
          "parcoords": [
           {
            "line": {
             "colorbar": {
              "outlinewidth": 0,
              "ticks": ""
             }
            },
            "type": "parcoords"
           }
          ],
          "pie": [
           {
            "automargin": true,
            "type": "pie"
           }
          ],
          "scatter": [
           {
            "fillpattern": {
             "fillmode": "overlay",
             "size": 10,
             "solidity": 0.2
            },
            "type": "scatter"
           }
          ],
          "scatter3d": [
           {
            "line": {
             "colorbar": {
              "outlinewidth": 0,
              "ticks": ""
             }
            },
            "marker": {
             "colorbar": {
              "outlinewidth": 0,
              "ticks": ""
             }
            },
            "type": "scatter3d"
           }
          ],
          "scattercarpet": [
           {
            "marker": {
             "colorbar": {
              "outlinewidth": 0,
              "ticks": ""
             }
            },
            "type": "scattercarpet"
           }
          ],
          "scattergeo": [
           {
            "marker": {
             "colorbar": {
              "outlinewidth": 0,
              "ticks": ""
             }
            },
            "type": "scattergeo"
           }
          ],
          "scattergl": [
           {
            "marker": {
             "colorbar": {
              "outlinewidth": 0,
              "ticks": ""
             }
            },
            "type": "scattergl"
           }
          ],
          "scattermapbox": [
           {
            "marker": {
             "colorbar": {
              "outlinewidth": 0,
              "ticks": ""
             }
            },
            "type": "scattermapbox"
           }
          ],
          "scatterpolar": [
           {
            "marker": {
             "colorbar": {
              "outlinewidth": 0,
              "ticks": ""
             }
            },
            "type": "scatterpolar"
           }
          ],
          "scatterpolargl": [
           {
            "marker": {
             "colorbar": {
              "outlinewidth": 0,
              "ticks": ""
             }
            },
            "type": "scatterpolargl"
           }
          ],
          "scatterternary": [
           {
            "marker": {
             "colorbar": {
              "outlinewidth": 0,
              "ticks": ""
             }
            },
            "type": "scatterternary"
           }
          ],
          "surface": [
           {
            "colorbar": {
             "outlinewidth": 0,
             "ticks": ""
            },
            "colorscale": [
             [
              0,
              "#0d0887"
             ],
             [
              0.1111111111111111,
              "#46039f"
             ],
             [
              0.2222222222222222,
              "#7201a8"
             ],
             [
              0.3333333333333333,
              "#9c179e"
             ],
             [
              0.4444444444444444,
              "#bd3786"
             ],
             [
              0.5555555555555556,
              "#d8576b"
             ],
             [
              0.6666666666666666,
              "#ed7953"
             ],
             [
              0.7777777777777778,
              "#fb9f3a"
             ],
             [
              0.8888888888888888,
              "#fdca26"
             ],
             [
              1,
              "#f0f921"
             ]
            ],
            "type": "surface"
           }
          ],
          "table": [
           {
            "cells": {
             "fill": {
              "color": "#EBF0F8"
             },
             "line": {
              "color": "white"
             }
            },
            "header": {
             "fill": {
              "color": "#C8D4E3"
             },
             "line": {
              "color": "white"
             }
            },
            "type": "table"
           }
          ]
         },
         "layout": {
          "annotationdefaults": {
           "arrowcolor": "#2a3f5f",
           "arrowhead": 0,
           "arrowwidth": 1
          },
          "autotypenumbers": "strict",
          "coloraxis": {
           "colorbar": {
            "outlinewidth": 0,
            "ticks": ""
           }
          },
          "colorscale": {
           "diverging": [
            [
             0,
             "#8e0152"
            ],
            [
             0.1,
             "#c51b7d"
            ],
            [
             0.2,
             "#de77ae"
            ],
            [
             0.3,
             "#f1b6da"
            ],
            [
             0.4,
             "#fde0ef"
            ],
            [
             0.5,
             "#f7f7f7"
            ],
            [
             0.6,
             "#e6f5d0"
            ],
            [
             0.7,
             "#b8e186"
            ],
            [
             0.8,
             "#7fbc41"
            ],
            [
             0.9,
             "#4d9221"
            ],
            [
             1,
             "#276419"
            ]
           ],
           "sequential": [
            [
             0,
             "#0d0887"
            ],
            [
             0.1111111111111111,
             "#46039f"
            ],
            [
             0.2222222222222222,
             "#7201a8"
            ],
            [
             0.3333333333333333,
             "#9c179e"
            ],
            [
             0.4444444444444444,
             "#bd3786"
            ],
            [
             0.5555555555555556,
             "#d8576b"
            ],
            [
             0.6666666666666666,
             "#ed7953"
            ],
            [
             0.7777777777777778,
             "#fb9f3a"
            ],
            [
             0.8888888888888888,
             "#fdca26"
            ],
            [
             1,
             "#f0f921"
            ]
           ],
           "sequentialminus": [
            [
             0,
             "#0d0887"
            ],
            [
             0.1111111111111111,
             "#46039f"
            ],
            [
             0.2222222222222222,
             "#7201a8"
            ],
            [
             0.3333333333333333,
             "#9c179e"
            ],
            [
             0.4444444444444444,
             "#bd3786"
            ],
            [
             0.5555555555555556,
             "#d8576b"
            ],
            [
             0.6666666666666666,
             "#ed7953"
            ],
            [
             0.7777777777777778,
             "#fb9f3a"
            ],
            [
             0.8888888888888888,
             "#fdca26"
            ],
            [
             1,
             "#f0f921"
            ]
           ]
          },
          "colorway": [
           "#636efa",
           "#EF553B",
           "#00cc96",
           "#ab63fa",
           "#FFA15A",
           "#19d3f3",
           "#FF6692",
           "#B6E880",
           "#FF97FF",
           "#FECB52"
          ],
          "font": {
           "color": "#2a3f5f"
          },
          "geo": {
           "bgcolor": "white",
           "lakecolor": "white",
           "landcolor": "white",
           "showlakes": true,
           "showland": true,
           "subunitcolor": "#C8D4E3"
          },
          "hoverlabel": {
           "align": "left"
          },
          "hovermode": "closest",
          "mapbox": {
           "style": "light"
          },
          "paper_bgcolor": "white",
          "plot_bgcolor": "white",
          "polar": {
           "angularaxis": {
            "gridcolor": "#EBF0F8",
            "linecolor": "#EBF0F8",
            "ticks": ""
           },
           "bgcolor": "white",
           "radialaxis": {
            "gridcolor": "#EBF0F8",
            "linecolor": "#EBF0F8",
            "ticks": ""
           }
          },
          "scene": {
           "xaxis": {
            "backgroundcolor": "white",
            "gridcolor": "#DFE8F3",
            "gridwidth": 2,
            "linecolor": "#EBF0F8",
            "showbackground": true,
            "ticks": "",
            "zerolinecolor": "#EBF0F8"
           },
           "yaxis": {
            "backgroundcolor": "white",
            "gridcolor": "#DFE8F3",
            "gridwidth": 2,
            "linecolor": "#EBF0F8",
            "showbackground": true,
            "ticks": "",
            "zerolinecolor": "#EBF0F8"
           },
           "zaxis": {
            "backgroundcolor": "white",
            "gridcolor": "#DFE8F3",
            "gridwidth": 2,
            "linecolor": "#EBF0F8",
            "showbackground": true,
            "ticks": "",
            "zerolinecolor": "#EBF0F8"
           }
          },
          "shapedefaults": {
           "line": {
            "color": "#2a3f5f"
           }
          },
          "ternary": {
           "aaxis": {
            "gridcolor": "#DFE8F3",
            "linecolor": "#A2B1C6",
            "ticks": ""
           },
           "baxis": {
            "gridcolor": "#DFE8F3",
            "linecolor": "#A2B1C6",
            "ticks": ""
           },
           "bgcolor": "white",
           "caxis": {
            "gridcolor": "#DFE8F3",
            "linecolor": "#A2B1C6",
            "ticks": ""
           }
          },
          "title": {
           "x": 0.05
          },
          "xaxis": {
           "automargin": true,
           "gridcolor": "#EBF0F8",
           "linecolor": "#EBF0F8",
           "ticks": "",
           "title": {
            "standoff": 15
           },
           "zerolinecolor": "#EBF0F8",
           "zerolinewidth": 2
          },
          "yaxis": {
           "automargin": true,
           "gridcolor": "#EBF0F8",
           "linecolor": "#EBF0F8",
           "ticks": "",
           "title": {
            "standoff": 15
           },
           "zerolinecolor": "#EBF0F8",
           "zerolinewidth": 2
          }
         }
        },
        "title": {
         "text": "Summary Statistics of Sentiment and Stock Metrics"
        },
        "xaxis": {
         "autorange": true,
         "range": [
          -0.5,
          7.5
         ],
         "title": {
          "text": "Statistic"
         },
         "type": "category"
        },
        "yaxis": {
         "autorange": true,
         "range": [
          -6726811.423555556,
          127809411.12755555
         ],
         "title": {
          "text": "Value"
         },
         "type": "linear"
        }
       }
      },
      "image/png": "[encoded data removed]",
      "text/html": [
       "<div>                            <div id=\"b3108bab-5753-4881-af04-7a82ae9507a7\" class=\"plotly-graph-div\" style=\"height:525px; width:100%;\"></div>            <script type=\"text/javascript\">                require([\"plotly\"], function(Plotly) {                    window.PLOTLYENV=window.PLOTLYENV || {};                                    if (document.getElementById(\"b3108bab-5753-4881-af04-7a82ae9507a7\")) {                    Plotly.newPlot(                        \"b3108bab-5753-4881-af04-7a82ae9507a7\",                        [{\"name\":\"Positive\",\"x\":[\"count\",\"mean\",\"std\",\"min\",\"25%\",\"50%\",\"75%\",\"max\"],\"y\":[4.0,0.138625,0.1763884798770411,0.0,0.0,0.09325,0.231875,0.368],\"type\":\"bar\"},{\"name\":\"Negative\",\"x\":[\"count\",\"mean\",\"std\",\"min\",\"25%\",\"50%\",\"75%\",\"max\"],\"y\":[4.0,0.079375,0.0645282560847055,0.0,0.0495,0.08125,0.111125,0.155],\"type\":\"bar\"},{\"name\":\"Neutral\",\"x\":[\"count\",\"mean\",\"std\",\"min\",\"25%\",\"50%\",\"75%\",\"max\"],\"y\":[4.0,0.7818749999999999,0.18478743418677943,0.566,0.678875,0.78075,0.88375,1.0],\"type\":\"bar\"},{\"name\":\"Compound\",\"x\":[\"count\",\"mean\",\"std\",\"min\",\"25%\",\"50%\",\"75%\",\"max\"],\"y\":[4.0,0.1760875,0.4432321407851646,-0.296,-0.074,0.124875,0.3749625,0.7506],\"type\":\"bar\"},{\"name\":\"Close\",\"x\":[\"count\",\"mean\",\"std\",\"min\",\"25%\",\"50%\",\"75%\",\"max\"],\"y\":[4.0,241.3125,4.8612644102811995,237.93,238.32,239.45,242.4425,248.42],\"type\":\"bar\"},{\"name\":\"Volume\",\"x\":[\"count\",\"mean\",\"std\",\"min\",\"25%\",\"50%\",\"75%\",\"max\"],\"y\":[4.0,103383175.0,14688965.04327313,85166600.0,98263625.0,103641750.0,108761300.0,121082600.0],\"type\":\"bar\"}],                        {\"template\":{\"data\":{\"barpolar\":[{\"marker\":{\"line\":{\"color\":\"white\",\"width\":0.5},\"pattern\":{\"fillmode\":\"overlay\",\"size\":10,\"solidity\":0.2}},\"type\":\"barpolar\"}],\"bar\":[{\"error_x\":{\"color\":\"#2a3f5f\"},\"error_y\":{\"color\":\"#2a3f5f\"},\"marker\":{\"line\":{\"color\":\"white\",\"width\":0.5},\"pattern\":{\"fillmode\":\"overlay\",\"size\":10,\"solidity\":0.2}},\"type\":\"bar\"}],\"carpet\":[{\"aaxis\":{\"endlinecolor\":\"#2a3f5f\",\"gridcolor\":\"#C8D4E3\",\"linecolor\":\"#C8D4E3\",\"minorgridcolor\":\"#C8D4E3\",\"startlinecolor\":\"#2a3f5f\"},\"baxis\":{\"endlinecolor\":\"#2a3f5f\",\"gridcolor\":\"#C8D4E3\",\"linecolor\":\"#C8D4E3\",\"minorgridcolor\":\"#C8D4E3\",\"startlinecolor\":\"#2a3f5f\"},\"type\":\"carpet\"}],\"choropleth\":[{\"colorbar\":{\"outlinewidth\":0,\"ticks\":\"\"},\"type\":\"choropleth\"}],\"contourcarpet\":[{\"colorbar\":{\"outlinewidth\":0,\"ticks\":\"\"},\"type\":\"contourcarpet\"}],\"contour\":[{\"colorbar\":{\"outlinewidth\":0,\"ticks\":\"\"},\"colorscale\":[[0.0,\"#0d0887\"],[0.1111111111111111,\"#46039f\"],[0.2222222222222222,\"#7201a8\"],[0.3333333333333333,\"#9c179e\"],[0.4444444444444444,\"#bd3786\"],[0.5555555555555556,\"#d8576b\"],[0.6666666666666666,\"#ed7953\"],[0.7777777777777778,\"#fb9f3a\"],[0.8888888888888888,\"#fdca26\"],[1.0,\"#f0f921\"]],\"type\":\"contour\"}],\"heatmapgl\":[{\"colorbar\":{\"outlinewidth\":0,\"ticks\":\"\"},\"colorscale\":[[0.0,\"#0d0887\"],[0.1111111111111111,\"#46039f\"],[0.2222222222222222,\"#7201a8\"],[0.3333333333333333,\"#9c179e\"],[0.4444444444444444,\"#bd3786\"],[0.5555555555555556,\"#d8576b\"],[0.6666666666666666,\"#ed7953\"],[0.7777777777777778,\"#fb9f3a\"],[0.8888888888888888,\"#fdca26\"],[1.0,\"#f0f921\"]],\"type\":\"heatmapgl\"}],\"heatmap\":[{\"colorbar\":{\"outlinewidth\":0,\"ticks\":\"\"},\"colorscale\":[[0.0,\"#0d0887\"],[0.1111111111111111,\"#46039f\"],[0.2222222222222222,\"#7201a8\"],[0.3333333333333333,\"#9c179e\"],[0.4444444444444444,\"#bd3786\"],[0.5555555555555556,\"#d8576b\"],[0.6666666666666666,\"#ed7953\"],[0.7777777777777778,\"#fb9f3a\"],[0.8888888888888888,\"#fdca26\"],[1.0,\"#f0f921\"]],\"type\":\"heatmap\"}],\"histogram2dcontour\":[{\"colorbar\":{\"outlinewidth\":0,\"ticks\":\"\"},\"colorscale\":[[0.0,\"#0d0887\"],[0.1111111111111111,\"#46039f\"],[0.2222222222222222,\"#7201a8\"],[0.3333333333333333,\"#9c179e\"],[0.4444444444444444,\"#bd3786\"],[0.5555555555555556,\"#d8576b\"],[0.6666666666666666,\"#ed7953\"],[0.7777777777777778,\"#fb9f3a\"],[0.8888888888888888,\"#fdca26\"],[1.0,\"#f0f921\"]],\"type\":\"histogram2dcontour\"}],\"histogram2d\":[{\"colorbar\":{\"outlinewidth\":0,\"ticks\":\"\"},\"colorscale\":[[0.0,\"#0d0887\"],[0.1111111111111111,\"#46039f\"],[0.2222222222222222,\"#7201a8\"],[0.3333333333333333,\"#9c179e\"],[0.4444444444444444,\"#bd3786\"],[0.5555555555555556,\"#d8576b\"],[0.6666666666666666,\"#ed7953\"],[0.7777777777777778,\"#fb9f3a\"],[0.8888888888888888,\"#fdca26\"],[1.0,\"#f0f921\"]],\"type\":\"histogram2d\"}],\"histogram\":[{\"marker\":{\"pattern\":{\"fillmode\":\"overlay\",\"size\":10,\"solidity\":0.2}},\"type\":\"histogram\"}],\"mesh3d\":[{\"colorbar\":{\"outlinewidth\":0,\"ticks\":\"\"},\"type\":\"mesh3d\"}],\"parcoords\":[{\"line\":{\"colorbar\":{\"outlinewidth\":0,\"ticks\":\"\"}},\"type\":\"parcoords\"}],\"pie\":[{\"automargin\":true,\"type\":\"pie\"}],\"scatter3d\":[{\"line\":{\"colorbar\":{\"outlinewidth\":0,\"ticks\":\"\"}},\"marker\":{\"colorbar\":{\"outlinewidth\":0,\"ticks\":\"\"}},\"type\":\"scatter3d\"}],\"scattercarpet\":[{\"marker\":{\"colorbar\":{\"outlinewidth\":0,\"ticks\":\"\"}},\"type\":\"scattercarpet\"}],\"scattergeo\":[{\"marker\":{\"colorbar\":{\"outlinewidth\":0,\"ticks\":\"\"}},\"type\":\"scattergeo\"}],\"scattergl\":[{\"marker\":{\"colorbar\":{\"outlinewidth\":0,\"ticks\":\"\"}},\"type\":\"scattergl\"}],\"scattermapbox\":[{\"marker\":{\"colorbar\":{\"outlinewidth\":0,\"ticks\":\"\"}},\"type\":\"scattermapbox\"}],\"scatterpolargl\":[{\"marker\":{\"colorbar\":{\"outlinewidth\":0,\"ticks\":\"\"}},\"type\":\"scatterpolargl\"}],\"scatterpolar\":[{\"marker\":{\"colorbar\":{\"outlinewidth\":0,\"ticks\":\"\"}},\"type\":\"scatterpolar\"}],\"scatter\":[{\"fillpattern\":{\"fillmode\":\"overlay\",\"size\":10,\"solidity\":0.2},\"type\":\"scatter\"}],\"scatterternary\":[{\"marker\":{\"colorbar\":{\"outlinewidth\":0,\"ticks\":\"\"}},\"type\":\"scatterternary\"}],\"surface\":[{\"colorbar\":{\"outlinewidth\":0,\"ticks\":\"\"},\"colorscale\":[[0.0,\"#0d0887\"],[0.1111111111111111,\"#46039f\"],[0.2222222222222222,\"#7201a8\"],[0.3333333333333333,\"#9c179e\"],[0.4444444444444444,\"#bd3786\"],[0.5555555555555556,\"#d8576b\"],[0.6666666666666666,\"#ed7953\"],[0.7777777777777778,\"#fb9f3a\"],[0.8888888888888888,\"#fdca26\"],[1.0,\"#f0f921\"]],\"type\":\"surface\"}],\"table\":[{\"cells\":{\"fill\":{\"color\":\"#EBF0F8\"},\"line\":{\"color\":\"white\"}},\"header\":{\"fill\":{\"color\":\"#C8D4E3\"},\"line\":{\"color\":\"white\"}},\"type\":\"table\"}]},\"layout\":{\"annotationdefaults\":{\"arrowcolor\":\"#2a3f5f\",\"arrowhead\":0,\"arrowwidth\":1},\"autotypenumbers\":\"strict\",\"coloraxis\":{\"colorbar\":{\"outlinewidth\":0,\"ticks\":\"\"}},\"colorscale\":{\"diverging\":[[0,\"#8e0152\"],[0.1,\"#c51b7d\"],[0.2,\"#de77ae\"],[0.3,\"#f1b6da\"],[0.4,\"#fde0ef\"],[0.5,\"#f7f7f7\"],[0.6,\"#e6f5d0\"],[0.7,\"#b8e186\"],[0.8,\"#7fbc41\"],[0.9,\"#4d9221\"],[1,\"#276419\"]],\"sequential\":[[0.0,\"#0d0887\"],[0.1111111111111111,\"#46039f\"],[0.2222222222222222,\"#7201a8\"],[0.3333333333333333,\"#9c179e\"],[0.4444444444444444,\"#bd3786\"],[0.5555555555555556,\"#d8576b\"],[0.6666666666666666,\"#ed7953\"],[0.7777777777777778,\"#fb9f3a\"],[0.8888888888888888,\"#fdca26\"],[1.0,\"#f0f921\"]],\"sequentialminus\":[[0.0,\"#0d0887\"],[0.1111111111111111,\"#46039f\"],[0.2222222222222222,\"#7201a8\"],[0.3333333333333333,\"#9c179e\"],[0.4444444444444444,\"#bd3786\"],[0.5555555555555556,\"#d8576b\"],[0.6666666666666666,\"#ed7953\"],[0.7777777777777778,\"#fb9f3a\"],[0.8888888888888888,\"#fdca26\"],[1.0,\"#f0f921\"]]},\"colorway\":[\"#636efa\",\"#EF553B\",\"#00cc96\",\"#ab63fa\",\"#FFA15A\",\"#19d3f3\",\"#FF6692\",\"#B6E880\",\"#FF97FF\",\"#FECB52\"],\"font\":{\"color\":\"#2a3f5f\"},\"geo\":{\"bgcolor\":\"white\",\"lakecolor\":\"white\",\"landcolor\":\"white\",\"showlakes\":true,\"showland\":true,\"subunitcolor\":\"#C8D4E3\"},\"hoverlabel\":{\"align\":\"left\"},\"hovermode\":\"closest\",\"mapbox\":{\"style\":\"light\"},\"paper_bgcolor\":\"white\",\"plot_bgcolor\":\"white\",\"polar\":{\"angularaxis\":{\"gridcolor\":\"#EBF0F8\",\"linecolor\":\"#EBF0F8\",\"ticks\":\"\"},\"bgcolor\":\"white\",\"radialaxis\":{\"gridcolor\":\"#EBF0F8\",\"linecolor\":\"#EBF0F8\",\"ticks\":\"\"}},\"scene\":{\"xaxis\":{\"backgroundcolor\":\"white\",\"gridcolor\":\"#DFE8F3\",\"gridwidth\":2,\"linecolor\":\"#EBF0F8\",\"showbackground\":true,\"ticks\":\"\",\"zerolinecolor\":\"#EBF0F8\"},\"yaxis\":{\"backgroundcolor\":\"white\",\"gridcolor\":\"#DFE8F3\",\"gridwidth\":2,\"linecolor\":\"#EBF0F8\",\"showbackground\":true,\"ticks\":\"\",\"zerolinecolor\":\"#EBF0F8\"},\"zaxis\":{\"backgroundcolor\":\"white\",\"gridcolor\":\"#DFE8F3\",\"gridwidth\":2,\"linecolor\":\"#EBF0F8\",\"showbackground\":true,\"ticks\":\"\",\"zerolinecolor\":\"#EBF0F8\"}},\"shapedefaults\":{\"line\":{\"color\":\"#2a3f5f\"}},\"ternary\":{\"aaxis\":{\"gridcolor\":\"#DFE8F3\",\"linecolor\":\"#A2B1C6\",\"ticks\":\"\"},\"baxis\":{\"gridcolor\":\"#DFE8F3\",\"linecolor\":\"#A2B1C6\",\"ticks\":\"\"},\"bgcolor\":\"white\",\"caxis\":{\"gridcolor\":\"#DFE8F3\",\"linecolor\":\"#A2B1C6\",\"ticks\":\"\"}},\"title\":{\"x\":0.05},\"xaxis\":{\"automargin\":true,\"gridcolor\":\"#EBF0F8\",\"linecolor\":\"#EBF0F8\",\"ticks\":\"\",\"title\":{\"standoff\":15},\"zerolinecolor\":\"#EBF0F8\",\"zerolinewidth\":2},\"yaxis\":{\"automargin\":true,\"gridcolor\":\"#EBF0F8\",\"linecolor\":\"#EBF0F8\",\"ticks\":\"\",\"title\":{\"standoff\":15},\"zerolinecolor\":\"#EBF0F8\",\"zerolinewidth\":2}}},\"title\":{\"text\":\"Summary Statistics of Sentiment and Stock Metrics\"},\"xaxis\":{\"title\":{\"text\":\"Statistic\"}},\"yaxis\":{\"title\":{\"text\":\"Value\"}},\"barmode\":\"group\"},                        {\"responsive\": true}                    ).then(function(){\n",
       "                            \n",
       "var gd = document.getElementById('b3108bab-5753-4881-af04-7a82ae9507a7');\n",
       "var x = new MutationObserver(function (mutations, observer) {{\n",
       "        var display = window.getComputedStyle(gd).display;\n",
       "        if (!display || display === 'none') {{\n",
       "            console.log([gd, 'removed!']);\n",
       "            Plotly.purge(gd);\n",
       "            observer.disconnect();\n",
       "        }}\n",
       "}});\n",
       "\n",
       "// Listen for the removal of the full notebook cells\n",
       "var notebookContainer = gd.closest('#notebook-container');\n",
       "if (notebookContainer) {{\n",
       "    x.observe(notebookContainer, {childList: true});\n",
       "}}\n",
       "\n",
       "// Listen for the clearing of the current output cell\n",
       "var outputEl = gd.closest('.output');\n",
       "if (outputEl) {{\n",
       "    x.observe(outputEl, {childList: true});\n",
       "}}\n",
       "\n",
       "                        })                };                });            </script>        </div>"
      ]
     },
     "metadata": {},
     "output_type": "display_data"
    }
   ],
   "source": [
    "\n",
    "\n",
    "summary_stats = merged_data.describe()\n",
    "\n",
    "fig = go.Figure()\n",
    "\n",
    "# Adding bars for each summary statistic\n",
    "for metric in ['Positive', 'Negative', 'Neutral', 'Compound', 'Close', 'Volume']:\n",
    "    fig.add_trace(go.Bar(\n",
    "        x=summary_stats.index,\n",
    "        y=summary_stats[metric],\n",
    "        name=metric\n",
    "    ))\n",
    "\n",
    "fig.update_layout(\n",
    "    title=\"Summary Statistics of Sentiment and Stock Metrics\",\n",
    "    xaxis_title=\"Statistic\",\n",
    "    yaxis_title=\"Value\",\n",
    "    barmode=\"group\",\n",
    "    template=\"plotly_white\"\n",
    ")\n",
    "\n",
    "# Display the figure\n",
    "fig.show()\n"
   ]
  },
  {
   "cell_type": "code",
   "execution_count": null,
   "id": "94f877a9-8c78-443e-beeb-47d85437167c",
   "metadata": {},
   "outputs": [],
   "source": []
  }
 ],
 "metadata": {
  "kernelspec": {
   "display_name": "Python 3 (ipykernel)",
   "language": "python",
   "name": "python3"
  },
  "language_info": {
   "codemirror_mode": {
    "name": "ipython",
    "version": 3
   },
   "file_extension": ".py",
   "mimetype": "text/x-python",
   "name": "python",
   "nbconvert_exporter": "python",
   "pygments_lexer": "ipython3",
   "version": "3.12.4"
  }
 },
 "nbformat": 4,
 "nbformat_minor": 5
}
